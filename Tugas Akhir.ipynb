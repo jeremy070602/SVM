{
 "cells": [
  {
   "attachments": {},
   "cell_type": "markdown",
   "metadata": {},
   "source": [
    "# Fraud Detection Analysis"
   ]
  },
  {
   "attachments": {},
   "cell_type": "markdown",
   "metadata": {},
   "source": [
    "### Library\n",
    "Import library yang akan digunakan dalam proses pemodelan"
   ]
  },
  {
   "cell_type": "code",
   "execution_count": 1,
   "metadata": {},
   "outputs": [],
   "source": [
    "import numpy as np # linear algebra\n",
    "import pandas as pd # data processing\n",
    "import seaborn as sns\n",
    "import time\n",
    "import matplotlib.pyplot as plt\n",
    "plt.style.use('seaborn')\n",
    "from scipy import stats\n",
    "import warnings # for supressing a warnindg when importing large files\n",
    "warnings.filterwarnings(\"ignore\")\n",
    "from sklearn.model_selection import train_test_split \n",
    "from sklearn.model_selection import cross_val_score\n",
    "from sklearn.model_selection import GridSearchCV\n",
    "from sklearn.model_selection import RandomizedSearchCV\n",
    "from sklearn.feature_selection import RFE\n",
    "from sklearn.preprocessing import RobustScaler\n",
    "from sklearn.inspection import permutation_importance\n",
    "from sklearn.svm import LinearSVC\n",
    "from sklearn.svm import SVC\n",
    "from sklearn.metrics import confusion_matrix\n",
    "from sklearn.metrics import classification_report\n",
    "from sklearn.metrics import ConfusionMatrixDisplay\n",
    "from sklearn.metrics import roc_auc_score\n",
    "from sklearn.metrics import roc_curve\n",
    "from imblearn.over_sampling import SMOTE\n",
    "from collections import Counter\n",
    "from skopt import BayesSearchCV\n",
    "from skopt.space import Real, Categorical, Integer\n",
    "from scipy.stats import uniform, randint, loguniform"
   ]
  },
  {
   "attachments": {},
   "cell_type": "markdown",
   "metadata": {},
   "source": [
    "### Import Dataset"
   ]
  },
  {
   "cell_type": "code",
   "execution_count": 2,
   "metadata": {},
   "outputs": [],
   "source": [
    "# Load train dataset\n",
    "train_beneficiary = pd.read_csv(\"Data\\Train_Beneficiarydata.csv\")\n",
    "train_inpatient = pd.read_csv(\"Data\\Train_Inpatientdata.csv\")\n",
    "train_outpatient = pd.read_csv(\"Data\\Train_Outpatientdata.csv\")\n",
    "train_provider = pd.read_csv(\"Data\\Train_Providerdata.csv\")"
   ]
  },
  {
   "cell_type": "code",
   "execution_count": 3,
   "metadata": {},
   "outputs": [],
   "source": [
    "# Load test dataset\n",
    "test_beneficiary = pd.read_csv(\"Data\\Test_Beneficiarydata.csv\")\n",
    "test_inpatient = pd.read_csv(\"Data\\Test_Inpatientdata.csv\")\n",
    "test_outpatient = pd.read_csv(\"Data\\Test_Outpatientdata.csv\")\n",
    "test_provider = pd.read_csv(\"Data\\Test_Providerdata.csv\")"
   ]
  },
  {
   "attachments": {},
   "cell_type": "markdown",
   "metadata": {},
   "source": [
    "## Data Understanding"
   ]
  },
  {
   "cell_type": "code",
   "execution_count": 4,
   "metadata": {},
   "outputs": [
    {
     "name": "stdout",
     "output_type": "stream",
     "text": [
      "Shape of Train_Provider data : (5410, 2)\n",
      "Shape of Train_Beneficiary data : (138556, 25)\n",
      "Shape of Train_Inpatient data : (40474, 30)\n",
      "Shape of Train_Outpatient data : (517737, 27)\n",
      "Shape of Test_Provider data : (1353, 1)\n",
      "Shape of Test_Beneficiary data : (63968, 25)\n",
      "Shape of Test_Inpatient data : (9551, 30)\n",
      "Shape of Test_Outpatient data : (125841, 27)\n"
     ]
    }
   ],
   "source": [
    "## Check Shape of Datasets\n",
    "\n",
    "print('Shape of Train_Provider data :',train_provider.shape)\n",
    "print('Shape of Train_Beneficiary data :',train_beneficiary.shape)\n",
    "print('Shape of Train_Inpatient data :',train_inpatient.shape)\n",
    "print('Shape of Train_Outpatient data :',train_outpatient.shape)\n",
    "\n",
    "print('Shape of Test_Provider data :',test_provider.shape)\n",
    "print('Shape of Test_Beneficiary data :',test_beneficiary.shape)\n",
    "print('Shape of Test_Inpatient data :',test_inpatient.shape)\n",
    "print('Shape of Test_Outpatient data :',test_outpatient.shape)"
   ]
  },
  {
   "attachments": {},
   "cell_type": "markdown",
   "metadata": {},
   "source": [
    "### Data Checking"
   ]
  },
  {
   "attachments": {},
   "cell_type": "markdown",
   "metadata": {},
   "source": [
    "##### Provider Data"
   ]
  },
  {
   "cell_type": "code",
   "execution_count": 5,
   "metadata": {},
   "outputs": [
    {
     "name": "stdout",
     "output_type": "stream",
     "text": [
      "Train_Provider Shape: (5410, 2)\n",
      "Train_Provider Sample Data:\n",
      "    Provider PotentialFraud\n",
      "0  PRV51001             No\n",
      "1  PRV51003            Yes \n",
      "\n",
      "Test_Provider Shape: (1353, 1)\n",
      "Test_Provider Sample Data: \n",
      "    Provider\n",
      "0  PRV51002\n",
      "1  PRV51006\n"
     ]
    }
   ],
   "source": [
    "## Check shape and sample of Train and Test Provider Data\n",
    "\n",
    "print('Train_Provider Shape:',train_provider.shape)\n",
    "print('Train_Provider Sample Data:\\n',train_provider.head(2),'\\n')\n",
    "\n",
    "print('Test_Provider Shape:',test_provider.shape)\n",
    "print('Test_Provider Sample Data: \\n',test_provider.head(2))"
   ]
  },
  {
   "cell_type": "code",
   "execution_count": 6,
   "metadata": {},
   "outputs": [
    {
     "name": "stdout",
     "output_type": "stream",
     "text": [
      "Duplicated value in Train Provider: False\n",
      "Duplicated value in Test Provider: False\n"
     ]
    }
   ],
   "source": [
    "# Check duplicated value\n",
    "print('Duplicated value in Train Provider:',train_provider.duplicated().any())\n",
    "print('Duplicated value in Test Provider:',test_provider.duplicated().any())"
   ]
  },
  {
   "cell_type": "code",
   "execution_count": 7,
   "metadata": {},
   "outputs": [
    {
     "name": "stdout",
     "output_type": "stream",
     "text": [
      "Total missing values in Train Provider : 0\n",
      "Total missing values in Test Provider : 0\n"
     ]
    }
   ],
   "source": [
    "# Check missing value\n",
    "print('Total missing values in Train Provider :',train_provider.isna().sum().sum())\n",
    "print('Total missing values in Test Provider :',test_provider.isna().sum().sum())"
   ]
  },
  {
   "attachments": {},
   "cell_type": "markdown",
   "metadata": {},
   "source": [
    "##### Beneficiary Data"
   ]
  },
  {
   "cell_type": "code",
   "execution_count": 8,
   "metadata": {},
   "outputs": [
    {
     "name": "stdout",
     "output_type": "stream",
     "text": [
      "Train_Beneficiary Shape: (138556, 25)\n",
      "Train_Beneficiary Sample:\n"
     ]
    },
    {
     "data": {
      "text/html": [
       "<div>\n",
       "<style scoped>\n",
       "    .dataframe tbody tr th:only-of-type {\n",
       "        vertical-align: middle;\n",
       "    }\n",
       "\n",
       "    .dataframe tbody tr th {\n",
       "        vertical-align: top;\n",
       "    }\n",
       "\n",
       "    .dataframe thead th {\n",
       "        text-align: right;\n",
       "    }\n",
       "</style>\n",
       "<table border=\"1\" class=\"dataframe\">\n",
       "  <thead>\n",
       "    <tr style=\"text-align: right;\">\n",
       "      <th></th>\n",
       "      <th>BeneID</th>\n",
       "      <th>DOB</th>\n",
       "      <th>DOD</th>\n",
       "      <th>Gender</th>\n",
       "      <th>Race</th>\n",
       "      <th>RenalDiseaseIndicator</th>\n",
       "      <th>State</th>\n",
       "      <th>County</th>\n",
       "      <th>NoOfMonths_PartACov</th>\n",
       "      <th>NoOfMonths_PartBCov</th>\n",
       "      <th>...</th>\n",
       "      <th>ChronicCond_Depression</th>\n",
       "      <th>ChronicCond_Diabetes</th>\n",
       "      <th>ChronicCond_IschemicHeart</th>\n",
       "      <th>ChronicCond_Osteoporasis</th>\n",
       "      <th>ChronicCond_rheumatoidarthritis</th>\n",
       "      <th>ChronicCond_stroke</th>\n",
       "      <th>IPAnnualReimbursementAmt</th>\n",
       "      <th>IPAnnualDeductibleAmt</th>\n",
       "      <th>OPAnnualReimbursementAmt</th>\n",
       "      <th>OPAnnualDeductibleAmt</th>\n",
       "    </tr>\n",
       "  </thead>\n",
       "  <tbody>\n",
       "    <tr>\n",
       "      <th>0</th>\n",
       "      <td>BENE11001</td>\n",
       "      <td>1943-01-01</td>\n",
       "      <td>NaN</td>\n",
       "      <td>1</td>\n",
       "      <td>1</td>\n",
       "      <td>0</td>\n",
       "      <td>39</td>\n",
       "      <td>230</td>\n",
       "      <td>12</td>\n",
       "      <td>12</td>\n",
       "      <td>...</td>\n",
       "      <td>1</td>\n",
       "      <td>1</td>\n",
       "      <td>1</td>\n",
       "      <td>2</td>\n",
       "      <td>1</td>\n",
       "      <td>1</td>\n",
       "      <td>36000</td>\n",
       "      <td>3204</td>\n",
       "      <td>60</td>\n",
       "      <td>70</td>\n",
       "    </tr>\n",
       "    <tr>\n",
       "      <th>1</th>\n",
       "      <td>BENE11002</td>\n",
       "      <td>1936-09-01</td>\n",
       "      <td>NaN</td>\n",
       "      <td>2</td>\n",
       "      <td>1</td>\n",
       "      <td>0</td>\n",
       "      <td>39</td>\n",
       "      <td>280</td>\n",
       "      <td>12</td>\n",
       "      <td>12</td>\n",
       "      <td>...</td>\n",
       "      <td>2</td>\n",
       "      <td>2</td>\n",
       "      <td>2</td>\n",
       "      <td>2</td>\n",
       "      <td>2</td>\n",
       "      <td>2</td>\n",
       "      <td>0</td>\n",
       "      <td>0</td>\n",
       "      <td>30</td>\n",
       "      <td>50</td>\n",
       "    </tr>\n",
       "  </tbody>\n",
       "</table>\n",
       "<p>2 rows × 25 columns</p>\n",
       "</div>"
      ],
      "text/plain": [
       "      BeneID         DOB  DOD  Gender  Race RenalDiseaseIndicator  State  \\\n",
       "0  BENE11001  1943-01-01  NaN       1     1                     0     39   \n",
       "1  BENE11002  1936-09-01  NaN       2     1                     0     39   \n",
       "\n",
       "   County  NoOfMonths_PartACov  NoOfMonths_PartBCov  ...  \\\n",
       "0     230                   12                   12  ...   \n",
       "1     280                   12                   12  ...   \n",
       "\n",
       "   ChronicCond_Depression  ChronicCond_Diabetes  ChronicCond_IschemicHeart  \\\n",
       "0                       1                     1                          1   \n",
       "1                       2                     2                          2   \n",
       "\n",
       "   ChronicCond_Osteoporasis  ChronicCond_rheumatoidarthritis  \\\n",
       "0                         2                                1   \n",
       "1                         2                                2   \n",
       "\n",
       "   ChronicCond_stroke  IPAnnualReimbursementAmt  IPAnnualDeductibleAmt  \\\n",
       "0                   1                     36000                   3204   \n",
       "1                   2                         0                      0   \n",
       "\n",
       "   OPAnnualReimbursementAmt  OPAnnualDeductibleAmt  \n",
       "0                        60                     70  \n",
       "1                        30                     50  \n",
       "\n",
       "[2 rows x 25 columns]"
      ]
     },
     "execution_count": 8,
     "metadata": {},
     "output_type": "execute_result"
    }
   ],
   "source": [
    "## Check shape and sample of Train Beneficiary Data\n",
    "\n",
    "print('Train_Beneficiary Shape:',train_beneficiary.shape)\n",
    "print('Train_Beneficiary Sample:')\n",
    "train_beneficiary.head(2)"
   ]
  },
  {
   "cell_type": "code",
   "execution_count": 9,
   "metadata": {},
   "outputs": [
    {
     "name": "stdout",
     "output_type": "stream",
     "text": [
      "Test_Beneficiary Shape: (63968, 25)\n",
      "Test_Beneficiary Sample:\n"
     ]
    },
    {
     "data": {
      "text/html": [
       "<div>\n",
       "<style scoped>\n",
       "    .dataframe tbody tr th:only-of-type {\n",
       "        vertical-align: middle;\n",
       "    }\n",
       "\n",
       "    .dataframe tbody tr th {\n",
       "        vertical-align: top;\n",
       "    }\n",
       "\n",
       "    .dataframe thead th {\n",
       "        text-align: right;\n",
       "    }\n",
       "</style>\n",
       "<table border=\"1\" class=\"dataframe\">\n",
       "  <thead>\n",
       "    <tr style=\"text-align: right;\">\n",
       "      <th></th>\n",
       "      <th>BeneID</th>\n",
       "      <th>DOB</th>\n",
       "      <th>DOD</th>\n",
       "      <th>Gender</th>\n",
       "      <th>Race</th>\n",
       "      <th>RenalDiseaseIndicator</th>\n",
       "      <th>State</th>\n",
       "      <th>County</th>\n",
       "      <th>NoOfMonths_PartACov</th>\n",
       "      <th>NoOfMonths_PartBCov</th>\n",
       "      <th>...</th>\n",
       "      <th>ChronicCond_Depression</th>\n",
       "      <th>ChronicCond_Diabetes</th>\n",
       "      <th>ChronicCond_IschemicHeart</th>\n",
       "      <th>ChronicCond_Osteoporasis</th>\n",
       "      <th>ChronicCond_rheumatoidarthritis</th>\n",
       "      <th>ChronicCond_stroke</th>\n",
       "      <th>IPAnnualReimbursementAmt</th>\n",
       "      <th>IPAnnualDeductibleAmt</th>\n",
       "      <th>OPAnnualReimbursementAmt</th>\n",
       "      <th>OPAnnualDeductibleAmt</th>\n",
       "    </tr>\n",
       "  </thead>\n",
       "  <tbody>\n",
       "    <tr>\n",
       "      <th>0</th>\n",
       "      <td>BENE11001</td>\n",
       "      <td>1943-01-01</td>\n",
       "      <td>NaN</td>\n",
       "      <td>1</td>\n",
       "      <td>1</td>\n",
       "      <td>0</td>\n",
       "      <td>39</td>\n",
       "      <td>230</td>\n",
       "      <td>12</td>\n",
       "      <td>12</td>\n",
       "      <td>...</td>\n",
       "      <td>1</td>\n",
       "      <td>1</td>\n",
       "      <td>1</td>\n",
       "      <td>2</td>\n",
       "      <td>1</td>\n",
       "      <td>1</td>\n",
       "      <td>36000</td>\n",
       "      <td>3204</td>\n",
       "      <td>60</td>\n",
       "      <td>70</td>\n",
       "    </tr>\n",
       "    <tr>\n",
       "      <th>1</th>\n",
       "      <td>BENE11007</td>\n",
       "      <td>1940-09-01</td>\n",
       "      <td>2009-12-01</td>\n",
       "      <td>1</td>\n",
       "      <td>2</td>\n",
       "      <td>0</td>\n",
       "      <td>45</td>\n",
       "      <td>610</td>\n",
       "      <td>12</td>\n",
       "      <td>12</td>\n",
       "      <td>...</td>\n",
       "      <td>2</td>\n",
       "      <td>1</td>\n",
       "      <td>2</td>\n",
       "      <td>1</td>\n",
       "      <td>1</td>\n",
       "      <td>2</td>\n",
       "      <td>0</td>\n",
       "      <td>0</td>\n",
       "      <td>1490</td>\n",
       "      <td>160</td>\n",
       "    </tr>\n",
       "  </tbody>\n",
       "</table>\n",
       "<p>2 rows × 25 columns</p>\n",
       "</div>"
      ],
      "text/plain": [
       "      BeneID         DOB         DOD  Gender  Race RenalDiseaseIndicator  \\\n",
       "0  BENE11001  1943-01-01         NaN       1     1                     0   \n",
       "1  BENE11007  1940-09-01  2009-12-01       1     2                     0   \n",
       "\n",
       "   State  County  NoOfMonths_PartACov  NoOfMonths_PartBCov  ...  \\\n",
       "0     39     230                   12                   12  ...   \n",
       "1     45     610                   12                   12  ...   \n",
       "\n",
       "   ChronicCond_Depression  ChronicCond_Diabetes  ChronicCond_IschemicHeart  \\\n",
       "0                       1                     1                          1   \n",
       "1                       2                     1                          2   \n",
       "\n",
       "   ChronicCond_Osteoporasis  ChronicCond_rheumatoidarthritis  \\\n",
       "0                         2                                1   \n",
       "1                         1                                1   \n",
       "\n",
       "   ChronicCond_stroke  IPAnnualReimbursementAmt  IPAnnualDeductibleAmt  \\\n",
       "0                   1                     36000                   3204   \n",
       "1                   2                         0                      0   \n",
       "\n",
       "   OPAnnualReimbursementAmt  OPAnnualDeductibleAmt  \n",
       "0                        60                     70  \n",
       "1                      1490                    160  \n",
       "\n",
       "[2 rows x 25 columns]"
      ]
     },
     "execution_count": 9,
     "metadata": {},
     "output_type": "execute_result"
    }
   ],
   "source": [
    "## Check shape and sample of Test Beneficiary Data\n",
    "\n",
    "print('Test_Beneficiary Shape:',test_beneficiary.shape)\n",
    "print('Test_Beneficiary Sample:')\n",
    "test_beneficiary.head(2)"
   ]
  },
  {
   "cell_type": "code",
   "execution_count": 10,
   "metadata": {},
   "outputs": [
    {
     "name": "stdout",
     "output_type": "stream",
     "text": [
      "Duplicated value in Train Beneficiary: False\n",
      "Duplicated value in Test Beneficiary: False\n"
     ]
    }
   ],
   "source": [
    "# Check duplicated value\n",
    "print('Duplicated value in Train Beneficiary:',train_beneficiary.duplicated().any())\n",
    "print('Duplicated value in Test Beneficiary:',test_beneficiary.duplicated().any())"
   ]
  },
  {
   "cell_type": "code",
   "execution_count": 11,
   "metadata": {},
   "outputs": [
    {
     "name": "stdout",
     "output_type": "stream",
     "text": [
      "Total missing values in Train Beneficiary : 137135\n",
      "Total missing values in Test Beneficiary : 63394\n"
     ]
    }
   ],
   "source": [
    "# Check missing value\n",
    "print('Total missing values in Train Beneficiary :',train_beneficiary.isna().sum().sum())\n",
    "print('Total missing values in Test Beneficiary :',test_beneficiary.isna().sum().sum())"
   ]
  },
  {
   "cell_type": "code",
   "execution_count": 12,
   "metadata": {},
   "outputs": [
    {
     "data": {
      "text/plain": [
       "BeneID                                  0\n",
       "DOB                                     0\n",
       "DOD                                137135\n",
       "Gender                                  0\n",
       "Race                                    0\n",
       "RenalDiseaseIndicator                   0\n",
       "State                                   0\n",
       "County                                  0\n",
       "NoOfMonths_PartACov                     0\n",
       "NoOfMonths_PartBCov                     0\n",
       "ChronicCond_Alzheimer                   0\n",
       "ChronicCond_Heartfailure                0\n",
       "ChronicCond_KidneyDisease               0\n",
       "ChronicCond_Cancer                      0\n",
       "ChronicCond_ObstrPulmonary              0\n",
       "ChronicCond_Depression                  0\n",
       "ChronicCond_Diabetes                    0\n",
       "ChronicCond_IschemicHeart               0\n",
       "ChronicCond_Osteoporasis                0\n",
       "ChronicCond_rheumatoidarthritis         0\n",
       "ChronicCond_stroke                      0\n",
       "IPAnnualReimbursementAmt                0\n",
       "IPAnnualDeductibleAmt                   0\n",
       "OPAnnualReimbursementAmt                0\n",
       "OPAnnualDeductibleAmt                   0\n",
       "dtype: int64"
      ]
     },
     "execution_count": 12,
     "metadata": {},
     "output_type": "execute_result"
    }
   ],
   "source": [
    "# Check missing value per column in Train Beneficiary Data\n",
    "train_beneficiary.isna().sum()"
   ]
  },
  {
   "cell_type": "code",
   "execution_count": 13,
   "metadata": {},
   "outputs": [
    {
     "data": {
      "text/plain": [
       "BeneID                                 0\n",
       "DOB                                    0\n",
       "DOD                                63394\n",
       "Gender                                 0\n",
       "Race                                   0\n",
       "RenalDiseaseIndicator                  0\n",
       "State                                  0\n",
       "County                                 0\n",
       "NoOfMonths_PartACov                    0\n",
       "NoOfMonths_PartBCov                    0\n",
       "ChronicCond_Alzheimer                  0\n",
       "ChronicCond_Heartfailure               0\n",
       "ChronicCond_KidneyDisease              0\n",
       "ChronicCond_Cancer                     0\n",
       "ChronicCond_ObstrPulmonary             0\n",
       "ChronicCond_Depression                 0\n",
       "ChronicCond_Diabetes                   0\n",
       "ChronicCond_IschemicHeart              0\n",
       "ChronicCond_Osteoporasis               0\n",
       "ChronicCond_rheumatoidarthritis        0\n",
       "ChronicCond_stroke                     0\n",
       "IPAnnualReimbursementAmt               0\n",
       "IPAnnualDeductibleAmt                  0\n",
       "OPAnnualReimbursementAmt               0\n",
       "OPAnnualDeductibleAmt                  0\n",
       "dtype: int64"
      ]
     },
     "execution_count": 13,
     "metadata": {},
     "output_type": "execute_result"
    }
   ],
   "source": [
    "# Check missing value per column in Test Beneficiary Data\n",
    "test_beneficiary.isna().sum()"
   ]
  },
  {
   "attachments": {},
   "cell_type": "markdown",
   "metadata": {},
   "source": [
    "- We see that missing value is the Date of Death (DOD) columns which means that the beneficiary is still alive. Later we will use this information to create variable that indicate whether the beneficiary is still alive or not."
   ]
  },
  {
   "attachments": {},
   "cell_type": "markdown",
   "metadata": {},
   "source": [
    "##### Inpatient Data"
   ]
  },
  {
   "cell_type": "code",
   "execution_count": 14,
   "metadata": {},
   "outputs": [
    {
     "name": "stdout",
     "output_type": "stream",
     "text": [
      "Train_Inpatient Shape: (40474, 30)\n",
      "Train_Inpatient Sample:\n"
     ]
    },
    {
     "data": {
      "text/html": [
       "<div>\n",
       "<style scoped>\n",
       "    .dataframe tbody tr th:only-of-type {\n",
       "        vertical-align: middle;\n",
       "    }\n",
       "\n",
       "    .dataframe tbody tr th {\n",
       "        vertical-align: top;\n",
       "    }\n",
       "\n",
       "    .dataframe thead th {\n",
       "        text-align: right;\n",
       "    }\n",
       "</style>\n",
       "<table border=\"1\" class=\"dataframe\">\n",
       "  <thead>\n",
       "    <tr style=\"text-align: right;\">\n",
       "      <th></th>\n",
       "      <th>BeneID</th>\n",
       "      <th>ClaimID</th>\n",
       "      <th>ClaimStartDt</th>\n",
       "      <th>ClaimEndDt</th>\n",
       "      <th>Provider</th>\n",
       "      <th>InscClaimAmtReimbursed</th>\n",
       "      <th>AttendingPhysician</th>\n",
       "      <th>OperatingPhysician</th>\n",
       "      <th>OtherPhysician</th>\n",
       "      <th>AdmissionDt</th>\n",
       "      <th>...</th>\n",
       "      <th>ClmDiagnosisCode_7</th>\n",
       "      <th>ClmDiagnosisCode_8</th>\n",
       "      <th>ClmDiagnosisCode_9</th>\n",
       "      <th>ClmDiagnosisCode_10</th>\n",
       "      <th>ClmProcedureCode_1</th>\n",
       "      <th>ClmProcedureCode_2</th>\n",
       "      <th>ClmProcedureCode_3</th>\n",
       "      <th>ClmProcedureCode_4</th>\n",
       "      <th>ClmProcedureCode_5</th>\n",
       "      <th>ClmProcedureCode_6</th>\n",
       "    </tr>\n",
       "  </thead>\n",
       "  <tbody>\n",
       "    <tr>\n",
       "      <th>0</th>\n",
       "      <td>BENE11001</td>\n",
       "      <td>CLM46614</td>\n",
       "      <td>2009-04-12</td>\n",
       "      <td>2009-04-18</td>\n",
       "      <td>PRV55912</td>\n",
       "      <td>26000</td>\n",
       "      <td>PHY390922</td>\n",
       "      <td>NaN</td>\n",
       "      <td>NaN</td>\n",
       "      <td>2009-04-12</td>\n",
       "      <td>...</td>\n",
       "      <td>2724</td>\n",
       "      <td>19889</td>\n",
       "      <td>5849</td>\n",
       "      <td>NaN</td>\n",
       "      <td>NaN</td>\n",
       "      <td>NaN</td>\n",
       "      <td>NaN</td>\n",
       "      <td>NaN</td>\n",
       "      <td>NaN</td>\n",
       "      <td>NaN</td>\n",
       "    </tr>\n",
       "    <tr>\n",
       "      <th>1</th>\n",
       "      <td>BENE11001</td>\n",
       "      <td>CLM66048</td>\n",
       "      <td>2009-08-31</td>\n",
       "      <td>2009-09-02</td>\n",
       "      <td>PRV55907</td>\n",
       "      <td>5000</td>\n",
       "      <td>PHY318495</td>\n",
       "      <td>PHY318495</td>\n",
       "      <td>NaN</td>\n",
       "      <td>2009-08-31</td>\n",
       "      <td>...</td>\n",
       "      <td>NaN</td>\n",
       "      <td>NaN</td>\n",
       "      <td>NaN</td>\n",
       "      <td>NaN</td>\n",
       "      <td>7092.0</td>\n",
       "      <td>NaN</td>\n",
       "      <td>NaN</td>\n",
       "      <td>NaN</td>\n",
       "      <td>NaN</td>\n",
       "      <td>NaN</td>\n",
       "    </tr>\n",
       "  </tbody>\n",
       "</table>\n",
       "<p>2 rows × 30 columns</p>\n",
       "</div>"
      ],
      "text/plain": [
       "      BeneID   ClaimID ClaimStartDt  ClaimEndDt  Provider  \\\n",
       "0  BENE11001  CLM46614   2009-04-12  2009-04-18  PRV55912   \n",
       "1  BENE11001  CLM66048   2009-08-31  2009-09-02  PRV55907   \n",
       "\n",
       "   InscClaimAmtReimbursed AttendingPhysician OperatingPhysician  \\\n",
       "0                   26000          PHY390922                NaN   \n",
       "1                    5000          PHY318495          PHY318495   \n",
       "\n",
       "  OtherPhysician AdmissionDt  ... ClmDiagnosisCode_7  ClmDiagnosisCode_8  \\\n",
       "0            NaN  2009-04-12  ...               2724               19889   \n",
       "1            NaN  2009-08-31  ...                NaN                 NaN   \n",
       "\n",
       "  ClmDiagnosisCode_9 ClmDiagnosisCode_10 ClmProcedureCode_1  \\\n",
       "0               5849                 NaN                NaN   \n",
       "1                NaN                 NaN             7092.0   \n",
       "\n",
       "  ClmProcedureCode_2 ClmProcedureCode_3 ClmProcedureCode_4 ClmProcedureCode_5  \\\n",
       "0                NaN                NaN                NaN                NaN   \n",
       "1                NaN                NaN                NaN                NaN   \n",
       "\n",
       "  ClmProcedureCode_6  \n",
       "0                NaN  \n",
       "1                NaN  \n",
       "\n",
       "[2 rows x 30 columns]"
      ]
     },
     "execution_count": 14,
     "metadata": {},
     "output_type": "execute_result"
    }
   ],
   "source": [
    "## Check shape and sample of Train Inpatient Data\n",
    "\n",
    "print('Train_Inpatient Shape:',train_inpatient.shape)\n",
    "print('Train_Inpatient Sample:')\n",
    "train_inpatient.head(2)"
   ]
  },
  {
   "cell_type": "code",
   "execution_count": 15,
   "metadata": {},
   "outputs": [
    {
     "name": "stdout",
     "output_type": "stream",
     "text": [
      "Test_Inpatient Shape: (9551, 30)\n",
      "Test_Inpatient Sample:\n"
     ]
    },
    {
     "data": {
      "text/html": [
       "<div>\n",
       "<style scoped>\n",
       "    .dataframe tbody tr th:only-of-type {\n",
       "        vertical-align: middle;\n",
       "    }\n",
       "\n",
       "    .dataframe tbody tr th {\n",
       "        vertical-align: top;\n",
       "    }\n",
       "\n",
       "    .dataframe thead th {\n",
       "        text-align: right;\n",
       "    }\n",
       "</style>\n",
       "<table border=\"1\" class=\"dataframe\">\n",
       "  <thead>\n",
       "    <tr style=\"text-align: right;\">\n",
       "      <th></th>\n",
       "      <th>BeneID</th>\n",
       "      <th>ClaimID</th>\n",
       "      <th>ClaimStartDt</th>\n",
       "      <th>ClaimEndDt</th>\n",
       "      <th>Provider</th>\n",
       "      <th>InscClaimAmtReimbursed</th>\n",
       "      <th>AttendingPhysician</th>\n",
       "      <th>OperatingPhysician</th>\n",
       "      <th>OtherPhysician</th>\n",
       "      <th>AdmissionDt</th>\n",
       "      <th>...</th>\n",
       "      <th>ClmDiagnosisCode_7</th>\n",
       "      <th>ClmDiagnosisCode_8</th>\n",
       "      <th>ClmDiagnosisCode_9</th>\n",
       "      <th>ClmDiagnosisCode_10</th>\n",
       "      <th>ClmProcedureCode_1</th>\n",
       "      <th>ClmProcedureCode_2</th>\n",
       "      <th>ClmProcedureCode_3</th>\n",
       "      <th>ClmProcedureCode_4</th>\n",
       "      <th>ClmProcedureCode_5</th>\n",
       "      <th>ClmProcedureCode_6</th>\n",
       "    </tr>\n",
       "  </thead>\n",
       "  <tbody>\n",
       "    <tr>\n",
       "      <th>0</th>\n",
       "      <td>BENE11014</td>\n",
       "      <td>CLM67387</td>\n",
       "      <td>2009-09-09</td>\n",
       "      <td>2009-09-16</td>\n",
       "      <td>PRV57070</td>\n",
       "      <td>9000</td>\n",
       "      <td>PHY317786</td>\n",
       "      <td>PHY427017</td>\n",
       "      <td>NaN</td>\n",
       "      <td>2009-09-09</td>\n",
       "      <td>...</td>\n",
       "      <td>5990</td>\n",
       "      <td>570</td>\n",
       "      <td>41071</td>\n",
       "      <td>4280</td>\n",
       "      <td>4443.0</td>\n",
       "      <td>5849.0</td>\n",
       "      <td>NaN</td>\n",
       "      <td>NaN</td>\n",
       "      <td>NaN</td>\n",
       "      <td>NaN</td>\n",
       "    </tr>\n",
       "    <tr>\n",
       "      <th>1</th>\n",
       "      <td>BENE11017</td>\n",
       "      <td>CLM31237</td>\n",
       "      <td>2008-12-25</td>\n",
       "      <td>2009-01-08</td>\n",
       "      <td>PRV54750</td>\n",
       "      <td>14000</td>\n",
       "      <td>PHY314656</td>\n",
       "      <td>PHY426644</td>\n",
       "      <td>NaN</td>\n",
       "      <td>2008-12-25</td>\n",
       "      <td>...</td>\n",
       "      <td>4549</td>\n",
       "      <td>29570</td>\n",
       "      <td>34831</td>\n",
       "      <td>NaN</td>\n",
       "      <td>5551.0</td>\n",
       "      <td>NaN</td>\n",
       "      <td>NaN</td>\n",
       "      <td>NaN</td>\n",
       "      <td>NaN</td>\n",
       "      <td>NaN</td>\n",
       "    </tr>\n",
       "  </tbody>\n",
       "</table>\n",
       "<p>2 rows × 30 columns</p>\n",
       "</div>"
      ],
      "text/plain": [
       "      BeneID   ClaimID ClaimStartDt  ClaimEndDt  Provider  \\\n",
       "0  BENE11014  CLM67387   2009-09-09  2009-09-16  PRV57070   \n",
       "1  BENE11017  CLM31237   2008-12-25  2009-01-08  PRV54750   \n",
       "\n",
       "   InscClaimAmtReimbursed AttendingPhysician OperatingPhysician  \\\n",
       "0                    9000          PHY317786          PHY427017   \n",
       "1                   14000          PHY314656          PHY426644   \n",
       "\n",
       "  OtherPhysician AdmissionDt  ... ClmDiagnosisCode_7  ClmDiagnosisCode_8  \\\n",
       "0            NaN  2009-09-09  ...               5990                 570   \n",
       "1            NaN  2008-12-25  ...               4549               29570   \n",
       "\n",
       "  ClmDiagnosisCode_9 ClmDiagnosisCode_10 ClmProcedureCode_1  \\\n",
       "0              41071                4280             4443.0   \n",
       "1              34831                 NaN             5551.0   \n",
       "\n",
       "  ClmProcedureCode_2 ClmProcedureCode_3 ClmProcedureCode_4 ClmProcedureCode_5  \\\n",
       "0             5849.0                NaN                NaN                NaN   \n",
       "1                NaN                NaN                NaN                NaN   \n",
       "\n",
       "  ClmProcedureCode_6  \n",
       "0                NaN  \n",
       "1                NaN  \n",
       "\n",
       "[2 rows x 30 columns]"
      ]
     },
     "execution_count": 15,
     "metadata": {},
     "output_type": "execute_result"
    }
   ],
   "source": [
    "## Check shape and sample of Test Inpatient Data\n",
    "\n",
    "print('Test_Inpatient Shape:',test_inpatient.shape)\n",
    "print('Test_Inpatient Sample:')\n",
    "test_inpatient.head(2)"
   ]
  },
  {
   "cell_type": "code",
   "execution_count": 16,
   "metadata": {},
   "outputs": [
    {
     "name": "stdout",
     "output_type": "stream",
     "text": [
      "Duplicated value in Train Inpatient: False\n",
      "Duplicated value in Test Inpatient: False\n"
     ]
    }
   ],
   "source": [
    "# Check duplicated value\n",
    "print('Duplicated value in Train Inpatient:',train_inpatient.duplicated().any())\n",
    "print('Duplicated value in Test Inpatient:',test_inpatient.duplicated().any())"
   ]
  },
  {
   "cell_type": "code",
   "execution_count": 17,
   "metadata": {},
   "outputs": [
    {
     "name": "stdout",
     "output_type": "stream",
     "text": [
      "Total missing values in Train Inpatient : 344003\n",
      "Total missing values in Test Inpatient : 81633\n"
     ]
    }
   ],
   "source": [
    "# Check missing value\n",
    "print('Total missing values in Train Inpatient :',train_inpatient.isna().sum().sum())\n",
    "print('Total missing values in Test Inpatient :',test_inpatient.isna().sum().sum())"
   ]
  },
  {
   "cell_type": "code",
   "execution_count": 18,
   "metadata": {},
   "outputs": [
    {
     "data": {
      "text/plain": [
       "BeneID                        0\n",
       "ClaimID                       0\n",
       "ClaimStartDt                  0\n",
       "ClaimEndDt                    0\n",
       "Provider                      0\n",
       "InscClaimAmtReimbursed        0\n",
       "AttendingPhysician          112\n",
       "OperatingPhysician        16644\n",
       "OtherPhysician            35784\n",
       "AdmissionDt                   0\n",
       "ClmAdmitDiagnosisCode         0\n",
       "DeductibleAmtPaid           899\n",
       "DischargeDt                   0\n",
       "DiagnosisGroupCode            0\n",
       "ClmDiagnosisCode_1            0\n",
       "ClmDiagnosisCode_2          226\n",
       "ClmDiagnosisCode_3          676\n",
       "ClmDiagnosisCode_4         1534\n",
       "ClmDiagnosisCode_5         2894\n",
       "ClmDiagnosisCode_6         4838\n",
       "ClmDiagnosisCode_7         7258\n",
       "ClmDiagnosisCode_8         9942\n",
       "ClmDiagnosisCode_9        13497\n",
       "ClmDiagnosisCode_10       36547\n",
       "ClmProcedureCode_1        17326\n",
       "ClmProcedureCode_2        35020\n",
       "ClmProcedureCode_3        39509\n",
       "ClmProcedureCode_4        40358\n",
       "ClmProcedureCode_5        40465\n",
       "ClmProcedureCode_6        40474\n",
       "dtype: int64"
      ]
     },
     "execution_count": 18,
     "metadata": {},
     "output_type": "execute_result"
    }
   ],
   "source": [
    "# Check missing value per column in Train Inpatient Data\n",
    "train_inpatient.isna().sum()"
   ]
  },
  {
   "cell_type": "code",
   "execution_count": 19,
   "metadata": {},
   "outputs": [
    {
     "data": {
      "text/plain": [
       "BeneID                       0\n",
       "ClaimID                      0\n",
       "ClaimStartDt                 0\n",
       "ClaimEndDt                   0\n",
       "Provider                     0\n",
       "InscClaimAmtReimbursed       0\n",
       "AttendingPhysician          31\n",
       "OperatingPhysician        3962\n",
       "OtherPhysician            8538\n",
       "AdmissionDt                  0\n",
       "ClmAdmitDiagnosisCode        0\n",
       "DeductibleAmtPaid          196\n",
       "DischargeDt                  0\n",
       "DiagnosisGroupCode           0\n",
       "ClmDiagnosisCode_1           0\n",
       "ClmDiagnosisCode_2          54\n",
       "ClmDiagnosisCode_3         169\n",
       "ClmDiagnosisCode_4         404\n",
       "ClmDiagnosisCode_5         719\n",
       "ClmDiagnosisCode_6        1197\n",
       "ClmDiagnosisCode_7        1736\n",
       "ClmDiagnosisCode_8        2360\n",
       "ClmDiagnosisCode_9        3238\n",
       "ClmDiagnosisCode_10       8664\n",
       "ClmProcedureCode_1        4118\n",
       "ClmProcedureCode_2        8297\n",
       "ClmProcedureCode_3        9328\n",
       "ClmProcedureCode_4        9522\n",
       "ClmProcedureCode_5        9549\n",
       "ClmProcedureCode_6        9551\n",
       "dtype: int64"
      ]
     },
     "execution_count": 19,
     "metadata": {},
     "output_type": "execute_result"
    }
   ],
   "source": [
    "# Check missing value per column in Test Inpatient Data\n",
    "test_inpatient.isna().sum()"
   ]
  },
  {
   "attachments": {},
   "cell_type": "markdown",
   "metadata": {},
   "source": [
    "- Some of the missing value make sense. For example, there must be at least 1 diagnosis code. So, if some patient only have 1, it's normal. The same logic applies to procedure code, which maybe some of the patient do not receive medical procedure."
   ]
  },
  {
   "attachments": {},
   "cell_type": "markdown",
   "metadata": {},
   "source": [
    "##### Outpatient Data"
   ]
  },
  {
   "cell_type": "code",
   "execution_count": 20,
   "metadata": {},
   "outputs": [
    {
     "name": "stdout",
     "output_type": "stream",
     "text": [
      "Train_outpatient Shape: (517737, 27)\n",
      "Train_outpatient Sample:\n"
     ]
    },
    {
     "data": {
      "text/html": [
       "<div>\n",
       "<style scoped>\n",
       "    .dataframe tbody tr th:only-of-type {\n",
       "        vertical-align: middle;\n",
       "    }\n",
       "\n",
       "    .dataframe tbody tr th {\n",
       "        vertical-align: top;\n",
       "    }\n",
       "\n",
       "    .dataframe thead th {\n",
       "        text-align: right;\n",
       "    }\n",
       "</style>\n",
       "<table border=\"1\" class=\"dataframe\">\n",
       "  <thead>\n",
       "    <tr style=\"text-align: right;\">\n",
       "      <th></th>\n",
       "      <th>BeneID</th>\n",
       "      <th>ClaimID</th>\n",
       "      <th>ClaimStartDt</th>\n",
       "      <th>ClaimEndDt</th>\n",
       "      <th>Provider</th>\n",
       "      <th>InscClaimAmtReimbursed</th>\n",
       "      <th>AttendingPhysician</th>\n",
       "      <th>OperatingPhysician</th>\n",
       "      <th>OtherPhysician</th>\n",
       "      <th>ClmDiagnosisCode_1</th>\n",
       "      <th>...</th>\n",
       "      <th>ClmDiagnosisCode_9</th>\n",
       "      <th>ClmDiagnosisCode_10</th>\n",
       "      <th>ClmProcedureCode_1</th>\n",
       "      <th>ClmProcedureCode_2</th>\n",
       "      <th>ClmProcedureCode_3</th>\n",
       "      <th>ClmProcedureCode_4</th>\n",
       "      <th>ClmProcedureCode_5</th>\n",
       "      <th>ClmProcedureCode_6</th>\n",
       "      <th>DeductibleAmtPaid</th>\n",
       "      <th>ClmAdmitDiagnosisCode</th>\n",
       "    </tr>\n",
       "  </thead>\n",
       "  <tbody>\n",
       "    <tr>\n",
       "      <th>0</th>\n",
       "      <td>BENE11002</td>\n",
       "      <td>CLM624349</td>\n",
       "      <td>2009-10-11</td>\n",
       "      <td>2009-10-11</td>\n",
       "      <td>PRV56011</td>\n",
       "      <td>30</td>\n",
       "      <td>PHY326117</td>\n",
       "      <td>NaN</td>\n",
       "      <td>NaN</td>\n",
       "      <td>78943</td>\n",
       "      <td>...</td>\n",
       "      <td>NaN</td>\n",
       "      <td>NaN</td>\n",
       "      <td>NaN</td>\n",
       "      <td>NaN</td>\n",
       "      <td>NaN</td>\n",
       "      <td>NaN</td>\n",
       "      <td>NaN</td>\n",
       "      <td>NaN</td>\n",
       "      <td>0</td>\n",
       "      <td>56409</td>\n",
       "    </tr>\n",
       "    <tr>\n",
       "      <th>1</th>\n",
       "      <td>BENE11003</td>\n",
       "      <td>CLM189947</td>\n",
       "      <td>2009-02-12</td>\n",
       "      <td>2009-02-12</td>\n",
       "      <td>PRV57610</td>\n",
       "      <td>80</td>\n",
       "      <td>PHY362868</td>\n",
       "      <td>NaN</td>\n",
       "      <td>NaN</td>\n",
       "      <td>6115</td>\n",
       "      <td>...</td>\n",
       "      <td>NaN</td>\n",
       "      <td>NaN</td>\n",
       "      <td>NaN</td>\n",
       "      <td>NaN</td>\n",
       "      <td>NaN</td>\n",
       "      <td>NaN</td>\n",
       "      <td>NaN</td>\n",
       "      <td>NaN</td>\n",
       "      <td>0</td>\n",
       "      <td>79380</td>\n",
       "    </tr>\n",
       "  </tbody>\n",
       "</table>\n",
       "<p>2 rows × 27 columns</p>\n",
       "</div>"
      ],
      "text/plain": [
       "      BeneID    ClaimID ClaimStartDt  ClaimEndDt  Provider  \\\n",
       "0  BENE11002  CLM624349   2009-10-11  2009-10-11  PRV56011   \n",
       "1  BENE11003  CLM189947   2009-02-12  2009-02-12  PRV57610   \n",
       "\n",
       "   InscClaimAmtReimbursed AttendingPhysician OperatingPhysician  \\\n",
       "0                      30          PHY326117                NaN   \n",
       "1                      80          PHY362868                NaN   \n",
       "\n",
       "  OtherPhysician ClmDiagnosisCode_1  ... ClmDiagnosisCode_9  \\\n",
       "0            NaN              78943  ...                NaN   \n",
       "1            NaN               6115  ...                NaN   \n",
       "\n",
       "  ClmDiagnosisCode_10 ClmProcedureCode_1 ClmProcedureCode_2  \\\n",
       "0                 NaN                NaN                NaN   \n",
       "1                 NaN                NaN                NaN   \n",
       "\n",
       "  ClmProcedureCode_3 ClmProcedureCode_4 ClmProcedureCode_5 ClmProcedureCode_6  \\\n",
       "0                NaN                NaN                NaN                NaN   \n",
       "1                NaN                NaN                NaN                NaN   \n",
       "\n",
       "  DeductibleAmtPaid  ClmAdmitDiagnosisCode  \n",
       "0                 0                  56409  \n",
       "1                 0                  79380  \n",
       "\n",
       "[2 rows x 27 columns]"
      ]
     },
     "execution_count": 20,
     "metadata": {},
     "output_type": "execute_result"
    }
   ],
   "source": [
    "## Check shape and sample of Train outpatient Data\n",
    "\n",
    "print('Train_outpatient Shape:',train_outpatient.shape)\n",
    "print('Train_outpatient Sample:')\n",
    "train_outpatient.head(2)"
   ]
  },
  {
   "cell_type": "code",
   "execution_count": 21,
   "metadata": {},
   "outputs": [
    {
     "name": "stdout",
     "output_type": "stream",
     "text": [
      "Test_outpatient Shape: (125841, 27)\n",
      "Test_outpatient Sample:\n"
     ]
    },
    {
     "data": {
      "text/html": [
       "<div>\n",
       "<style scoped>\n",
       "    .dataframe tbody tr th:only-of-type {\n",
       "        vertical-align: middle;\n",
       "    }\n",
       "\n",
       "    .dataframe tbody tr th {\n",
       "        vertical-align: top;\n",
       "    }\n",
       "\n",
       "    .dataframe thead th {\n",
       "        text-align: right;\n",
       "    }\n",
       "</style>\n",
       "<table border=\"1\" class=\"dataframe\">\n",
       "  <thead>\n",
       "    <tr style=\"text-align: right;\">\n",
       "      <th></th>\n",
       "      <th>BeneID</th>\n",
       "      <th>ClaimID</th>\n",
       "      <th>ClaimStartDt</th>\n",
       "      <th>ClaimEndDt</th>\n",
       "      <th>Provider</th>\n",
       "      <th>InscClaimAmtReimbursed</th>\n",
       "      <th>AttendingPhysician</th>\n",
       "      <th>OperatingPhysician</th>\n",
       "      <th>OtherPhysician</th>\n",
       "      <th>ClmDiagnosisCode_1</th>\n",
       "      <th>...</th>\n",
       "      <th>ClmDiagnosisCode_9</th>\n",
       "      <th>ClmDiagnosisCode_10</th>\n",
       "      <th>ClmProcedureCode_1</th>\n",
       "      <th>ClmProcedureCode_2</th>\n",
       "      <th>ClmProcedureCode_3</th>\n",
       "      <th>ClmProcedureCode_4</th>\n",
       "      <th>ClmProcedureCode_5</th>\n",
       "      <th>ClmProcedureCode_6</th>\n",
       "      <th>DeductibleAmtPaid</th>\n",
       "      <th>ClmAdmitDiagnosisCode</th>\n",
       "    </tr>\n",
       "  </thead>\n",
       "  <tbody>\n",
       "    <tr>\n",
       "      <th>0</th>\n",
       "      <td>BENE11001</td>\n",
       "      <td>CLM392397</td>\n",
       "      <td>2009-06-02</td>\n",
       "      <td>2009-06-02</td>\n",
       "      <td>PRV55962</td>\n",
       "      <td>30</td>\n",
       "      <td>PHY347633</td>\n",
       "      <td>NaN</td>\n",
       "      <td>PHY347633</td>\n",
       "      <td>V5832</td>\n",
       "      <td>...</td>\n",
       "      <td>NaN</td>\n",
       "      <td>NaN</td>\n",
       "      <td>NaN</td>\n",
       "      <td>NaN</td>\n",
       "      <td>NaN</td>\n",
       "      <td>NaN</td>\n",
       "      <td>NaN</td>\n",
       "      <td>NaN</td>\n",
       "      <td>0</td>\n",
       "      <td>NaN</td>\n",
       "    </tr>\n",
       "    <tr>\n",
       "      <th>1</th>\n",
       "      <td>BENE11001</td>\n",
       "      <td>CLM430760</td>\n",
       "      <td>2009-06-23</td>\n",
       "      <td>2009-06-23</td>\n",
       "      <td>PRV56112</td>\n",
       "      <td>30</td>\n",
       "      <td>PHY381777</td>\n",
       "      <td>NaN</td>\n",
       "      <td>PHY381777</td>\n",
       "      <td>9594</td>\n",
       "      <td>...</td>\n",
       "      <td>NaN</td>\n",
       "      <td>NaN</td>\n",
       "      <td>NaN</td>\n",
       "      <td>NaN</td>\n",
       "      <td>NaN</td>\n",
       "      <td>NaN</td>\n",
       "      <td>NaN</td>\n",
       "      <td>NaN</td>\n",
       "      <td>0</td>\n",
       "      <td>NaN</td>\n",
       "    </tr>\n",
       "  </tbody>\n",
       "</table>\n",
       "<p>2 rows × 27 columns</p>\n",
       "</div>"
      ],
      "text/plain": [
       "      BeneID    ClaimID ClaimStartDt  ClaimEndDt  Provider  \\\n",
       "0  BENE11001  CLM392397   2009-06-02  2009-06-02  PRV55962   \n",
       "1  BENE11001  CLM430760   2009-06-23  2009-06-23  PRV56112   \n",
       "\n",
       "   InscClaimAmtReimbursed AttendingPhysician OperatingPhysician  \\\n",
       "0                      30          PHY347633                NaN   \n",
       "1                      30          PHY381777                NaN   \n",
       "\n",
       "  OtherPhysician ClmDiagnosisCode_1  ... ClmDiagnosisCode_9  \\\n",
       "0      PHY347633              V5832  ...                NaN   \n",
       "1      PHY381777               9594  ...                NaN   \n",
       "\n",
       "  ClmDiagnosisCode_10 ClmProcedureCode_1 ClmProcedureCode_2  \\\n",
       "0                 NaN                NaN                NaN   \n",
       "1                 NaN                NaN                NaN   \n",
       "\n",
       "  ClmProcedureCode_3 ClmProcedureCode_4 ClmProcedureCode_5 ClmProcedureCode_6  \\\n",
       "0                NaN                NaN                NaN                NaN   \n",
       "1                NaN                NaN                NaN                NaN   \n",
       "\n",
       "  DeductibleAmtPaid  ClmAdmitDiagnosisCode  \n",
       "0                 0                    NaN  \n",
       "1                 0                    NaN  \n",
       "\n",
       "[2 rows x 27 columns]"
      ]
     },
     "execution_count": 21,
     "metadata": {},
     "output_type": "execute_result"
    }
   ],
   "source": [
    "## Check shape and sample of Test outpatient Data\n",
    "\n",
    "print('Test_outpatient Shape:',test_outpatient.shape)\n",
    "print('Test_outpatient Sample:')\n",
    "test_outpatient.head(2)"
   ]
  },
  {
   "cell_type": "code",
   "execution_count": 22,
   "metadata": {},
   "outputs": [
    {
     "name": "stdout",
     "output_type": "stream",
     "text": [
      "Duplicated value in Train outpatient: False\n",
      "Duplicated value in Test outpatient: False\n"
     ]
    }
   ],
   "source": [
    "# Check duplicated value\n",
    "print('Duplicated value in Train outpatient:',train_outpatient.duplicated().any())\n",
    "print('Duplicated value in Test outpatient:',test_outpatient.duplicated().any())"
   ]
  },
  {
   "cell_type": "code",
   "execution_count": 23,
   "metadata": {},
   "outputs": [
    {
     "name": "stdout",
     "output_type": "stream",
     "text": [
      "Total missing values in Train outpatient : 8093719\n",
      "Total missing values in Test outpatient : 1968014\n"
     ]
    }
   ],
   "source": [
    "# Check missing value\n",
    "print('Total missing values in Train outpatient :',train_outpatient.isna().sum().sum())\n",
    "print('Total missing values in Test outpatient :',test_outpatient.isna().sum().sum())"
   ]
  },
  {
   "cell_type": "code",
   "execution_count": 24,
   "metadata": {},
   "outputs": [
    {
     "data": {
      "text/plain": [
       "BeneID                         0\n",
       "ClaimID                        0\n",
       "ClaimStartDt                   0\n",
       "ClaimEndDt                     0\n",
       "Provider                       0\n",
       "InscClaimAmtReimbursed         0\n",
       "AttendingPhysician          1396\n",
       "OperatingPhysician        427120\n",
       "OtherPhysician            322691\n",
       "ClmDiagnosisCode_1         10453\n",
       "ClmDiagnosisCode_2        195380\n",
       "ClmDiagnosisCode_3        314480\n",
       "ClmDiagnosisCode_4        392141\n",
       "ClmDiagnosisCode_5        443393\n",
       "ClmDiagnosisCode_6        468981\n",
       "ClmDiagnosisCode_7        484776\n",
       "ClmDiagnosisCode_8        494825\n",
       "ClmDiagnosisCode_9        502899\n",
       "ClmDiagnosisCode_10       516654\n",
       "ClmProcedureCode_1        517575\n",
       "ClmProcedureCode_2        517701\n",
       "ClmProcedureCode_3        517733\n",
       "ClmProcedureCode_4        517735\n",
       "ClmProcedureCode_5        517737\n",
       "ClmProcedureCode_6        517737\n",
       "DeductibleAmtPaid              0\n",
       "ClmAdmitDiagnosisCode     412312\n",
       "dtype: int64"
      ]
     },
     "execution_count": 24,
     "metadata": {},
     "output_type": "execute_result"
    }
   ],
   "source": [
    "# Check missing value per column in Train outpatient Data\n",
    "train_outpatient.isna().sum()"
   ]
  },
  {
   "cell_type": "code",
   "execution_count": 25,
   "metadata": {},
   "outputs": [
    {
     "data": {
      "text/plain": [
       "BeneID                         0\n",
       "ClaimID                        0\n",
       "ClaimStartDt                   0\n",
       "ClaimEndDt                     0\n",
       "Provider                       0\n",
       "InscClaimAmtReimbursed         0\n",
       "AttendingPhysician           316\n",
       "OperatingPhysician        104237\n",
       "OtherPhysician             78222\n",
       "ClmDiagnosisCode_1          2578\n",
       "ClmDiagnosisCode_2         47731\n",
       "ClmDiagnosisCode_3         76575\n",
       "ClmDiagnosisCode_4         95371\n",
       "ClmDiagnosisCode_5        107875\n",
       "ClmDiagnosisCode_6        114035\n",
       "ClmDiagnosisCode_7        117871\n",
       "ClmDiagnosisCode_8        120310\n",
       "ClmDiagnosisCode_9        122278\n",
       "ClmDiagnosisCode_10       125578\n",
       "ClmProcedureCode_1        125807\n",
       "ClmProcedureCode_2        125832\n",
       "ClmProcedureCode_3        125839\n",
       "ClmProcedureCode_4        125841\n",
       "ClmProcedureCode_5        125841\n",
       "ClmProcedureCode_6        125841\n",
       "DeductibleAmtPaid              0\n",
       "ClmAdmitDiagnosisCode     100036\n",
       "dtype: int64"
      ]
     },
     "execution_count": 25,
     "metadata": {},
     "output_type": "execute_result"
    }
   ],
   "source": [
    "# Check missing value per column in Test outpatient Data\n",
    "test_outpatient.isna().sum()"
   ]
  },
  {
   "attachments": {},
   "cell_type": "markdown",
   "metadata": {},
   "source": [
    "- Some of the missing value make sense. For example, there must be at least 1 diagnosis code. So, if some patient only have 1, it's normal. The same logic applies to procedure code, which maybe some of the patient do not receive medical procedure."
   ]
  },
  {
   "attachments": {},
   "cell_type": "markdown",
   "metadata": {},
   "source": [
    "## Data Preparation"
   ]
  },
  {
   "attachments": {},
   "cell_type": "markdown",
   "metadata": {},
   "source": [
    "#### Beneficiary Data"
   ]
  },
  {
   "cell_type": "markdown",
   "metadata": {},
   "source": [
    "Change `County` Column Names to `Country`"
   ]
  },
  {
   "cell_type": "code",
   "execution_count": 26,
   "metadata": {},
   "outputs": [],
   "source": [
    "train_beneficiary.rename(columns = {'County':'Country'}, inplace = True)\n",
    "test_beneficiary.rename(columns = {'County':'Country'}, inplace = True)"
   ]
  },
  {
   "cell_type": "markdown",
   "metadata": {},
   "source": [
    "##### Decoding the Chronic Condition"
   ]
  },
  {
   "cell_type": "code",
   "execution_count": 27,
   "metadata": {},
   "outputs": [],
   "source": [
    "# Replacing 2 with 0 for chronic conditions ,that means chronic condition No is 0 and yes is 1\n",
    "\n",
    "train_beneficiary = train_beneficiary.replace({'ChronicCond_Alzheimer': 2, 'ChronicCond_Heartfailure': 2, 'ChronicCond_KidneyDisease': 2,\n",
    "                           'ChronicCond_Cancer': 2, 'ChronicCond_ObstrPulmonary': 2, 'ChronicCond_Depression': 2, \n",
    "                           'ChronicCond_Diabetes': 2, 'ChronicCond_IschemicHeart': 2, 'ChronicCond_Osteoporasis': 2, \n",
    "                           'ChronicCond_rheumatoidarthritis': 2, 'ChronicCond_stroke': 2 }, 0)\n",
    "\n",
    "train_beneficiary = train_beneficiary.replace({'RenalDiseaseIndicator': 'Y'}, 1)\n",
    "\n",
    "test_beneficiary = test_beneficiary.replace({'ChronicCond_Alzheimer': 2, 'ChronicCond_Heartfailure': 2, 'ChronicCond_KidneyDisease': 2,\n",
    "                           'ChronicCond_Cancer': 2, 'ChronicCond_ObstrPulmonary': 2, 'ChronicCond_Depression': 2, \n",
    "                           'ChronicCond_Diabetes': 2, 'ChronicCond_IschemicHeart': 2, 'ChronicCond_Osteoporasis': 2, \n",
    "                           'ChronicCond_rheumatoidarthritis': 2, 'ChronicCond_stroke': 2 }, 0)\n",
    "\n",
    "test_beneficiary = test_beneficiary.replace({'RenalDiseaseIndicator': 'Y'}, 1)"
   ]
  },
  {
   "cell_type": "markdown",
   "metadata": {},
   "source": [
    "##### Create Age Column"
   ]
  },
  {
   "cell_type": "code",
   "execution_count": 28,
   "metadata": {},
   "outputs": [],
   "source": [
    "# Create Age Column\n",
    "train_beneficiary['DOB'] = pd.to_datetime(train_beneficiary['DOB'] , format = '%Y-%m-%d')\n",
    "train_beneficiary['DOD'] = pd.to_datetime(train_beneficiary['DOD'],format = '%Y-%m-%d',errors='ignore')\n",
    "train_beneficiary['Age'] = round(((train_beneficiary['DOD'] - train_beneficiary['DOB']).dt.days)/365)\n",
    "\n",
    "test_beneficiary['DOB'] = pd.to_datetime(test_beneficiary['DOB'] , format = '%Y-%m-%d')\n",
    "test_beneficiary['DOD'] = pd.to_datetime(test_beneficiary['DOD'],format = '%Y-%m-%d',errors='ignore')\n",
    "test_beneficiary['Age'] = round(((test_beneficiary['DOD'] - test_beneficiary['DOB']).dt.days)/365)"
   ]
  },
  {
   "cell_type": "code",
   "execution_count": 29,
   "metadata": {},
   "outputs": [
    {
     "name": "stdout",
     "output_type": "stream",
     "text": [
      "Maximum DOD in Train Beneficiary: 2009-12-01 00:00:00\n",
      "Maximum DOD in Test Beneficiary: 2009-12-01 00:00:00\n"
     ]
    }
   ],
   "source": [
    "print('Maximum DOD in Train Beneficiary:', train_beneficiary['DOD'].max())\n",
    "print('Maximum DOD in Test Beneficiary:', test_beneficiary['DOD'].max())"
   ]
  },
  {
   "cell_type": "code",
   "execution_count": 30,
   "metadata": {},
   "outputs": [],
   "source": [
    "# As we see that last DOD value is 2009-12-01 , which means Beneficiary Details data is of year 2009.\n",
    "# So, we will calculate age of other beneficiaries for year 2009.\n",
    "\n",
    "train_beneficiary.Age.fillna(round(((pd.to_datetime('2009-12-01' , format = '%Y-%m-%d') - train_beneficiary['DOB']).dt.days)/365),\n",
    "                                 inplace=True)\n",
    "\n",
    "test_beneficiary.Age.fillna(round(((pd.to_datetime('2009-12-01' , format = '%Y-%m-%d') - test_beneficiary['DOB']).dt.days)/365),\n",
    "                                 inplace=True)"
   ]
  },
  {
   "cell_type": "markdown",
   "metadata": {},
   "source": [
    "##### Create Status `WhetherDead` to tell whether a beneficiary is dead or not"
   ]
  },
  {
   "cell_type": "code",
   "execution_count": 31,
   "metadata": {},
   "outputs": [],
   "source": [
    "# Create a new variable 'WhetherDead' with flag 1 means Dead and 0 means not Dead\n",
    "\n",
    "train_beneficiary.loc[train_beneficiary.DOD.isna(),'WhetherDead'] = 0\n",
    "train_beneficiary.loc[train_beneficiary.DOD.notna(),'WhetherDead'] = 1\n",
    "\n",
    "test_beneficiary.loc[test_beneficiary.DOD.isna(),'WhetherDead'] = 0\n",
    "test_beneficiary.loc[test_beneficiary.DOD.notna(),'WhetherDead'] = 1"
   ]
  },
  {
   "attachments": {},
   "cell_type": "markdown",
   "metadata": {},
   "source": [
    "#### Inpatient Data"
   ]
  },
  {
   "cell_type": "markdown",
   "metadata": {},
   "source": [
    "##### Create `AdmitForDays` column"
   ]
  },
  {
   "cell_type": "code",
   "execution_count": 32,
   "metadata": {},
   "outputs": [],
   "source": [
    "## As patient can be admitted for only for 1 day, we will add 1 to the difference of Discharge Date and Admission Date \n",
    "\n",
    "train_inpatient['AdmissionDt'] = pd.to_datetime(train_inpatient['AdmissionDt'] , format = '%Y-%m-%d')\n",
    "train_inpatient['DischargeDt'] = pd.to_datetime(train_inpatient['DischargeDt'],format = '%Y-%m-%d')\n",
    "train_inpatient['AdmitForDays'] = ((train_inpatient['DischargeDt'] - train_inpatient['AdmissionDt']).dt.days)+1\n",
    "\n",
    "\n",
    "test_inpatient['AdmissionDt'] = pd.to_datetime(test_inpatient['AdmissionDt'] , format = '%Y-%m-%d')\n",
    "test_inpatient['DischargeDt'] = pd.to_datetime(test_inpatient['DischargeDt'],format = '%Y-%m-%d')\n",
    "test_inpatient['AdmitForDays'] = ((test_inpatient['DischargeDt'] - test_inpatient['AdmissionDt']).dt.days)+1"
   ]
  },
  {
   "cell_type": "code",
   "execution_count": 33,
   "metadata": {},
   "outputs": [
    {
     "name": "stdout",
     "output_type": "stream",
     "text": [
      "Min AdmitForDays Train:-  1\n",
      "Max AdmitForDays Train:-  36\n",
      "Min AdmitForDays Test:-  1\n",
      "Max AdmitForDays Test:-  36\n"
     ]
    }
   ],
   "source": [
    "## Lets check Min and Max values of AdmitforDays column in Train and Test.\n",
    "print('Min AdmitForDays Train:- ',train_inpatient.AdmitForDays.min())\n",
    "print('Max AdmitForDays Train:- ',train_inpatient.AdmitForDays.max())\n",
    "\n",
    "print('Min AdmitForDays Test:- ',test_inpatient.AdmitForDays.min())\n",
    "print('Max AdmitForDays Test:- ',test_inpatient.AdmitForDays.max())"
   ]
  },
  {
   "cell_type": "markdown",
   "metadata": {},
   "source": [
    "##### Create `Admitted?` column to indicate if a patient is admitted to the hospital"
   ]
  },
  {
   "cell_type": "code",
   "execution_count": 34,
   "metadata": {},
   "outputs": [],
   "source": [
    "train_outpatient['Admitted?'] = \"0\"\n",
    "test_outpatient['Admitted?'] = \"0\""
   ]
  },
  {
   "cell_type": "markdown",
   "metadata": {},
   "source": [
    "#### Outpatient Data"
   ]
  },
  {
   "cell_type": "markdown",
   "metadata": {},
   "source": [
    "##### Create `Admitted?` column to indicate if a patient is admitted to the hospital"
   ]
  },
  {
   "cell_type": "code",
   "execution_count": 35,
   "metadata": {},
   "outputs": [],
   "source": [
    "train_inpatient['Admitted?'] = \"1\"\n",
    "test_inpatient['Admitted?'] = \"1\""
   ]
  },
  {
   "cell_type": "markdown",
   "metadata": {},
   "source": [
    "#### Inpatient and Outpatient Data Merging"
   ]
  },
  {
   "cell_type": "code",
   "execution_count": 36,
   "metadata": {},
   "outputs": [
    {
     "name": "stdout",
     "output_type": "stream",
     "text": [
      "Shape of Train Inpatient data : (40474, 32)\n",
      "Shape of Train Outpatient data : (517737, 28)\n",
      "Shape of Test Inpatient data : (9551, 32)\n",
      "Shape of Test Outpatient data : (125841, 28)\n"
     ]
    }
   ],
   "source": [
    "print('Shape of Train Inpatient data :',train_inpatient.shape)\n",
    "print('Shape of Train Outpatient data :',train_outpatient.shape)\n",
    "print('Shape of Test Inpatient data :',test_inpatient.shape)\n",
    "print('Shape of Test Outpatient data :',test_outpatient.shape)"
   ]
  },
  {
   "cell_type": "markdown",
   "metadata": {},
   "source": [
    "Merging Inpatient and Outpatient dataset on the basis of common columns"
   ]
  },
  {
   "cell_type": "code",
   "execution_count": 37,
   "metadata": {},
   "outputs": [
    {
     "data": {
      "text/plain": [
       "(558211, 32)"
      ]
     },
     "execution_count": 37,
     "metadata": {},
     "output_type": "execute_result"
    }
   ],
   "source": [
    "# Merging the IP and OP dataset on the basis of common columns\n",
    "common_cols = [col for col in train_inpatient.columns if col in train_outpatient.columns]\n",
    "len(common_cols)\n",
    "train_allpatient = pd.merge(left=train_inpatient, right=train_outpatient, left_on=common_cols, right_on=common_cols, how=\"outer\")\n",
    "train_allpatient.shape"
   ]
  },
  {
   "cell_type": "code",
   "execution_count": 38,
   "metadata": {},
   "outputs": [
    {
     "data": {
      "text/plain": [
       "(135392, 32)"
      ]
     },
     "execution_count": 38,
     "metadata": {},
     "output_type": "execute_result"
    }
   ],
   "source": [
    "# Merging the IP and OP dataset on the basis of common columns\n",
    "common_cols = [col for col in test_inpatient.columns if col in test_outpatient.columns]\n",
    "len(common_cols)\n",
    "test_allpatient = pd.merge(left=test_inpatient, right=test_outpatient, left_on=common_cols, right_on=common_cols, how=\"outer\")\n",
    "test_allpatient.shape"
   ]
  },
  {
   "cell_type": "code",
   "execution_count": 39,
   "metadata": {},
   "outputs": [
    {
     "name": "stdout",
     "output_type": "stream",
     "text": [
      "train_allpatient (558211, 32)\n",
      "test_allpatient (135392, 32)\n"
     ]
    }
   ],
   "source": [
    "print('train_allpatient',train_allpatient.shape)\n",
    "print('test_allpatient',test_allpatient.shape)"
   ]
  },
  {
   "cell_type": "markdown",
   "metadata": {},
   "source": [
    "### Allpatient and Beneficiary Data Merging"
   ]
  },
  {
   "cell_type": "code",
   "execution_count": 40,
   "metadata": {},
   "outputs": [],
   "source": [
    "## Lets merge All patient data with beneficiary details data based on 'BeneID' as joining key for inner join\n",
    "train_allpatient_details = pd.merge(train_allpatient,train_beneficiary,left_on='BeneID',right_on='BeneID',how='outer')\n",
    "\n",
    "test_allpatient_details = pd.merge(test_allpatient,test_beneficiary,left_on='BeneID',right_on='BeneID',how='outer')"
   ]
  },
  {
   "cell_type": "code",
   "execution_count": 41,
   "metadata": {},
   "outputs": [
    {
     "name": "stdout",
     "output_type": "stream",
     "text": [
      "Shape of All Patient Details Train :  (558211, 58)\n"
     ]
    },
    {
     "data": {
      "text/html": [
       "<div>\n",
       "<style scoped>\n",
       "    .dataframe tbody tr th:only-of-type {\n",
       "        vertical-align: middle;\n",
       "    }\n",
       "\n",
       "    .dataframe tbody tr th {\n",
       "        vertical-align: top;\n",
       "    }\n",
       "\n",
       "    .dataframe thead th {\n",
       "        text-align: right;\n",
       "    }\n",
       "</style>\n",
       "<table border=\"1\" class=\"dataframe\">\n",
       "  <thead>\n",
       "    <tr style=\"text-align: right;\">\n",
       "      <th></th>\n",
       "      <th>BeneID</th>\n",
       "      <th>ClaimID</th>\n",
       "      <th>ClaimStartDt</th>\n",
       "      <th>ClaimEndDt</th>\n",
       "      <th>Provider</th>\n",
       "      <th>InscClaimAmtReimbursed</th>\n",
       "      <th>AttendingPhysician</th>\n",
       "      <th>OperatingPhysician</th>\n",
       "      <th>OtherPhysician</th>\n",
       "      <th>AdmissionDt</th>\n",
       "      <th>...</th>\n",
       "      <th>ChronicCond_IschemicHeart</th>\n",
       "      <th>ChronicCond_Osteoporasis</th>\n",
       "      <th>ChronicCond_rheumatoidarthritis</th>\n",
       "      <th>ChronicCond_stroke</th>\n",
       "      <th>IPAnnualReimbursementAmt</th>\n",
       "      <th>IPAnnualDeductibleAmt</th>\n",
       "      <th>OPAnnualReimbursementAmt</th>\n",
       "      <th>OPAnnualDeductibleAmt</th>\n",
       "      <th>Age</th>\n",
       "      <th>WhetherDead</th>\n",
       "    </tr>\n",
       "  </thead>\n",
       "  <tbody>\n",
       "    <tr>\n",
       "      <th>0</th>\n",
       "      <td>BENE11001</td>\n",
       "      <td>CLM46614</td>\n",
       "      <td>2009-04-12</td>\n",
       "      <td>2009-04-18</td>\n",
       "      <td>PRV55912</td>\n",
       "      <td>26000</td>\n",
       "      <td>PHY390922</td>\n",
       "      <td>NaN</td>\n",
       "      <td>NaN</td>\n",
       "      <td>2009-04-12</td>\n",
       "      <td>...</td>\n",
       "      <td>1</td>\n",
       "      <td>0</td>\n",
       "      <td>1</td>\n",
       "      <td>1</td>\n",
       "      <td>36000</td>\n",
       "      <td>3204</td>\n",
       "      <td>60</td>\n",
       "      <td>70</td>\n",
       "      <td>67.0</td>\n",
       "      <td>0.0</td>\n",
       "    </tr>\n",
       "    <tr>\n",
       "      <th>1</th>\n",
       "      <td>BENE11001</td>\n",
       "      <td>CLM66048</td>\n",
       "      <td>2009-08-31</td>\n",
       "      <td>2009-09-02</td>\n",
       "      <td>PRV55907</td>\n",
       "      <td>5000</td>\n",
       "      <td>PHY318495</td>\n",
       "      <td>PHY318495</td>\n",
       "      <td>NaN</td>\n",
       "      <td>2009-08-31</td>\n",
       "      <td>...</td>\n",
       "      <td>1</td>\n",
       "      <td>0</td>\n",
       "      <td>1</td>\n",
       "      <td>1</td>\n",
       "      <td>36000</td>\n",
       "      <td>3204</td>\n",
       "      <td>60</td>\n",
       "      <td>70</td>\n",
       "      <td>67.0</td>\n",
       "      <td>0.0</td>\n",
       "    </tr>\n",
       "    <tr>\n",
       "      <th>2</th>\n",
       "      <td>BENE11001</td>\n",
       "      <td>CLM68358</td>\n",
       "      <td>2009-09-17</td>\n",
       "      <td>2009-09-20</td>\n",
       "      <td>PRV56046</td>\n",
       "      <td>5000</td>\n",
       "      <td>PHY372395</td>\n",
       "      <td>NaN</td>\n",
       "      <td>PHY324689</td>\n",
       "      <td>2009-09-17</td>\n",
       "      <td>...</td>\n",
       "      <td>1</td>\n",
       "      <td>0</td>\n",
       "      <td>1</td>\n",
       "      <td>1</td>\n",
       "      <td>36000</td>\n",
       "      <td>3204</td>\n",
       "      <td>60</td>\n",
       "      <td>70</td>\n",
       "      <td>67.0</td>\n",
       "      <td>0.0</td>\n",
       "    </tr>\n",
       "    <tr>\n",
       "      <th>3</th>\n",
       "      <td>BENE11011</td>\n",
       "      <td>CLM38412</td>\n",
       "      <td>2009-02-14</td>\n",
       "      <td>2009-02-22</td>\n",
       "      <td>PRV52405</td>\n",
       "      <td>5000</td>\n",
       "      <td>PHY369659</td>\n",
       "      <td>PHY392961</td>\n",
       "      <td>PHY349768</td>\n",
       "      <td>2009-02-14</td>\n",
       "      <td>...</td>\n",
       "      <td>0</td>\n",
       "      <td>0</td>\n",
       "      <td>1</td>\n",
       "      <td>1</td>\n",
       "      <td>5000</td>\n",
       "      <td>1068</td>\n",
       "      <td>250</td>\n",
       "      <td>320</td>\n",
       "      <td>96.0</td>\n",
       "      <td>0.0</td>\n",
       "    </tr>\n",
       "    <tr>\n",
       "      <th>4</th>\n",
       "      <td>BENE11011</td>\n",
       "      <td>CLM144521</td>\n",
       "      <td>2009-01-18</td>\n",
       "      <td>2009-01-18</td>\n",
       "      <td>PRV52314</td>\n",
       "      <td>50</td>\n",
       "      <td>PHY379398</td>\n",
       "      <td>NaN</td>\n",
       "      <td>NaN</td>\n",
       "      <td>NaT</td>\n",
       "      <td>...</td>\n",
       "      <td>0</td>\n",
       "      <td>0</td>\n",
       "      <td>1</td>\n",
       "      <td>1</td>\n",
       "      <td>5000</td>\n",
       "      <td>1068</td>\n",
       "      <td>250</td>\n",
       "      <td>320</td>\n",
       "      <td>96.0</td>\n",
       "      <td>0.0</td>\n",
       "    </tr>\n",
       "  </tbody>\n",
       "</table>\n",
       "<p>5 rows × 58 columns</p>\n",
       "</div>"
      ],
      "text/plain": [
       "      BeneID    ClaimID ClaimStartDt  ClaimEndDt  Provider  \\\n",
       "0  BENE11001   CLM46614   2009-04-12  2009-04-18  PRV55912   \n",
       "1  BENE11001   CLM66048   2009-08-31  2009-09-02  PRV55907   \n",
       "2  BENE11001   CLM68358   2009-09-17  2009-09-20  PRV56046   \n",
       "3  BENE11011   CLM38412   2009-02-14  2009-02-22  PRV52405   \n",
       "4  BENE11011  CLM144521   2009-01-18  2009-01-18  PRV52314   \n",
       "\n",
       "   InscClaimAmtReimbursed AttendingPhysician OperatingPhysician  \\\n",
       "0                   26000          PHY390922                NaN   \n",
       "1                    5000          PHY318495          PHY318495   \n",
       "2                    5000          PHY372395                NaN   \n",
       "3                    5000          PHY369659          PHY392961   \n",
       "4                      50          PHY379398                NaN   \n",
       "\n",
       "  OtherPhysician AdmissionDt  ... ChronicCond_IschemicHeart  \\\n",
       "0            NaN  2009-04-12  ...                         1   \n",
       "1            NaN  2009-08-31  ...                         1   \n",
       "2      PHY324689  2009-09-17  ...                         1   \n",
       "3      PHY349768  2009-02-14  ...                         0   \n",
       "4            NaN         NaT  ...                         0   \n",
       "\n",
       "   ChronicCond_Osteoporasis ChronicCond_rheumatoidarthritis  \\\n",
       "0                         0                               1   \n",
       "1                         0                               1   \n",
       "2                         0                               1   \n",
       "3                         0                               1   \n",
       "4                         0                               1   \n",
       "\n",
       "  ChronicCond_stroke IPAnnualReimbursementAmt IPAnnualDeductibleAmt  \\\n",
       "0                  1                    36000                  3204   \n",
       "1                  1                    36000                  3204   \n",
       "2                  1                    36000                  3204   \n",
       "3                  1                     5000                  1068   \n",
       "4                  1                     5000                  1068   \n",
       "\n",
       "  OPAnnualReimbursementAmt OPAnnualDeductibleAmt   Age WhetherDead  \n",
       "0                       60                    70  67.0         0.0  \n",
       "1                       60                    70  67.0         0.0  \n",
       "2                       60                    70  67.0         0.0  \n",
       "3                      250                   320  96.0         0.0  \n",
       "4                      250                   320  96.0         0.0  \n",
       "\n",
       "[5 rows x 58 columns]"
      ]
     },
     "execution_count": 41,
     "metadata": {},
     "output_type": "execute_result"
    }
   ],
   "source": [
    "print('Shape of All Patient Details Train : ',train_allpatient_details.shape)\n",
    "train_allpatient_details.head()"
   ]
  },
  {
   "cell_type": "code",
   "execution_count": 42,
   "metadata": {},
   "outputs": [
    {
     "name": "stdout",
     "output_type": "stream",
     "text": [
      "Shape of All Patient Details Test :  (135392, 58)\n"
     ]
    },
    {
     "data": {
      "text/html": [
       "<div>\n",
       "<style scoped>\n",
       "    .dataframe tbody tr th:only-of-type {\n",
       "        vertical-align: middle;\n",
       "    }\n",
       "\n",
       "    .dataframe tbody tr th {\n",
       "        vertical-align: top;\n",
       "    }\n",
       "\n",
       "    .dataframe thead th {\n",
       "        text-align: right;\n",
       "    }\n",
       "</style>\n",
       "<table border=\"1\" class=\"dataframe\">\n",
       "  <thead>\n",
       "    <tr style=\"text-align: right;\">\n",
       "      <th></th>\n",
       "      <th>BeneID</th>\n",
       "      <th>ClaimID</th>\n",
       "      <th>ClaimStartDt</th>\n",
       "      <th>ClaimEndDt</th>\n",
       "      <th>Provider</th>\n",
       "      <th>InscClaimAmtReimbursed</th>\n",
       "      <th>AttendingPhysician</th>\n",
       "      <th>OperatingPhysician</th>\n",
       "      <th>OtherPhysician</th>\n",
       "      <th>AdmissionDt</th>\n",
       "      <th>...</th>\n",
       "      <th>ChronicCond_IschemicHeart</th>\n",
       "      <th>ChronicCond_Osteoporasis</th>\n",
       "      <th>ChronicCond_rheumatoidarthritis</th>\n",
       "      <th>ChronicCond_stroke</th>\n",
       "      <th>IPAnnualReimbursementAmt</th>\n",
       "      <th>IPAnnualDeductibleAmt</th>\n",
       "      <th>OPAnnualReimbursementAmt</th>\n",
       "      <th>OPAnnualDeductibleAmt</th>\n",
       "      <th>Age</th>\n",
       "      <th>WhetherDead</th>\n",
       "    </tr>\n",
       "  </thead>\n",
       "  <tbody>\n",
       "    <tr>\n",
       "      <th>0</th>\n",
       "      <td>BENE11014</td>\n",
       "      <td>CLM67387</td>\n",
       "      <td>2009-09-09</td>\n",
       "      <td>2009-09-16</td>\n",
       "      <td>PRV57070</td>\n",
       "      <td>9000</td>\n",
       "      <td>PHY317786</td>\n",
       "      <td>PHY427017</td>\n",
       "      <td>NaN</td>\n",
       "      <td>2009-09-09</td>\n",
       "      <td>...</td>\n",
       "      <td>1</td>\n",
       "      <td>0</td>\n",
       "      <td>0</td>\n",
       "      <td>0</td>\n",
       "      <td>21260</td>\n",
       "      <td>2136</td>\n",
       "      <td>120</td>\n",
       "      <td>100</td>\n",
       "      <td>72.0</td>\n",
       "      <td>0.0</td>\n",
       "    </tr>\n",
       "    <tr>\n",
       "      <th>1</th>\n",
       "      <td>BENE11014</td>\n",
       "      <td>CLM731858</td>\n",
       "      <td>2009-12-16</td>\n",
       "      <td>2009-12-16</td>\n",
       "      <td>PRV56558</td>\n",
       "      <td>60</td>\n",
       "      <td>PHY331420</td>\n",
       "      <td>PHY331420</td>\n",
       "      <td>PHY428520</td>\n",
       "      <td>NaT</td>\n",
       "      <td>...</td>\n",
       "      <td>1</td>\n",
       "      <td>0</td>\n",
       "      <td>0</td>\n",
       "      <td>0</td>\n",
       "      <td>21260</td>\n",
       "      <td>2136</td>\n",
       "      <td>120</td>\n",
       "      <td>100</td>\n",
       "      <td>72.0</td>\n",
       "      <td>0.0</td>\n",
       "    </tr>\n",
       "    <tr>\n",
       "      <th>2</th>\n",
       "      <td>BENE11017</td>\n",
       "      <td>CLM31237</td>\n",
       "      <td>2008-12-25</td>\n",
       "      <td>2009-01-08</td>\n",
       "      <td>PRV54750</td>\n",
       "      <td>14000</td>\n",
       "      <td>PHY314656</td>\n",
       "      <td>PHY426644</td>\n",
       "      <td>NaN</td>\n",
       "      <td>2008-12-25</td>\n",
       "      <td>...</td>\n",
       "      <td>1</td>\n",
       "      <td>0</td>\n",
       "      <td>1</td>\n",
       "      <td>1</td>\n",
       "      <td>22000</td>\n",
       "      <td>2136</td>\n",
       "      <td>1400</td>\n",
       "      <td>840</td>\n",
       "      <td>70.0</td>\n",
       "      <td>0.0</td>\n",
       "    </tr>\n",
       "    <tr>\n",
       "      <th>3</th>\n",
       "      <td>BENE11026</td>\n",
       "      <td>CLM78930</td>\n",
       "      <td>2009-12-09</td>\n",
       "      <td>2009-12-13</td>\n",
       "      <td>PRV53758</td>\n",
       "      <td>2000</td>\n",
       "      <td>PHY349495</td>\n",
       "      <td>NaN</td>\n",
       "      <td>NaN</td>\n",
       "      <td>2009-12-09</td>\n",
       "      <td>...</td>\n",
       "      <td>1</td>\n",
       "      <td>0</td>\n",
       "      <td>0</td>\n",
       "      <td>0</td>\n",
       "      <td>2000</td>\n",
       "      <td>1068</td>\n",
       "      <td>0</td>\n",
       "      <td>0</td>\n",
       "      <td>72.0</td>\n",
       "      <td>0.0</td>\n",
       "    </tr>\n",
       "    <tr>\n",
       "      <th>4</th>\n",
       "      <td>BENE11031</td>\n",
       "      <td>CLM56810</td>\n",
       "      <td>2009-06-23</td>\n",
       "      <td>2009-07-06</td>\n",
       "      <td>PRV55825</td>\n",
       "      <td>16000</td>\n",
       "      <td>PHY429538</td>\n",
       "      <td>PHY371893</td>\n",
       "      <td>NaN</td>\n",
       "      <td>2009-06-23</td>\n",
       "      <td>...</td>\n",
       "      <td>1</td>\n",
       "      <td>1</td>\n",
       "      <td>0</td>\n",
       "      <td>0</td>\n",
       "      <td>23650</td>\n",
       "      <td>2136</td>\n",
       "      <td>40</td>\n",
       "      <td>0</td>\n",
       "      <td>65.0</td>\n",
       "      <td>0.0</td>\n",
       "    </tr>\n",
       "  </tbody>\n",
       "</table>\n",
       "<p>5 rows × 58 columns</p>\n",
       "</div>"
      ],
      "text/plain": [
       "      BeneID    ClaimID ClaimStartDt  ClaimEndDt  Provider  \\\n",
       "0  BENE11014   CLM67387   2009-09-09  2009-09-16  PRV57070   \n",
       "1  BENE11014  CLM731858   2009-12-16  2009-12-16  PRV56558   \n",
       "2  BENE11017   CLM31237   2008-12-25  2009-01-08  PRV54750   \n",
       "3  BENE11026   CLM78930   2009-12-09  2009-12-13  PRV53758   \n",
       "4  BENE11031   CLM56810   2009-06-23  2009-07-06  PRV55825   \n",
       "\n",
       "   InscClaimAmtReimbursed AttendingPhysician OperatingPhysician  \\\n",
       "0                    9000          PHY317786          PHY427017   \n",
       "1                      60          PHY331420          PHY331420   \n",
       "2                   14000          PHY314656          PHY426644   \n",
       "3                    2000          PHY349495                NaN   \n",
       "4                   16000          PHY429538          PHY371893   \n",
       "\n",
       "  OtherPhysician AdmissionDt  ... ChronicCond_IschemicHeart  \\\n",
       "0            NaN  2009-09-09  ...                         1   \n",
       "1      PHY428520         NaT  ...                         1   \n",
       "2            NaN  2008-12-25  ...                         1   \n",
       "3            NaN  2009-12-09  ...                         1   \n",
       "4            NaN  2009-06-23  ...                         1   \n",
       "\n",
       "   ChronicCond_Osteoporasis ChronicCond_rheumatoidarthritis  \\\n",
       "0                         0                               0   \n",
       "1                         0                               0   \n",
       "2                         0                               1   \n",
       "3                         0                               0   \n",
       "4                         1                               0   \n",
       "\n",
       "  ChronicCond_stroke IPAnnualReimbursementAmt IPAnnualDeductibleAmt  \\\n",
       "0                  0                    21260                  2136   \n",
       "1                  0                    21260                  2136   \n",
       "2                  1                    22000                  2136   \n",
       "3                  0                     2000                  1068   \n",
       "4                  0                    23650                  2136   \n",
       "\n",
       "  OPAnnualReimbursementAmt OPAnnualDeductibleAmt   Age WhetherDead  \n",
       "0                      120                   100  72.0         0.0  \n",
       "1                      120                   100  72.0         0.0  \n",
       "2                     1400                   840  70.0         0.0  \n",
       "3                        0                     0  72.0         0.0  \n",
       "4                       40                     0  65.0         0.0  \n",
       "\n",
       "[5 rows x 58 columns]"
      ]
     },
     "execution_count": 42,
     "metadata": {},
     "output_type": "execute_result"
    }
   ],
   "source": [
    "print('Shape of All Patient Details Test : ',test_allpatient_details.shape)\n",
    "test_allpatient_details.head()"
   ]
  },
  {
   "cell_type": "markdown",
   "metadata": {},
   "source": [
    "### Potential Fraud and Provider with Patient Data Merging"
   ]
  },
  {
   "cell_type": "code",
   "execution_count": 43,
   "metadata": {},
   "outputs": [],
   "source": [
    "# Lets merge patient data with fradulent providers details data with \"Provider\" as joining key for inner join\n",
    "\n",
    "train_provider_with_patients = pd.merge(train_provider,train_allpatient_details,on='Provider')\n",
    "test_provider_with_patients = pd.merge(test_provider,test_allpatient_details,on='Provider')"
   ]
  },
  {
   "cell_type": "code",
   "execution_count": 44,
   "metadata": {},
   "outputs": [
    {
     "name": "stdout",
     "output_type": "stream",
     "text": [
      "Shape of Train Provider with Patient Details data :- (558211, 59)\n"
     ]
    },
    {
     "data": {
      "text/html": [
       "<div>\n",
       "<style scoped>\n",
       "    .dataframe tbody tr th:only-of-type {\n",
       "        vertical-align: middle;\n",
       "    }\n",
       "\n",
       "    .dataframe tbody tr th {\n",
       "        vertical-align: top;\n",
       "    }\n",
       "\n",
       "    .dataframe thead th {\n",
       "        text-align: right;\n",
       "    }\n",
       "</style>\n",
       "<table border=\"1\" class=\"dataframe\">\n",
       "  <thead>\n",
       "    <tr style=\"text-align: right;\">\n",
       "      <th></th>\n",
       "      <th>Provider</th>\n",
       "      <th>PotentialFraud</th>\n",
       "      <th>BeneID</th>\n",
       "      <th>ClaimID</th>\n",
       "      <th>ClaimStartDt</th>\n",
       "      <th>ClaimEndDt</th>\n",
       "      <th>InscClaimAmtReimbursed</th>\n",
       "      <th>AttendingPhysician</th>\n",
       "      <th>OperatingPhysician</th>\n",
       "      <th>OtherPhysician</th>\n",
       "      <th>...</th>\n",
       "      <th>ChronicCond_IschemicHeart</th>\n",
       "      <th>ChronicCond_Osteoporasis</th>\n",
       "      <th>ChronicCond_rheumatoidarthritis</th>\n",
       "      <th>ChronicCond_stroke</th>\n",
       "      <th>IPAnnualReimbursementAmt</th>\n",
       "      <th>IPAnnualDeductibleAmt</th>\n",
       "      <th>OPAnnualReimbursementAmt</th>\n",
       "      <th>OPAnnualDeductibleAmt</th>\n",
       "      <th>Age</th>\n",
       "      <th>WhetherDead</th>\n",
       "    </tr>\n",
       "  </thead>\n",
       "  <tbody>\n",
       "    <tr>\n",
       "      <th>0</th>\n",
       "      <td>PRV51001</td>\n",
       "      <td>No</td>\n",
       "      <td>BENE32715</td>\n",
       "      <td>CLM272936</td>\n",
       "      <td>2009-03-29</td>\n",
       "      <td>2009-03-30</td>\n",
       "      <td>500</td>\n",
       "      <td>PHY318842</td>\n",
       "      <td>PHY392882</td>\n",
       "      <td>NaN</td>\n",
       "      <td>...</td>\n",
       "      <td>1</td>\n",
       "      <td>0</td>\n",
       "      <td>0</td>\n",
       "      <td>0</td>\n",
       "      <td>2020</td>\n",
       "      <td>1068</td>\n",
       "      <td>6700</td>\n",
       "      <td>2700</td>\n",
       "      <td>74.0</td>\n",
       "      <td>0.0</td>\n",
       "    </tr>\n",
       "    <tr>\n",
       "      <th>1</th>\n",
       "      <td>PRV51001</td>\n",
       "      <td>No</td>\n",
       "      <td>BENE36012</td>\n",
       "      <td>CLM58316</td>\n",
       "      <td>2009-07-04</td>\n",
       "      <td>2009-07-08</td>\n",
       "      <td>36000</td>\n",
       "      <td>PHY340163</td>\n",
       "      <td>NaN</td>\n",
       "      <td>NaN</td>\n",
       "      <td>...</td>\n",
       "      <td>1</td>\n",
       "      <td>0</td>\n",
       "      <td>0</td>\n",
       "      <td>1</td>\n",
       "      <td>36000</td>\n",
       "      <td>1068</td>\n",
       "      <td>3520</td>\n",
       "      <td>140</td>\n",
       "      <td>69.0</td>\n",
       "      <td>0.0</td>\n",
       "    </tr>\n",
       "    <tr>\n",
       "      <th>2</th>\n",
       "      <td>PRV51001</td>\n",
       "      <td>No</td>\n",
       "      <td>BENE38773</td>\n",
       "      <td>CLM52334</td>\n",
       "      <td>2009-05-23</td>\n",
       "      <td>2009-05-25</td>\n",
       "      <td>12000</td>\n",
       "      <td>PHY346762</td>\n",
       "      <td>NaN</td>\n",
       "      <td>NaN</td>\n",
       "      <td>...</td>\n",
       "      <td>0</td>\n",
       "      <td>0</td>\n",
       "      <td>0</td>\n",
       "      <td>0</td>\n",
       "      <td>95000</td>\n",
       "      <td>2136</td>\n",
       "      <td>2270</td>\n",
       "      <td>900</td>\n",
       "      <td>72.0</td>\n",
       "      <td>0.0</td>\n",
       "    </tr>\n",
       "    <tr>\n",
       "      <th>3</th>\n",
       "      <td>PRV51001</td>\n",
       "      <td>No</td>\n",
       "      <td>BENE49220</td>\n",
       "      <td>CLM452024</td>\n",
       "      <td>2009-07-04</td>\n",
       "      <td>2009-07-04</td>\n",
       "      <td>70</td>\n",
       "      <td>PHY402512</td>\n",
       "      <td>NaN</td>\n",
       "      <td>NaN</td>\n",
       "      <td>...</td>\n",
       "      <td>1</td>\n",
       "      <td>1</td>\n",
       "      <td>0</td>\n",
       "      <td>0</td>\n",
       "      <td>5000</td>\n",
       "      <td>1068</td>\n",
       "      <td>370</td>\n",
       "      <td>70</td>\n",
       "      <td>91.0</td>\n",
       "      <td>0.0</td>\n",
       "    </tr>\n",
       "    <tr>\n",
       "      <th>4</th>\n",
       "      <td>PRV51001</td>\n",
       "      <td>No</td>\n",
       "      <td>BENE98831</td>\n",
       "      <td>CLM36844</td>\n",
       "      <td>2009-02-03</td>\n",
       "      <td>2009-02-08</td>\n",
       "      <td>3000</td>\n",
       "      <td>PHY383193</td>\n",
       "      <td>NaN</td>\n",
       "      <td>NaN</td>\n",
       "      <td>...</td>\n",
       "      <td>1</td>\n",
       "      <td>0</td>\n",
       "      <td>1</td>\n",
       "      <td>0</td>\n",
       "      <td>3000</td>\n",
       "      <td>1068</td>\n",
       "      <td>0</td>\n",
       "      <td>0</td>\n",
       "      <td>75.0</td>\n",
       "      <td>0.0</td>\n",
       "    </tr>\n",
       "  </tbody>\n",
       "</table>\n",
       "<p>5 rows × 59 columns</p>\n",
       "</div>"
      ],
      "text/plain": [
       "   Provider PotentialFraud     BeneID    ClaimID ClaimStartDt  ClaimEndDt  \\\n",
       "0  PRV51001             No  BENE32715  CLM272936   2009-03-29  2009-03-30   \n",
       "1  PRV51001             No  BENE36012   CLM58316   2009-07-04  2009-07-08   \n",
       "2  PRV51001             No  BENE38773   CLM52334   2009-05-23  2009-05-25   \n",
       "3  PRV51001             No  BENE49220  CLM452024   2009-07-04  2009-07-04   \n",
       "4  PRV51001             No  BENE98831   CLM36844   2009-02-03  2009-02-08   \n",
       "\n",
       "   InscClaimAmtReimbursed AttendingPhysician OperatingPhysician  \\\n",
       "0                     500          PHY318842          PHY392882   \n",
       "1                   36000          PHY340163                NaN   \n",
       "2                   12000          PHY346762                NaN   \n",
       "3                      70          PHY402512                NaN   \n",
       "4                    3000          PHY383193                NaN   \n",
       "\n",
       "  OtherPhysician  ... ChronicCond_IschemicHeart ChronicCond_Osteoporasis  \\\n",
       "0            NaN  ...                         1                        0   \n",
       "1            NaN  ...                         1                        0   \n",
       "2            NaN  ...                         0                        0   \n",
       "3            NaN  ...                         1                        1   \n",
       "4            NaN  ...                         1                        0   \n",
       "\n",
       "   ChronicCond_rheumatoidarthritis ChronicCond_stroke  \\\n",
       "0                                0                  0   \n",
       "1                                0                  1   \n",
       "2                                0                  0   \n",
       "3                                0                  0   \n",
       "4                                1                  0   \n",
       "\n",
       "  IPAnnualReimbursementAmt IPAnnualDeductibleAmt OPAnnualReimbursementAmt  \\\n",
       "0                     2020                  1068                     6700   \n",
       "1                    36000                  1068                     3520   \n",
       "2                    95000                  2136                     2270   \n",
       "3                     5000                  1068                      370   \n",
       "4                     3000                  1068                        0   \n",
       "\n",
       "  OPAnnualDeductibleAmt   Age WhetherDead  \n",
       "0                  2700  74.0         0.0  \n",
       "1                   140  69.0         0.0  \n",
       "2                   900  72.0         0.0  \n",
       "3                    70  91.0         0.0  \n",
       "4                     0  75.0         0.0  \n",
       "\n",
       "[5 rows x 59 columns]"
      ]
     },
     "execution_count": 44,
     "metadata": {},
     "output_type": "execute_result"
    }
   ],
   "source": [
    "print(\"Shape of Train Provider with Patient Details data :-\",train_provider_with_patients.shape)\n",
    "train_provider_with_patients.head()"
   ]
  },
  {
   "cell_type": "code",
   "execution_count": 45,
   "metadata": {},
   "outputs": [
    {
     "name": "stdout",
     "output_type": "stream",
     "text": [
      "Shape of Test Provider with Patient Details data :- (135392, 58)\n"
     ]
    },
    {
     "data": {
      "text/html": [
       "<div>\n",
       "<style scoped>\n",
       "    .dataframe tbody tr th:only-of-type {\n",
       "        vertical-align: middle;\n",
       "    }\n",
       "\n",
       "    .dataframe tbody tr th {\n",
       "        vertical-align: top;\n",
       "    }\n",
       "\n",
       "    .dataframe thead th {\n",
       "        text-align: right;\n",
       "    }\n",
       "</style>\n",
       "<table border=\"1\" class=\"dataframe\">\n",
       "  <thead>\n",
       "    <tr style=\"text-align: right;\">\n",
       "      <th></th>\n",
       "      <th>Provider</th>\n",
       "      <th>BeneID</th>\n",
       "      <th>ClaimID</th>\n",
       "      <th>ClaimStartDt</th>\n",
       "      <th>ClaimEndDt</th>\n",
       "      <th>InscClaimAmtReimbursed</th>\n",
       "      <th>AttendingPhysician</th>\n",
       "      <th>OperatingPhysician</th>\n",
       "      <th>OtherPhysician</th>\n",
       "      <th>AdmissionDt</th>\n",
       "      <th>...</th>\n",
       "      <th>ChronicCond_IschemicHeart</th>\n",
       "      <th>ChronicCond_Osteoporasis</th>\n",
       "      <th>ChronicCond_rheumatoidarthritis</th>\n",
       "      <th>ChronicCond_stroke</th>\n",
       "      <th>IPAnnualReimbursementAmt</th>\n",
       "      <th>IPAnnualDeductibleAmt</th>\n",
       "      <th>OPAnnualReimbursementAmt</th>\n",
       "      <th>OPAnnualDeductibleAmt</th>\n",
       "      <th>Age</th>\n",
       "      <th>WhetherDead</th>\n",
       "    </tr>\n",
       "  </thead>\n",
       "  <tbody>\n",
       "    <tr>\n",
       "      <th>0</th>\n",
       "      <td>PRV51002</td>\n",
       "      <td>BENE13915</td>\n",
       "      <td>CLM163936</td>\n",
       "      <td>2009-01-29</td>\n",
       "      <td>2009-01-29</td>\n",
       "      <td>40</td>\n",
       "      <td>PHY399539</td>\n",
       "      <td>PHY421140</td>\n",
       "      <td>NaN</td>\n",
       "      <td>NaT</td>\n",
       "      <td>...</td>\n",
       "      <td>1</td>\n",
       "      <td>0</td>\n",
       "      <td>0</td>\n",
       "      <td>0</td>\n",
       "      <td>22000</td>\n",
       "      <td>3204</td>\n",
       "      <td>1020</td>\n",
       "      <td>910</td>\n",
       "      <td>89.0</td>\n",
       "      <td>0.0</td>\n",
       "    </tr>\n",
       "    <tr>\n",
       "      <th>1</th>\n",
       "      <td>PRV51002</td>\n",
       "      <td>BENE13915</td>\n",
       "      <td>CLM348696</td>\n",
       "      <td>2009-05-09</td>\n",
       "      <td>2009-05-09</td>\n",
       "      <td>70</td>\n",
       "      <td>PHY352340</td>\n",
       "      <td>NaN</td>\n",
       "      <td>NaN</td>\n",
       "      <td>NaT</td>\n",
       "      <td>...</td>\n",
       "      <td>1</td>\n",
       "      <td>0</td>\n",
       "      <td>0</td>\n",
       "      <td>0</td>\n",
       "      <td>22000</td>\n",
       "      <td>3204</td>\n",
       "      <td>1020</td>\n",
       "      <td>910</td>\n",
       "      <td>89.0</td>\n",
       "      <td>0.0</td>\n",
       "    </tr>\n",
       "  </tbody>\n",
       "</table>\n",
       "<p>2 rows × 58 columns</p>\n",
       "</div>"
      ],
      "text/plain": [
       "   Provider     BeneID    ClaimID ClaimStartDt  ClaimEndDt  \\\n",
       "0  PRV51002  BENE13915  CLM163936   2009-01-29  2009-01-29   \n",
       "1  PRV51002  BENE13915  CLM348696   2009-05-09  2009-05-09   \n",
       "\n",
       "   InscClaimAmtReimbursed AttendingPhysician OperatingPhysician  \\\n",
       "0                      40          PHY399539          PHY421140   \n",
       "1                      70          PHY352340                NaN   \n",
       "\n",
       "  OtherPhysician AdmissionDt  ... ChronicCond_IschemicHeart  \\\n",
       "0            NaN         NaT  ...                         1   \n",
       "1            NaN         NaT  ...                         1   \n",
       "\n",
       "   ChronicCond_Osteoporasis ChronicCond_rheumatoidarthritis  \\\n",
       "0                         0                               0   \n",
       "1                         0                               0   \n",
       "\n",
       "  ChronicCond_stroke IPAnnualReimbursementAmt IPAnnualDeductibleAmt  \\\n",
       "0                  0                    22000                  3204   \n",
       "1                  0                    22000                  3204   \n",
       "\n",
       "  OPAnnualReimbursementAmt OPAnnualDeductibleAmt   Age WhetherDead  \n",
       "0                     1020                   910  89.0         0.0  \n",
       "1                     1020                   910  89.0         0.0  \n",
       "\n",
       "[2 rows x 58 columns]"
      ]
     },
     "execution_count": 45,
     "metadata": {},
     "output_type": "execute_result"
    }
   ],
   "source": [
    "print(\"Shape of Test Provider with Patient Details data :-\",test_provider_with_patients.shape)\n",
    "test_provider_with_patients.head(2)"
   ]
  },
  {
   "cell_type": "code",
   "execution_count": 46,
   "metadata": {},
   "outputs": [
    {
     "name": "stdout",
     "output_type": "stream",
     "text": [
      "Percent missing values in Train Provider with patient details data :\n",
      "\n"
     ]
    },
    {
     "data": {
      "text/plain": [
       "Provider                             0.000000\n",
       "PotentialFraud                       0.000000\n",
       "BeneID                               0.000000\n",
       "ClaimID                              0.000000\n",
       "ClaimStartDt                         0.000000\n",
       "ClaimEndDt                           0.000000\n",
       "InscClaimAmtReimbursed               0.000000\n",
       "AttendingPhysician                   0.270149\n",
       "OperatingPhysician                  79.497538\n",
       "OtherPhysician                      64.218548\n",
       "AdmissionDt                         92.749337\n",
       "ClmAdmitDiagnosisCode               73.863109\n",
       "DeductibleAmtPaid                    0.161050\n",
       "DischargeDt                         92.749337\n",
       "DiagnosisGroupCode                  92.749337\n",
       "ClmDiagnosisCode_1                   1.872589\n",
       "ClmDiagnosisCode_2                  35.041588\n",
       "ClmDiagnosisCode_3                  56.458221\n",
       "ClmDiagnosisCode_4                  70.524407\n",
       "ClmDiagnosisCode_5                  79.949517\n",
       "ClmDiagnosisCode_6                  84.881702\n",
       "ClmDiagnosisCode_7                  88.144805\n",
       "ClmDiagnosisCode_8                  90.425843\n",
       "ClmDiagnosisCode_9                  92.509105\n",
       "ClmDiagnosisCode_10                 99.102490\n",
       "ClmProcedureCode_1                  95.824160\n",
       "ClmProcedureCode_2                  99.016501\n",
       "ClmProcedureCode_3                  99.826410\n",
       "ClmProcedureCode_4                  99.978861\n",
       "ClmProcedureCode_5                  99.998388\n",
       "ClmProcedureCode_6                 100.000000\n",
       "AdmitForDays                        92.749337\n",
       "Admitted?                            0.000000\n",
       "DOB                                  0.000000\n",
       "DOD                                 99.259957\n",
       "Gender                               0.000000\n",
       "Race                                 0.000000\n",
       "RenalDiseaseIndicator                0.000000\n",
       "State                                0.000000\n",
       "Country                              0.000000\n",
       "NoOfMonths_PartACov                  0.000000\n",
       "NoOfMonths_PartBCov                  0.000000\n",
       "ChronicCond_Alzheimer                0.000000\n",
       "ChronicCond_Heartfailure             0.000000\n",
       "ChronicCond_KidneyDisease            0.000000\n",
       "ChronicCond_Cancer                   0.000000\n",
       "ChronicCond_ObstrPulmonary           0.000000\n",
       "ChronicCond_Depression               0.000000\n",
       "ChronicCond_Diabetes                 0.000000\n",
       "ChronicCond_IschemicHeart            0.000000\n",
       "ChronicCond_Osteoporasis             0.000000\n",
       "ChronicCond_rheumatoidarthritis      0.000000\n",
       "ChronicCond_stroke                   0.000000\n",
       "IPAnnualReimbursementAmt             0.000000\n",
       "IPAnnualDeductibleAmt                0.000000\n",
       "OPAnnualReimbursementAmt             0.000000\n",
       "OPAnnualDeductibleAmt                0.000000\n",
       "Age                                  0.000000\n",
       "WhetherDead                          0.000000\n",
       "dtype: float64"
      ]
     },
     "execution_count": 46,
     "metadata": {},
     "output_type": "execute_result"
    }
   ],
   "source": [
    "### Lets check missing value percentage in full datasets\n",
    "print('Percent missing values in Train Provider with patient details data :\\n')\n",
    "train_provider_with_patients.isnull().sum()*100/len(train_provider_with_patients)"
   ]
  },
  {
   "cell_type": "code",
   "execution_count": 47,
   "metadata": {},
   "outputs": [
    {
     "name": "stdout",
     "output_type": "stream",
     "text": [
      "Percent missing values in Test Provider with patient details data :\n",
      "\n"
     ]
    },
    {
     "data": {
      "text/plain": [
       "Provider                             0.000000\n",
       "BeneID                               0.000000\n",
       "ClaimID                              0.000000\n",
       "ClaimStartDt                         0.000000\n",
       "ClaimEndDt                           0.000000\n",
       "InscClaimAmtReimbursed               0.000000\n",
       "AttendingPhysician                   0.256293\n",
       "OperatingPhysician                  79.915357\n",
       "OtherPhysician                      64.080596\n",
       "AdmissionDt                         92.945669\n",
       "ClmAdmitDiagnosisCode               73.886197\n",
       "DeductibleAmtPaid                    0.144765\n",
       "DischargeDt                         92.945669\n",
       "DiagnosisGroupCode                  92.945669\n",
       "ClmDiagnosisCode_1                   1.904101\n",
       "ClmDiagnosisCode_2                  35.293814\n",
       "ClmDiagnosisCode_3                  56.682817\n",
       "ClmDiagnosisCode_4                  70.739039\n",
       "ClmDiagnosisCode_5                  80.207102\n",
       "ClmDiagnosisCode_6                  85.109903\n",
       "ClmDiagnosisCode_7                  88.341261\n",
       "ClmDiagnosisCode_8                  90.603581\n",
       "ClmDiagnosisCode_9                  92.705625\n",
       "ClmDiagnosisCode_10                 99.150615\n",
       "ClmProcedureCode_1                  95.962095\n",
       "ClmProcedureCode_2                  99.067153\n",
       "ClmProcedureCode_3                  99.833816\n",
       "ClmProcedureCode_4                  99.978581\n",
       "ClmProcedureCode_5                  99.998523\n",
       "ClmProcedureCode_6                 100.000000\n",
       "AdmitForDays                        92.945669\n",
       "Admitted?                            0.000000\n",
       "DOB                                  0.000000\n",
       "DOD                                 99.231860\n",
       "Gender                               0.000000\n",
       "Race                                 0.000000\n",
       "RenalDiseaseIndicator                0.000000\n",
       "State                                0.000000\n",
       "Country                              0.000000\n",
       "NoOfMonths_PartACov                  0.000000\n",
       "NoOfMonths_PartBCov                  0.000000\n",
       "ChronicCond_Alzheimer                0.000000\n",
       "ChronicCond_Heartfailure             0.000000\n",
       "ChronicCond_KidneyDisease            0.000000\n",
       "ChronicCond_Cancer                   0.000000\n",
       "ChronicCond_ObstrPulmonary           0.000000\n",
       "ChronicCond_Depression               0.000000\n",
       "ChronicCond_Diabetes                 0.000000\n",
       "ChronicCond_IschemicHeart            0.000000\n",
       "ChronicCond_Osteoporasis             0.000000\n",
       "ChronicCond_rheumatoidarthritis      0.000000\n",
       "ChronicCond_stroke                   0.000000\n",
       "IPAnnualReimbursementAmt             0.000000\n",
       "IPAnnualDeductibleAmt                0.000000\n",
       "OPAnnualReimbursementAmt             0.000000\n",
       "OPAnnualDeductibleAmt                0.000000\n",
       "Age                                  0.000000\n",
       "WhetherDead                          0.000000\n",
       "dtype: float64"
      ]
     },
     "execution_count": 47,
     "metadata": {},
     "output_type": "execute_result"
    }
   ],
   "source": [
    "print('Percent missing values in Test Provider with patient details data :\\n')\n",
    "test_provider_with_patients.isnull().sum()*100/len(test_provider_with_patients)"
   ]
  },
  {
   "cell_type": "code",
   "execution_count": 48,
   "metadata": {},
   "outputs": [
    {
     "data": {
      "text/plain": [
       "Provider                                   object\n",
       "PotentialFraud                             object\n",
       "BeneID                                     object\n",
       "ClaimID                                    object\n",
       "ClaimStartDt                               object\n",
       "ClaimEndDt                                 object\n",
       "InscClaimAmtReimbursed                      int64\n",
       "AttendingPhysician                         object\n",
       "OperatingPhysician                         object\n",
       "OtherPhysician                             object\n",
       "AdmissionDt                        datetime64[ns]\n",
       "ClmAdmitDiagnosisCode                      object\n",
       "DeductibleAmtPaid                         float64\n",
       "DischargeDt                        datetime64[ns]\n",
       "DiagnosisGroupCode                         object\n",
       "ClmDiagnosisCode_1                         object\n",
       "ClmDiagnosisCode_2                         object\n",
       "ClmDiagnosisCode_3                         object\n",
       "ClmDiagnosisCode_4                         object\n",
       "ClmDiagnosisCode_5                         object\n",
       "ClmDiagnosisCode_6                         object\n",
       "ClmDiagnosisCode_7                         object\n",
       "ClmDiagnosisCode_8                         object\n",
       "ClmDiagnosisCode_9                         object\n",
       "ClmDiagnosisCode_10                        object\n",
       "ClmProcedureCode_1                        float64\n",
       "ClmProcedureCode_2                        float64\n",
       "ClmProcedureCode_3                        float64\n",
       "ClmProcedureCode_4                        float64\n",
       "ClmProcedureCode_5                        float64\n",
       "ClmProcedureCode_6                        float64\n",
       "AdmitForDays                              float64\n",
       "Admitted?                                  object\n",
       "DOB                                datetime64[ns]\n",
       "DOD                                datetime64[ns]\n",
       "Gender                                      int64\n",
       "Race                                        int64\n",
       "RenalDiseaseIndicator                      object\n",
       "State                                       int64\n",
       "Country                                     int64\n",
       "NoOfMonths_PartACov                         int64\n",
       "NoOfMonths_PartBCov                         int64\n",
       "ChronicCond_Alzheimer                       int64\n",
       "ChronicCond_Heartfailure                    int64\n",
       "ChronicCond_KidneyDisease                   int64\n",
       "ChronicCond_Cancer                          int64\n",
       "ChronicCond_ObstrPulmonary                  int64\n",
       "ChronicCond_Depression                      int64\n",
       "ChronicCond_Diabetes                        int64\n",
       "ChronicCond_IschemicHeart                   int64\n",
       "ChronicCond_Osteoporasis                    int64\n",
       "ChronicCond_rheumatoidarthritis             int64\n",
       "ChronicCond_stroke                          int64\n",
       "IPAnnualReimbursementAmt                    int64\n",
       "IPAnnualDeductibleAmt                       int64\n",
       "OPAnnualReimbursementAmt                    int64\n",
       "OPAnnualDeductibleAmt                       int64\n",
       "Age                                       float64\n",
       "WhetherDead                               float64\n",
       "dtype: object"
      ]
     },
     "execution_count": 48,
     "metadata": {},
     "output_type": "execute_result"
    }
   ],
   "source": [
    "train_provider_with_patients.dtypes"
   ]
  },
  {
   "cell_type": "code",
   "execution_count": 49,
   "metadata": {},
   "outputs": [
    {
     "data": {
      "text/plain": [
       "Provider                                   object\n",
       "BeneID                                     object\n",
       "ClaimID                                    object\n",
       "ClaimStartDt                               object\n",
       "ClaimEndDt                                 object\n",
       "InscClaimAmtReimbursed                      int64\n",
       "AttendingPhysician                         object\n",
       "OperatingPhysician                         object\n",
       "OtherPhysician                             object\n",
       "AdmissionDt                        datetime64[ns]\n",
       "ClmAdmitDiagnosisCode                      object\n",
       "DeductibleAmtPaid                         float64\n",
       "DischargeDt                        datetime64[ns]\n",
       "DiagnosisGroupCode                         object\n",
       "ClmDiagnosisCode_1                         object\n",
       "ClmDiagnosisCode_2                         object\n",
       "ClmDiagnosisCode_3                         object\n",
       "ClmDiagnosisCode_4                         object\n",
       "ClmDiagnosisCode_5                         object\n",
       "ClmDiagnosisCode_6                         object\n",
       "ClmDiagnosisCode_7                         object\n",
       "ClmDiagnosisCode_8                         object\n",
       "ClmDiagnosisCode_9                         object\n",
       "ClmDiagnosisCode_10                        object\n",
       "ClmProcedureCode_1                        float64\n",
       "ClmProcedureCode_2                        float64\n",
       "ClmProcedureCode_3                        float64\n",
       "ClmProcedureCode_4                        float64\n",
       "ClmProcedureCode_5                        float64\n",
       "ClmProcedureCode_6                        float64\n",
       "AdmitForDays                              float64\n",
       "Admitted?                                  object\n",
       "DOB                                datetime64[ns]\n",
       "DOD                                datetime64[ns]\n",
       "Gender                                      int64\n",
       "Race                                        int64\n",
       "RenalDiseaseIndicator                      object\n",
       "State                                       int64\n",
       "Country                                     int64\n",
       "NoOfMonths_PartACov                         int64\n",
       "NoOfMonths_PartBCov                         int64\n",
       "ChronicCond_Alzheimer                       int64\n",
       "ChronicCond_Heartfailure                    int64\n",
       "ChronicCond_KidneyDisease                   int64\n",
       "ChronicCond_Cancer                          int64\n",
       "ChronicCond_ObstrPulmonary                  int64\n",
       "ChronicCond_Depression                      int64\n",
       "ChronicCond_Diabetes                        int64\n",
       "ChronicCond_IschemicHeart                   int64\n",
       "ChronicCond_Osteoporasis                    int64\n",
       "ChronicCond_rheumatoidarthritis             int64\n",
       "ChronicCond_stroke                          int64\n",
       "IPAnnualReimbursementAmt                    int64\n",
       "IPAnnualDeductibleAmt                       int64\n",
       "OPAnnualReimbursementAmt                    int64\n",
       "OPAnnualDeductibleAmt                       int64\n",
       "Age                                       float64\n",
       "WhetherDead                               float64\n",
       "dtype: object"
      ]
     },
     "execution_count": 49,
     "metadata": {},
     "output_type": "execute_result"
    }
   ],
   "source": [
    "test_provider_with_patients.dtypes"
   ]
  },
  {
   "cell_type": "markdown",
   "metadata": {},
   "source": [
    "### Entire Dataset"
   ]
  },
  {
   "cell_type": "markdown",
   "metadata": {},
   "source": [
    "Create `Claim_Period` columns"
   ]
  },
  {
   "cell_type": "code",
   "execution_count": 50,
   "metadata": {},
   "outputs": [],
   "source": [
    "## As patient can be admitted for only for 1 day, we will add 1 to the difference of Discharge Date and Admission Date \n",
    "\n",
    "train_provider_with_patients['ClaimStartDt'] = pd.to_datetime(train_provider_with_patients['ClaimStartDt'] , format = '%Y-%m-%d')\n",
    "train_provider_with_patients['ClaimEndDt'] = pd.to_datetime(train_provider_with_patients['ClaimEndDt'],format = '%Y-%m-%d')\n",
    "train_provider_with_patients['Claim_Period'] = ((train_provider_with_patients['ClaimEndDt'] - train_provider_with_patients['ClaimStartDt']).dt.days)+1\n",
    "\n",
    "\n",
    "test_provider_with_patients['ClaimStartDt'] = pd.to_datetime(test_provider_with_patients['ClaimStartDt'] , format = '%Y-%m-%d')\n",
    "test_provider_with_patients['ClaimEndDt'] = pd.to_datetime(test_provider_with_patients['ClaimEndDt'],format = '%Y-%m-%d')\n",
    "test_provider_with_patients['Claim_Period'] = ((test_provider_with_patients['ClaimEndDt'] - test_provider_with_patients['ClaimStartDt']).dt.days)+1"
   ]
  },
  {
   "cell_type": "markdown",
   "metadata": {},
   "source": [
    "Create `Patient_Risk_Score` columns"
   ]
  },
  {
   "cell_type": "code",
   "execution_count": 51,
   "metadata": {},
   "outputs": [
    {
     "data": {
      "text/html": [
       "<div>\n",
       "<style scoped>\n",
       "    .dataframe tbody tr th:only-of-type {\n",
       "        vertical-align: middle;\n",
       "    }\n",
       "\n",
       "    .dataframe tbody tr th {\n",
       "        vertical-align: top;\n",
       "    }\n",
       "\n",
       "    .dataframe thead th {\n",
       "        text-align: right;\n",
       "    }\n",
       "</style>\n",
       "<table border=\"1\" class=\"dataframe\">\n",
       "  <thead>\n",
       "    <tr style=\"text-align: right;\">\n",
       "      <th></th>\n",
       "      <th>ChronicCond_Alzheimer</th>\n",
       "      <th>ChronicCond_Heartfailure</th>\n",
       "      <th>ChronicCond_KidneyDisease</th>\n",
       "      <th>ChronicCond_Cancer</th>\n",
       "      <th>ChronicCond_ObstrPulmonary</th>\n",
       "      <th>ChronicCond_Depression</th>\n",
       "      <th>ChronicCond_Diabetes</th>\n",
       "      <th>ChronicCond_IschemicHeart</th>\n",
       "      <th>ChronicCond_Osteoporasis</th>\n",
       "      <th>ChronicCond_rheumatoidarthritis</th>\n",
       "      <th>ChronicCond_stroke</th>\n",
       "    </tr>\n",
       "  </thead>\n",
       "  <tbody>\n",
       "    <tr>\n",
       "      <th>0</th>\n",
       "      <td>1</td>\n",
       "      <td>1</td>\n",
       "      <td>1</td>\n",
       "      <td>1</td>\n",
       "      <td>1</td>\n",
       "      <td>1</td>\n",
       "      <td>1</td>\n",
       "      <td>1</td>\n",
       "      <td>0</td>\n",
       "      <td>0</td>\n",
       "      <td>0</td>\n",
       "    </tr>\n",
       "    <tr>\n",
       "      <th>1</th>\n",
       "      <td>0</td>\n",
       "      <td>1</td>\n",
       "      <td>1</td>\n",
       "      <td>0</td>\n",
       "      <td>0</td>\n",
       "      <td>1</td>\n",
       "      <td>1</td>\n",
       "      <td>1</td>\n",
       "      <td>0</td>\n",
       "      <td>0</td>\n",
       "      <td>1</td>\n",
       "    </tr>\n",
       "    <tr>\n",
       "      <th>2</th>\n",
       "      <td>0</td>\n",
       "      <td>0</td>\n",
       "      <td>1</td>\n",
       "      <td>0</td>\n",
       "      <td>0</td>\n",
       "      <td>0</td>\n",
       "      <td>0</td>\n",
       "      <td>0</td>\n",
       "      <td>0</td>\n",
       "      <td>0</td>\n",
       "      <td>0</td>\n",
       "    </tr>\n",
       "    <tr>\n",
       "      <th>3</th>\n",
       "      <td>1</td>\n",
       "      <td>1</td>\n",
       "      <td>0</td>\n",
       "      <td>0</td>\n",
       "      <td>0</td>\n",
       "      <td>0</td>\n",
       "      <td>0</td>\n",
       "      <td>1</td>\n",
       "      <td>1</td>\n",
       "      <td>0</td>\n",
       "      <td>0</td>\n",
       "    </tr>\n",
       "    <tr>\n",
       "      <th>4</th>\n",
       "      <td>1</td>\n",
       "      <td>1</td>\n",
       "      <td>0</td>\n",
       "      <td>0</td>\n",
       "      <td>0</td>\n",
       "      <td>1</td>\n",
       "      <td>1</td>\n",
       "      <td>1</td>\n",
       "      <td>0</td>\n",
       "      <td>1</td>\n",
       "      <td>0</td>\n",
       "    </tr>\n",
       "    <tr>\n",
       "      <th>...</th>\n",
       "      <td>...</td>\n",
       "      <td>...</td>\n",
       "      <td>...</td>\n",
       "      <td>...</td>\n",
       "      <td>...</td>\n",
       "      <td>...</td>\n",
       "      <td>...</td>\n",
       "      <td>...</td>\n",
       "      <td>...</td>\n",
       "      <td>...</td>\n",
       "      <td>...</td>\n",
       "    </tr>\n",
       "    <tr>\n",
       "      <th>558206</th>\n",
       "      <td>0</td>\n",
       "      <td>0</td>\n",
       "      <td>0</td>\n",
       "      <td>0</td>\n",
       "      <td>0</td>\n",
       "      <td>0</td>\n",
       "      <td>1</td>\n",
       "      <td>0</td>\n",
       "      <td>0</td>\n",
       "      <td>0</td>\n",
       "      <td>0</td>\n",
       "    </tr>\n",
       "    <tr>\n",
       "      <th>558207</th>\n",
       "      <td>1</td>\n",
       "      <td>0</td>\n",
       "      <td>0</td>\n",
       "      <td>0</td>\n",
       "      <td>0</td>\n",
       "      <td>1</td>\n",
       "      <td>1</td>\n",
       "      <td>1</td>\n",
       "      <td>1</td>\n",
       "      <td>1</td>\n",
       "      <td>0</td>\n",
       "    </tr>\n",
       "    <tr>\n",
       "      <th>558208</th>\n",
       "      <td>0</td>\n",
       "      <td>0</td>\n",
       "      <td>0</td>\n",
       "      <td>0</td>\n",
       "      <td>0</td>\n",
       "      <td>0</td>\n",
       "      <td>0</td>\n",
       "      <td>0</td>\n",
       "      <td>0</td>\n",
       "      <td>0</td>\n",
       "      <td>0</td>\n",
       "    </tr>\n",
       "    <tr>\n",
       "      <th>558209</th>\n",
       "      <td>0</td>\n",
       "      <td>0</td>\n",
       "      <td>0</td>\n",
       "      <td>0</td>\n",
       "      <td>0</td>\n",
       "      <td>0</td>\n",
       "      <td>1</td>\n",
       "      <td>1</td>\n",
       "      <td>0</td>\n",
       "      <td>0</td>\n",
       "      <td>0</td>\n",
       "    </tr>\n",
       "    <tr>\n",
       "      <th>558210</th>\n",
       "      <td>0</td>\n",
       "      <td>0</td>\n",
       "      <td>0</td>\n",
       "      <td>0</td>\n",
       "      <td>0</td>\n",
       "      <td>0</td>\n",
       "      <td>1</td>\n",
       "      <td>1</td>\n",
       "      <td>0</td>\n",
       "      <td>0</td>\n",
       "      <td>0</td>\n",
       "    </tr>\n",
       "  </tbody>\n",
       "</table>\n",
       "<p>558211 rows × 11 columns</p>\n",
       "</div>"
      ],
      "text/plain": [
       "        ChronicCond_Alzheimer  ChronicCond_Heartfailure  \\\n",
       "0                           1                         1   \n",
       "1                           0                         1   \n",
       "2                           0                         0   \n",
       "3                           1                         1   \n",
       "4                           1                         1   \n",
       "...                       ...                       ...   \n",
       "558206                      0                         0   \n",
       "558207                      1                         0   \n",
       "558208                      0                         0   \n",
       "558209                      0                         0   \n",
       "558210                      0                         0   \n",
       "\n",
       "        ChronicCond_KidneyDisease  ChronicCond_Cancer  \\\n",
       "0                               1                   1   \n",
       "1                               1                   0   \n",
       "2                               1                   0   \n",
       "3                               0                   0   \n",
       "4                               0                   0   \n",
       "...                           ...                 ...   \n",
       "558206                          0                   0   \n",
       "558207                          0                   0   \n",
       "558208                          0                   0   \n",
       "558209                          0                   0   \n",
       "558210                          0                   0   \n",
       "\n",
       "        ChronicCond_ObstrPulmonary  ChronicCond_Depression  \\\n",
       "0                                1                       1   \n",
       "1                                0                       1   \n",
       "2                                0                       0   \n",
       "3                                0                       0   \n",
       "4                                0                       1   \n",
       "...                            ...                     ...   \n",
       "558206                           0                       0   \n",
       "558207                           0                       1   \n",
       "558208                           0                       0   \n",
       "558209                           0                       0   \n",
       "558210                           0                       0   \n",
       "\n",
       "        ChronicCond_Diabetes  ChronicCond_IschemicHeart  \\\n",
       "0                          1                          1   \n",
       "1                          1                          1   \n",
       "2                          0                          0   \n",
       "3                          0                          1   \n",
       "4                          1                          1   \n",
       "...                      ...                        ...   \n",
       "558206                     1                          0   \n",
       "558207                     1                          1   \n",
       "558208                     0                          0   \n",
       "558209                     1                          1   \n",
       "558210                     1                          1   \n",
       "\n",
       "        ChronicCond_Osteoporasis  ChronicCond_rheumatoidarthritis  \\\n",
       "0                              0                                0   \n",
       "1                              0                                0   \n",
       "2                              0                                0   \n",
       "3                              1                                0   \n",
       "4                              0                                1   \n",
       "...                          ...                              ...   \n",
       "558206                         0                                0   \n",
       "558207                         1                                1   \n",
       "558208                         0                                0   \n",
       "558209                         0                                0   \n",
       "558210                         0                                0   \n",
       "\n",
       "        ChronicCond_stroke  \n",
       "0                        0  \n",
       "1                        1  \n",
       "2                        0  \n",
       "3                        0  \n",
       "4                        0  \n",
       "...                    ...  \n",
       "558206                   0  \n",
       "558207                   0  \n",
       "558208                   0  \n",
       "558209                   0  \n",
       "558210                   0  \n",
       "\n",
       "[558211 rows x 11 columns]"
      ]
     },
     "execution_count": 51,
     "metadata": {},
     "output_type": "execute_result"
    }
   ],
   "source": [
    "train_provider_with_patients.iloc[:,-18:-7]"
   ]
  },
  {
   "cell_type": "code",
   "execution_count": 52,
   "metadata": {},
   "outputs": [
    {
     "data": {
      "text/html": [
       "<div>\n",
       "<style scoped>\n",
       "    .dataframe tbody tr th:only-of-type {\n",
       "        vertical-align: middle;\n",
       "    }\n",
       "\n",
       "    .dataframe tbody tr th {\n",
       "        vertical-align: top;\n",
       "    }\n",
       "\n",
       "    .dataframe thead th {\n",
       "        text-align: right;\n",
       "    }\n",
       "</style>\n",
       "<table border=\"1\" class=\"dataframe\">\n",
       "  <thead>\n",
       "    <tr style=\"text-align: right;\">\n",
       "      <th></th>\n",
       "      <th>ChronicCond_Alzheimer</th>\n",
       "      <th>ChronicCond_Heartfailure</th>\n",
       "      <th>ChronicCond_KidneyDisease</th>\n",
       "      <th>ChronicCond_Cancer</th>\n",
       "      <th>ChronicCond_ObstrPulmonary</th>\n",
       "      <th>ChronicCond_Depression</th>\n",
       "      <th>ChronicCond_Diabetes</th>\n",
       "      <th>ChronicCond_IschemicHeart</th>\n",
       "      <th>ChronicCond_Osteoporasis</th>\n",
       "      <th>ChronicCond_rheumatoidarthritis</th>\n",
       "      <th>ChronicCond_stroke</th>\n",
       "    </tr>\n",
       "  </thead>\n",
       "  <tbody>\n",
       "    <tr>\n",
       "      <th>0</th>\n",
       "      <td>0</td>\n",
       "      <td>1</td>\n",
       "      <td>1</td>\n",
       "      <td>0</td>\n",
       "      <td>1</td>\n",
       "      <td>1</td>\n",
       "      <td>1</td>\n",
       "      <td>1</td>\n",
       "      <td>0</td>\n",
       "      <td>0</td>\n",
       "      <td>0</td>\n",
       "    </tr>\n",
       "    <tr>\n",
       "      <th>1</th>\n",
       "      <td>0</td>\n",
       "      <td>1</td>\n",
       "      <td>1</td>\n",
       "      <td>0</td>\n",
       "      <td>1</td>\n",
       "      <td>1</td>\n",
       "      <td>1</td>\n",
       "      <td>1</td>\n",
       "      <td>0</td>\n",
       "      <td>0</td>\n",
       "      <td>0</td>\n",
       "    </tr>\n",
       "    <tr>\n",
       "      <th>2</th>\n",
       "      <td>0</td>\n",
       "      <td>1</td>\n",
       "      <td>1</td>\n",
       "      <td>0</td>\n",
       "      <td>1</td>\n",
       "      <td>1</td>\n",
       "      <td>1</td>\n",
       "      <td>1</td>\n",
       "      <td>0</td>\n",
       "      <td>0</td>\n",
       "      <td>0</td>\n",
       "    </tr>\n",
       "    <tr>\n",
       "      <th>3</th>\n",
       "      <td>1</td>\n",
       "      <td>0</td>\n",
       "      <td>0</td>\n",
       "      <td>0</td>\n",
       "      <td>1</td>\n",
       "      <td>0</td>\n",
       "      <td>1</td>\n",
       "      <td>1</td>\n",
       "      <td>1</td>\n",
       "      <td>0</td>\n",
       "      <td>0</td>\n",
       "    </tr>\n",
       "    <tr>\n",
       "      <th>4</th>\n",
       "      <td>0</td>\n",
       "      <td>1</td>\n",
       "      <td>1</td>\n",
       "      <td>1</td>\n",
       "      <td>1</td>\n",
       "      <td>1</td>\n",
       "      <td>1</td>\n",
       "      <td>1</td>\n",
       "      <td>1</td>\n",
       "      <td>1</td>\n",
       "      <td>1</td>\n",
       "    </tr>\n",
       "    <tr>\n",
       "      <th>...</th>\n",
       "      <td>...</td>\n",
       "      <td>...</td>\n",
       "      <td>...</td>\n",
       "      <td>...</td>\n",
       "      <td>...</td>\n",
       "      <td>...</td>\n",
       "      <td>...</td>\n",
       "      <td>...</td>\n",
       "      <td>...</td>\n",
       "      <td>...</td>\n",
       "      <td>...</td>\n",
       "    </tr>\n",
       "    <tr>\n",
       "      <th>135387</th>\n",
       "      <td>0</td>\n",
       "      <td>1</td>\n",
       "      <td>0</td>\n",
       "      <td>0</td>\n",
       "      <td>0</td>\n",
       "      <td>1</td>\n",
       "      <td>1</td>\n",
       "      <td>1</td>\n",
       "      <td>0</td>\n",
       "      <td>0</td>\n",
       "      <td>0</td>\n",
       "    </tr>\n",
       "    <tr>\n",
       "      <th>135388</th>\n",
       "      <td>0</td>\n",
       "      <td>0</td>\n",
       "      <td>0</td>\n",
       "      <td>0</td>\n",
       "      <td>0</td>\n",
       "      <td>1</td>\n",
       "      <td>0</td>\n",
       "      <td>1</td>\n",
       "      <td>0</td>\n",
       "      <td>0</td>\n",
       "      <td>0</td>\n",
       "    </tr>\n",
       "    <tr>\n",
       "      <th>135389</th>\n",
       "      <td>0</td>\n",
       "      <td>0</td>\n",
       "      <td>0</td>\n",
       "      <td>0</td>\n",
       "      <td>0</td>\n",
       "      <td>1</td>\n",
       "      <td>0</td>\n",
       "      <td>1</td>\n",
       "      <td>0</td>\n",
       "      <td>0</td>\n",
       "      <td>0</td>\n",
       "    </tr>\n",
       "    <tr>\n",
       "      <th>135390</th>\n",
       "      <td>1</td>\n",
       "      <td>0</td>\n",
       "      <td>1</td>\n",
       "      <td>0</td>\n",
       "      <td>1</td>\n",
       "      <td>0</td>\n",
       "      <td>1</td>\n",
       "      <td>1</td>\n",
       "      <td>0</td>\n",
       "      <td>0</td>\n",
       "      <td>0</td>\n",
       "    </tr>\n",
       "    <tr>\n",
       "      <th>135391</th>\n",
       "      <td>0</td>\n",
       "      <td>1</td>\n",
       "      <td>0</td>\n",
       "      <td>0</td>\n",
       "      <td>1</td>\n",
       "      <td>0</td>\n",
       "      <td>0</td>\n",
       "      <td>1</td>\n",
       "      <td>0</td>\n",
       "      <td>0</td>\n",
       "      <td>0</td>\n",
       "    </tr>\n",
       "  </tbody>\n",
       "</table>\n",
       "<p>135392 rows × 11 columns</p>\n",
       "</div>"
      ],
      "text/plain": [
       "        ChronicCond_Alzheimer  ChronicCond_Heartfailure  \\\n",
       "0                           0                         1   \n",
       "1                           0                         1   \n",
       "2                           0                         1   \n",
       "3                           1                         0   \n",
       "4                           0                         1   \n",
       "...                       ...                       ...   \n",
       "135387                      0                         1   \n",
       "135388                      0                         0   \n",
       "135389                      0                         0   \n",
       "135390                      1                         0   \n",
       "135391                      0                         1   \n",
       "\n",
       "        ChronicCond_KidneyDisease  ChronicCond_Cancer  \\\n",
       "0                               1                   0   \n",
       "1                               1                   0   \n",
       "2                               1                   0   \n",
       "3                               0                   0   \n",
       "4                               1                   1   \n",
       "...                           ...                 ...   \n",
       "135387                          0                   0   \n",
       "135388                          0                   0   \n",
       "135389                          0                   0   \n",
       "135390                          1                   0   \n",
       "135391                          0                   0   \n",
       "\n",
       "        ChronicCond_ObstrPulmonary  ChronicCond_Depression  \\\n",
       "0                                1                       1   \n",
       "1                                1                       1   \n",
       "2                                1                       1   \n",
       "3                                1                       0   \n",
       "4                                1                       1   \n",
       "...                            ...                     ...   \n",
       "135387                           0                       1   \n",
       "135388                           0                       1   \n",
       "135389                           0                       1   \n",
       "135390                           1                       0   \n",
       "135391                           1                       0   \n",
       "\n",
       "        ChronicCond_Diabetes  ChronicCond_IschemicHeart  \\\n",
       "0                          1                          1   \n",
       "1                          1                          1   \n",
       "2                          1                          1   \n",
       "3                          1                          1   \n",
       "4                          1                          1   \n",
       "...                      ...                        ...   \n",
       "135387                     1                          1   \n",
       "135388                     0                          1   \n",
       "135389                     0                          1   \n",
       "135390                     1                          1   \n",
       "135391                     0                          1   \n",
       "\n",
       "        ChronicCond_Osteoporasis  ChronicCond_rheumatoidarthritis  \\\n",
       "0                              0                                0   \n",
       "1                              0                                0   \n",
       "2                              0                                0   \n",
       "3                              1                                0   \n",
       "4                              1                                1   \n",
       "...                          ...                              ...   \n",
       "135387                         0                                0   \n",
       "135388                         0                                0   \n",
       "135389                         0                                0   \n",
       "135390                         0                                0   \n",
       "135391                         0                                0   \n",
       "\n",
       "        ChronicCond_stroke  \n",
       "0                        0  \n",
       "1                        0  \n",
       "2                        0  \n",
       "3                        0  \n",
       "4                        1  \n",
       "...                    ...  \n",
       "135387                   0  \n",
       "135388                   0  \n",
       "135389                   0  \n",
       "135390                   0  \n",
       "135391                   0  \n",
       "\n",
       "[135392 rows x 11 columns]"
      ]
     },
     "execution_count": 52,
     "metadata": {},
     "output_type": "execute_result"
    }
   ],
   "source": [
    "test_provider_with_patients.iloc[:,-18:-7]"
   ]
  },
  {
   "cell_type": "code",
   "execution_count": 53,
   "metadata": {},
   "outputs": [],
   "source": [
    "train_provider_with_patients[\"Patient_Risk_Score\"] = train_provider_with_patients.iloc[:,-18:-7].sum(axis=1)\n",
    "test_provider_with_patients[\"Patient_Risk_Score\"] = test_provider_with_patients.iloc[:,-18:-7].sum(axis=1)"
   ]
  },
  {
   "cell_type": "markdown",
   "metadata": {},
   "source": [
    "Adding `Total Unique Claim Admit Codes` used by a `PROVIDER`"
   ]
  },
  {
   "cell_type": "markdown",
   "metadata": {},
   "source": [
    "Reasoning : The idea behind adding this feature is to see how many unique number of Claim Admit Diagnosis Codes used by the Provider.\n",
    "As there may be a pattern that if a provider has used so many Admit Diagnosis Codes then it might increases or decreases the chances of fraud."
   ]
  },
  {
   "cell_type": "code",
   "execution_count": 54,
   "metadata": {},
   "outputs": [],
   "source": [
    "train_provider_with_patients['Tot_Admit_DCodes'] = train_provider_with_patients.groupby(['Provider'])['ClmAdmitDiagnosisCode'].transform('nunique')\n",
    "test_provider_with_patients['Tot_Admit_DCodes'] = test_provider_with_patients.groupby(['Provider'])['ClmAdmitDiagnosisCode'].transform('nunique')"
   ]
  },
  {
   "cell_type": "code",
   "execution_count": 55,
   "metadata": {},
   "outputs": [
    {
     "data": {
      "text/plain": [
       "count    558211.000000\n",
       "mean        109.227258\n",
       "std         112.083238\n",
       "min           0.000000\n",
       "25%          28.000000\n",
       "50%          72.000000\n",
       "75%         152.000000\n",
       "max         582.000000\n",
       "Name: Tot_Admit_DCodes, dtype: float64"
      ]
     },
     "execution_count": 55,
     "metadata": {},
     "output_type": "execute_result"
    }
   ],
   "source": [
    "train_provider_with_patients[\"Tot_Admit_DCodes\"].describe()"
   ]
  },
  {
   "cell_type": "markdown",
   "metadata": {},
   "source": [
    "Adding `Total Unique Number of Diagnosis Group Codes` used by a `PROVIDER`"
   ]
  },
  {
   "cell_type": "markdown",
   "metadata": {},
   "source": [
    "Reasoning : The idea behind adding this feature is to see how many unique Diagnosis Group Codes used by the Provider.\n",
    "As there may be a pattern that if a provider has used so many Diagnosis Group Codes then it might increases or decreases the chances of fraud."
   ]
  },
  {
   "cell_type": "code",
   "execution_count": 56,
   "metadata": {},
   "outputs": [],
   "source": [
    "train_provider_with_patients['Tot_DGrpCodes'] = train_provider_with_patients.groupby(['Provider'])['DiagnosisGroupCode'].transform('nunique')\n",
    "test_provider_with_patients['Tot_DGrpCodes'] = test_provider_with_patients.groupby(['Provider'])['DiagnosisGroupCode'].transform('nunique')"
   ]
  },
  {
   "cell_type": "code",
   "execution_count": 57,
   "metadata": {},
   "outputs": [
    {
     "data": {
      "text/plain": [
       "count    558211.000000\n",
       "mean         22.234648\n",
       "std          46.571715\n",
       "min           0.000000\n",
       "25%           0.000000\n",
       "50%           0.000000\n",
       "75%          21.000000\n",
       "max         330.000000\n",
       "Name: Tot_DGrpCodes, dtype: float64"
      ]
     },
     "execution_count": 57,
     "metadata": {},
     "output_type": "execute_result"
    }
   ],
   "source": [
    "train_provider_with_patients[\"Tot_DGrpCodes\"].describe()"
   ]
  },
  {
   "cell_type": "markdown",
   "metadata": {},
   "source": [
    "Adding `Total Reimbursement Amount` for all patients"
   ]
  },
  {
   "cell_type": "code",
   "execution_count": 58,
   "metadata": {},
   "outputs": [],
   "source": [
    "# create new feature total reimbursement amount for inpatient and outpatient\n",
    "train_provider_with_patients['IP_OP_TotalReimbursementAmt'] = train_provider_with_patients['IPAnnualReimbursementAmt'] + train_provider_with_patients['OPAnnualReimbursementAmt']\n",
    "# create new feature total deductible amount for inpatient and outpatient\n",
    "train_provider_with_patients['IP_OP_AnnualDeductibleAmt'] = train_provider_with_patients['IPAnnualDeductibleAmt'] + train_provider_with_patients['OPAnnualDeductibleAmt']\n",
    "\n",
    "test_provider_with_patients['IP_OP_TotalReimbursementAmt'] = test_provider_with_patients['IPAnnualReimbursementAmt'] + test_provider_with_patients['OPAnnualReimbursementAmt']\n",
    "test_provider_with_patients['IP_OP_AnnualDeductibleAmt'] = test_provider_with_patients['IPAnnualDeductibleAmt'] + test_provider_with_patients['OPAnnualDeductibleAmt']"
   ]
  },
  {
   "cell_type": "markdown",
   "metadata": {},
   "source": [
    "Function for creating new feature using `group_by` and taking `mean` or `sum`"
   ]
  },
  {
   "cell_type": "code",
   "execution_count": 59,
   "metadata": {},
   "outputs": [],
   "source": [
    "def create_feature_using_groupby(Train_df, Test_df, gruopby_col, operation_col,operation):\n",
    "    '''\n",
    "    This function groupby the 'Train_df' and 'Test_df' dataframe by 'gruopby_col' and performs 'operation' on 'operation_col'\n",
    "    '''\n",
    "    \n",
    "    for col in operation_col:\n",
    "        # create new column name for the dataframe\n",
    "        new_col_name = 'Per'+''.join(gruopby_col)+'_'+operation+'_'+col\n",
    "        print(new_col_name)\n",
    "        Train_df[new_col_name] = Train_df.groupby(gruopby_col)[col].transform(operation)\n",
    "        Test_df[new_col_name] = Test_df.groupby(gruopby_col)[col].transform(operation)\n",
    "    return Train_df, Test_df"
   ]
  },
  {
   "cell_type": "markdown",
   "metadata": {},
   "source": [
    "Adding Aggregated Features based on `Provider`\n",
    "- As Providers submit the claim, they are mainly associated with the fraudulent activity. If the average claim amount or claim period is high for a provider, this is suspicious."
   ]
  },
  {
   "cell_type": "code",
   "execution_count": 60,
   "metadata": {},
   "outputs": [
    {
     "name": "stdout",
     "output_type": "stream",
     "text": [
      "PerProvider_mean_InscClaimAmtReimbursed\n",
      "PerProvider_mean_DeductibleAmtPaid\n",
      "PerProvider_mean_IPAnnualReimbursementAmt\n",
      "PerProvider_mean_IPAnnualDeductibleAmt\n",
      "PerProvider_mean_OPAnnualReimbursementAmt\n",
      "PerProvider_mean_OPAnnualDeductibleAmt\n",
      "PerProvider_mean_Age\n",
      "PerProvider_mean_NoOfMonths_PartACov\n",
      "PerProvider_mean_NoOfMonths_PartBCov\n",
      "PerProvider_mean_AdmitForDays\n",
      "PerProvider_mean_Claim_Period\n",
      "PerProvider_mean_Patient_Risk_Score\n"
     ]
    }
   ],
   "source": [
    "columns = ['InscClaimAmtReimbursed', 'DeductibleAmtPaid', 'IPAnnualReimbursementAmt', 'IPAnnualDeductibleAmt', 'OPAnnualReimbursementAmt', 'OPAnnualDeductibleAmt', 'Age', 'NoOfMonths_PartACov', 'NoOfMonths_PartBCov', 'AdmitForDays', 'Claim_Period', 'Patient_Risk_Score']\n",
    "\n",
    "train_provider_with_patients,test_provider_with_patients = create_feature_using_groupby(train_provider_with_patients, test_provider_with_patients, ['Provider'], columns, 'mean')"
   ]
  },
  {
   "cell_type": "markdown",
   "metadata": {},
   "source": [
    "Adding Aggregated Features based on `Beneficiaries`\n",
    "- Beneficiaries also associated with fraudulent activity. If the average claim amount is high for a beneficiary then this is suspicious"
   ]
  },
  {
   "cell_type": "code",
   "execution_count": 61,
   "metadata": {},
   "outputs": [
    {
     "name": "stdout",
     "output_type": "stream",
     "text": [
      "PerBeneID_mean_InscClaimAmtReimbursed\n",
      "PerBeneID_mean_DeductibleAmtPaid\n",
      "PerBeneID_mean_IPAnnualReimbursementAmt\n",
      "PerBeneID_mean_IPAnnualDeductibleAmt\n",
      "PerBeneID_mean_OPAnnualReimbursementAmt\n",
      "PerBeneID_mean_OPAnnualDeductibleAmt\n",
      "PerBeneID_mean_Age\n",
      "PerBeneID_mean_NoOfMonths_PartACov\n",
      "PerBeneID_mean_NoOfMonths_PartBCov\n",
      "PerBeneID_mean_AdmitForDays\n",
      "PerBeneID_mean_Claim_Period\n",
      "PerBeneID_mean_Patient_Risk_Score\n"
     ]
    }
   ],
   "source": [
    "columns = ['InscClaimAmtReimbursed', 'DeductibleAmtPaid', 'IPAnnualReimbursementAmt', 'IPAnnualDeductibleAmt', 'OPAnnualReimbursementAmt', 'OPAnnualDeductibleAmt', 'Age', 'NoOfMonths_PartACov', 'NoOfMonths_PartBCov', 'AdmitForDays', 'Claim_Period', 'Patient_Risk_Score']\n",
    "\n",
    "train_provider_with_patients,test_provider_with_patients = create_feature_using_groupby(train_provider_with_patients, test_provider_with_patients, ['BeneID'], columns, 'mean')"
   ]
  },
  {
   "cell_type": "markdown",
   "metadata": {},
   "source": [
    "Adding Aggregated Features based on `Physicians`\n",
    "- High amounts for a physician are suspicious."
   ]
  },
  {
   "cell_type": "code",
   "execution_count": 62,
   "metadata": {},
   "outputs": [
    {
     "name": "stdout",
     "output_type": "stream",
     "text": [
      "PerAttendingPhysician_mean_InscClaimAmtReimbursed\n",
      "PerAttendingPhysician_mean_DeductibleAmtPaid\n",
      "PerAttendingPhysician_mean_IPAnnualReimbursementAmt\n",
      "PerAttendingPhysician_mean_IPAnnualDeductibleAmt\n",
      "PerAttendingPhysician_mean_OPAnnualReimbursementAmt\n",
      "PerAttendingPhysician_mean_OPAnnualDeductibleAmt\n",
      "PerAttendingPhysician_mean_Age\n",
      "PerAttendingPhysician_mean_NoOfMonths_PartACov\n",
      "PerAttendingPhysician_mean_NoOfMonths_PartBCov\n",
      "PerAttendingPhysician_mean_AdmitForDays\n",
      "PerAttendingPhysician_mean_Claim_Period\n",
      "PerAttendingPhysician_mean_Patient_Risk_Score\n",
      "PerOperatingPhysician_mean_InscClaimAmtReimbursed\n",
      "PerOperatingPhysician_mean_DeductibleAmtPaid\n",
      "PerOperatingPhysician_mean_IPAnnualReimbursementAmt\n",
      "PerOperatingPhysician_mean_IPAnnualDeductibleAmt\n",
      "PerOperatingPhysician_mean_OPAnnualReimbursementAmt\n",
      "PerOperatingPhysician_mean_OPAnnualDeductibleAmt\n",
      "PerOperatingPhysician_mean_Age\n",
      "PerOperatingPhysician_mean_NoOfMonths_PartACov\n",
      "PerOperatingPhysician_mean_NoOfMonths_PartBCov\n",
      "PerOperatingPhysician_mean_AdmitForDays\n",
      "PerOperatingPhysician_mean_Claim_Period\n",
      "PerOperatingPhysician_mean_Patient_Risk_Score\n",
      "PerOtherPhysician_mean_InscClaimAmtReimbursed\n",
      "PerOtherPhysician_mean_DeductibleAmtPaid\n",
      "PerOtherPhysician_mean_IPAnnualReimbursementAmt\n",
      "PerOtherPhysician_mean_IPAnnualDeductibleAmt\n",
      "PerOtherPhysician_mean_OPAnnualReimbursementAmt\n",
      "PerOtherPhysician_mean_OPAnnualDeductibleAmt\n",
      "PerOtherPhysician_mean_Age\n",
      "PerOtherPhysician_mean_NoOfMonths_PartACov\n",
      "PerOtherPhysician_mean_NoOfMonths_PartBCov\n",
      "PerOtherPhysician_mean_AdmitForDays\n",
      "PerOtherPhysician_mean_Claim_Period\n",
      "PerOtherPhysician_mean_Patient_Risk_Score\n"
     ]
    }
   ],
   "source": [
    "columns = ['InscClaimAmtReimbursed', 'DeductibleAmtPaid', 'IPAnnualReimbursementAmt', 'IPAnnualDeductibleAmt', 'OPAnnualReimbursementAmt', 'OPAnnualDeductibleAmt', 'Age', 'NoOfMonths_PartACov', 'NoOfMonths_PartBCov', 'AdmitForDays', 'Claim_Period', 'Patient_Risk_Score']\n",
    "train_provider_with_patients,test_provider_with_patients =  create_feature_using_groupby(train_provider_with_patients, test_provider_with_patients, ['AttendingPhysician'], columns, 'mean')\n",
    "train_provider_with_patients,test_provider_with_patients =  create_feature_using_groupby(train_provider_with_patients, test_provider_with_patients, ['OperatingPhysician'], columns, 'mean')\n",
    "train_provider_with_patients,test_provider_with_patients =  create_feature_using_groupby(train_provider_with_patients, test_provider_with_patients, ['OtherPhysician'], columns, 'mean')"
   ]
  },
  {
   "cell_type": "markdown",
   "metadata": {},
   "source": [
    "Adding Aggregated Features based on `Diagnosis Codes`\n",
    "- To compare the average of costs between patients who performed the same tests"
   ]
  },
  {
   "cell_type": "code",
   "execution_count": 63,
   "metadata": {},
   "outputs": [
    {
     "name": "stdout",
     "output_type": "stream",
     "text": [
      "PerDiagnosisGroupCode_mean_InscClaimAmtReimbursed\n",
      "PerDiagnosisGroupCode_mean_DeductibleAmtPaid\n",
      "PerDiagnosisGroupCode_mean_IPAnnualReimbursementAmt\n",
      "PerDiagnosisGroupCode_mean_IPAnnualDeductibleAmt\n",
      "PerDiagnosisGroupCode_mean_OPAnnualReimbursementAmt\n",
      "PerDiagnosisGroupCode_mean_OPAnnualDeductibleAmt\n",
      "PerDiagnosisGroupCode_mean_Age\n",
      "PerDiagnosisGroupCode_mean_NoOfMonths_PartACov\n",
      "PerDiagnosisGroupCode_mean_NoOfMonths_PartBCov\n",
      "PerDiagnosisGroupCode_mean_AdmitForDays\n",
      "PerDiagnosisGroupCode_mean_Claim_Period\n",
      "PerDiagnosisGroupCode_mean_Patient_Risk_Score\n",
      "PerClmAdmitDiagnosisCode_mean_InscClaimAmtReimbursed\n",
      "PerClmAdmitDiagnosisCode_mean_DeductibleAmtPaid\n",
      "PerClmAdmitDiagnosisCode_mean_IPAnnualReimbursementAmt\n",
      "PerClmAdmitDiagnosisCode_mean_IPAnnualDeductibleAmt\n",
      "PerClmAdmitDiagnosisCode_mean_OPAnnualReimbursementAmt\n",
      "PerClmAdmitDiagnosisCode_mean_OPAnnualDeductibleAmt\n",
      "PerClmAdmitDiagnosisCode_mean_Age\n",
      "PerClmAdmitDiagnosisCode_mean_NoOfMonths_PartACov\n",
      "PerClmAdmitDiagnosisCode_mean_NoOfMonths_PartBCov\n",
      "PerClmAdmitDiagnosisCode_mean_AdmitForDays\n",
      "PerClmAdmitDiagnosisCode_mean_Claim_Period\n",
      "PerClmAdmitDiagnosisCode_mean_Patient_Risk_Score\n"
     ]
    }
   ],
   "source": [
    "columns = ['InscClaimAmtReimbursed', 'DeductibleAmtPaid', 'IPAnnualReimbursementAmt', 'IPAnnualDeductibleAmt', 'OPAnnualReimbursementAmt', 'OPAnnualDeductibleAmt', 'Age', 'NoOfMonths_PartACov', 'NoOfMonths_PartBCov', 'AdmitForDays', 'Claim_Period', 'Patient_Risk_Score']\n",
    "\n",
    "train_provider_with_patients,test_provider_with_patients = create_feature_using_groupby(train_provider_with_patients, test_provider_with_patients, ['DiagnosisGroupCode'], columns, 'mean')\n",
    "train_provider_with_patients,test_provider_with_patients = create_feature_using_groupby(train_provider_with_patients, test_provider_with_patients, ['ClmAdmitDiagnosisCode'], columns, 'mean')"
   ]
  },
  {
   "cell_type": "markdown",
   "metadata": {},
   "source": [
    "Adding Aggregated Features based on `Procudre Codes`\n",
    "- To compare the average of costs between patients who gone through the same procedure"
   ]
  },
  {
   "cell_type": "code",
   "execution_count": 64,
   "metadata": {},
   "outputs": [
    {
     "name": "stdout",
     "output_type": "stream",
     "text": [
      "PerClmProcedureCode_1_mean_InscClaimAmtReimbursed\n",
      "PerClmProcedureCode_1_mean_DeductibleAmtPaid\n",
      "PerClmProcedureCode_1_mean_IPAnnualReimbursementAmt\n",
      "PerClmProcedureCode_1_mean_IPAnnualDeductibleAmt\n",
      "PerClmProcedureCode_1_mean_OPAnnualReimbursementAmt\n",
      "PerClmProcedureCode_1_mean_OPAnnualDeductibleAmt\n",
      "PerClmProcedureCode_1_mean_Age\n",
      "PerClmProcedureCode_1_mean_NoOfMonths_PartACov\n",
      "PerClmProcedureCode_1_mean_NoOfMonths_PartBCov\n",
      "PerClmProcedureCode_1_mean_AdmitForDays\n",
      "PerClmProcedureCode_1_mean_Claim_Period\n",
      "PerClmProcedureCode_1_mean_Patient_Risk_Score\n",
      "PerClmProcedureCode_2_mean_InscClaimAmtReimbursed\n",
      "PerClmProcedureCode_2_mean_DeductibleAmtPaid\n",
      "PerClmProcedureCode_2_mean_IPAnnualReimbursementAmt\n",
      "PerClmProcedureCode_2_mean_IPAnnualDeductibleAmt\n",
      "PerClmProcedureCode_2_mean_OPAnnualReimbursementAmt\n",
      "PerClmProcedureCode_2_mean_OPAnnualDeductibleAmt\n",
      "PerClmProcedureCode_2_mean_Age\n",
      "PerClmProcedureCode_2_mean_NoOfMonths_PartACov\n",
      "PerClmProcedureCode_2_mean_NoOfMonths_PartBCov\n",
      "PerClmProcedureCode_2_mean_AdmitForDays\n",
      "PerClmProcedureCode_2_mean_Claim_Period\n",
      "PerClmProcedureCode_2_mean_Patient_Risk_Score\n",
      "PerClmProcedureCode_3_mean_InscClaimAmtReimbursed\n",
      "PerClmProcedureCode_3_mean_DeductibleAmtPaid\n",
      "PerClmProcedureCode_3_mean_IPAnnualReimbursementAmt\n",
      "PerClmProcedureCode_3_mean_IPAnnualDeductibleAmt\n",
      "PerClmProcedureCode_3_mean_OPAnnualReimbursementAmt\n",
      "PerClmProcedureCode_3_mean_OPAnnualDeductibleAmt\n",
      "PerClmProcedureCode_3_mean_Age\n",
      "PerClmProcedureCode_3_mean_NoOfMonths_PartACov\n",
      "PerClmProcedureCode_3_mean_NoOfMonths_PartBCov\n",
      "PerClmProcedureCode_3_mean_AdmitForDays\n",
      "PerClmProcedureCode_3_mean_Claim_Period\n",
      "PerClmProcedureCode_3_mean_Patient_Risk_Score\n",
      "PerClmProcedureCode_4_mean_InscClaimAmtReimbursed\n",
      "PerClmProcedureCode_4_mean_DeductibleAmtPaid\n",
      "PerClmProcedureCode_4_mean_IPAnnualReimbursementAmt\n",
      "PerClmProcedureCode_4_mean_IPAnnualDeductibleAmt\n",
      "PerClmProcedureCode_4_mean_OPAnnualReimbursementAmt\n",
      "PerClmProcedureCode_4_mean_OPAnnualDeductibleAmt\n",
      "PerClmProcedureCode_4_mean_Age\n",
      "PerClmProcedureCode_4_mean_NoOfMonths_PartACov\n",
      "PerClmProcedureCode_4_mean_NoOfMonths_PartBCov\n",
      "PerClmProcedureCode_4_mean_AdmitForDays\n",
      "PerClmProcedureCode_4_mean_Claim_Period\n",
      "PerClmProcedureCode_4_mean_Patient_Risk_Score\n"
     ]
    }
   ],
   "source": [
    "columns = ['InscClaimAmtReimbursed', 'DeductibleAmtPaid', 'IPAnnualReimbursementAmt', 'IPAnnualDeductibleAmt', 'OPAnnualReimbursementAmt', 'OPAnnualDeductibleAmt', 'Age', 'NoOfMonths_PartACov', 'NoOfMonths_PartBCov', 'AdmitForDays', 'Claim_Period', 'Patient_Risk_Score']\n",
    "\n",
    "train_provider_with_patients,test_provider_with_patients = create_feature_using_groupby(train_provider_with_patients, test_provider_with_patients, ['ClmProcedureCode_1'], columns, 'mean')\n",
    "train_provider_with_patients,test_provider_with_patients = create_feature_using_groupby(train_provider_with_patients, test_provider_with_patients, ['ClmProcedureCode_2'], columns, 'mean')\n",
    "train_provider_with_patients,test_provider_with_patients = create_feature_using_groupby(train_provider_with_patients, test_provider_with_patients, ['ClmProcedureCode_3'], columns, 'mean')\n",
    "train_provider_with_patients,test_provider_with_patients = create_feature_using_groupby(train_provider_with_patients, test_provider_with_patients, ['ClmProcedureCode_4'], columns, 'mean')"
   ]
  },
  {
   "cell_type": "markdown",
   "metadata": {},
   "source": [
    "Removing columns that are no longer required"
   ]
  },
  {
   "cell_type": "code",
   "execution_count": 65,
   "metadata": {},
   "outputs": [],
   "source": [
    "# Filling Nulls in Deductible Amt Paid by Patient\n",
    "train_provider_with_patients['DeductibleAmtPaid'].fillna(value=0, inplace=True)\n",
    "test_provider_with_patients['DeductibleAmtPaid'].fillna(value=0, inplace=True)"
   ]
  },
  {
   "cell_type": "code",
   "execution_count": 66,
   "metadata": {},
   "outputs": [],
   "source": [
    "# Binary encoding the categorical features --> 0 means No and 1 means Yes\n",
    "train_provider_with_patients['Gender'] = train_provider_with_patients['Gender'].apply(lambda val: 0 if val == 2 else val)\n",
    "train_provider_with_patients['PotentialFraud'] = train_provider_with_patients['PotentialFraud'].apply(lambda val: 0 if val == \"No\" else 1)\n",
    "\n",
    "test_provider_with_patients['Gender'] = test_provider_with_patients['Gender'].apply(lambda val: 0 if val == 2 else val)"
   ]
  },
  {
   "cell_type": "code",
   "execution_count": 67,
   "metadata": {},
   "outputs": [],
   "source": [
    "# Encoding the Categorical features\n",
    "train_provider_with_patients = pd.get_dummies(train_provider_with_patients,columns=['Gender', 'Race', 'Admitted?', 'WhetherDead'], drop_first=True)\n",
    "test_provider_with_patients = pd.get_dummies(test_provider_with_patients,columns=['Gender', 'Race', 'Admitted?', 'WhetherDead'], drop_first=True)"
   ]
  },
  {
   "cell_type": "markdown",
   "metadata": {},
   "source": [
    "Because our goal is to predict healthcare provider fraud. So, group by the provider and take sum to create a feature corresponding to each provider."
   ]
  },
  {
   "cell_type": "code",
   "execution_count": 68,
   "metadata": {},
   "outputs": [],
   "source": [
    "Final_Dataset_Provider_Train = train_provider_with_patients.groupby(['Provider','PotentialFraud'],as_index=False).agg('sum', numeric_only = True)\n",
    "Final_Dataset_Provider_Test  = test_provider_with_patients.groupby(['Provider'],as_index=False).agg('sum', numeric_only = True)"
   ]
  },
  {
   "cell_type": "markdown",
   "metadata": {},
   "source": [
    "## Exploratory Data Analysis"
   ]
  },
  {
   "cell_type": "code",
   "execution_count": 69,
   "metadata": {},
   "outputs": [],
   "source": [
    "def hex_to_RGB(hex_str):\n",
    "    \"\"\" #FFFFFF -> [255,255,255]\"\"\"\n",
    "    #Pass 16 to the integer function for change of base\n",
    "    return [int(hex_str[i:i+2], 16) for i in range(1,6,2)]\n",
    "\n",
    "def get_color_gradient(c1, c2, n):\n",
    "    \"\"\"\n",
    "    Given two hex colors, returns a color gradient\n",
    "    with n colors.\n",
    "    \"\"\"\n",
    "    assert n > 1\n",
    "    c1_rgb = np.array(hex_to_RGB(c1))/255\n",
    "    c2_rgb = np.array(hex_to_RGB(c2))/255\n",
    "    mix_pcts = [x/(n-1) for x in range(n)]\n",
    "    rgb_colors = [((1-mix)*c1_rgb + (mix*c2_rgb)) for mix in mix_pcts]\n",
    "    return [\"#\" + \"\".join([format(int(round(val*255)), \"02x\") for val in item]) for item in rgb_colors]\n"
   ]
  },
  {
   "cell_type": "code",
   "execution_count": 70,
   "metadata": {},
   "outputs": [
    {
     "data": {
      "image/png": "[encoded data removed]",
      "text/plain": [
       "<Figure size 720x576 with 1 Axes>"
      ]
     },
     "metadata": {
      "needs_background": "light"
     },
     "output_type": "display_data"
    }
   ],
   "source": [
    "# Plotting the percentage of fraud and non-fraud in the providers data\n",
    "count_classes = round(pd.value_counts(train_provider['PotentialFraud'], sort = True)*100/len(train_provider),3)\n",
    "LABELS = [\"Non Fraud\", \"Fraud\"]\n",
    "\n",
    "plt.figure(figsize=(10,8))\n",
    "p1 = plt.bar(LABELS, count_classes, color=[\"#a9def9\",\"#ff9770\"])\n",
    "\n",
    "plt.title(\"Potential Fraud distribution in Providers Data\", fontsize = 15)\n",
    "plt.xticks(range(2), LABELS)\n",
    "plt.xlabel(\"Potential Fraud Class \")\n",
    "plt.ylabel(\"Percentage (%)\")\n",
    "\n",
    "for rect1 in p1:\n",
    "    height = rect1.get_height()\n",
    "    plt.annotate( \"{}%\".format(height),(rect1.get_x() + rect1.get_width()/2, height+.05),ha=\"center\",va=\"bottom\",fontsize=15)\n",
    "\n",
    "plt.show()"
   ]
  },
  {
   "cell_type": "markdown",
   "metadata": {},
   "source": [
    "- This is a `highly imbalanced dataset`. There are 10% fraudulent providers and 90% non-fraudulent providers. Note that this is based on the provider data not the claims data"
   ]
  },
  {
   "cell_type": "code",
   "execution_count": 71,
   "metadata": {},
   "outputs": [
    {
     "data": {
      "image/png": "[encoded data removed]",
      "text/plain": [
       "<Figure size 720x576 with 1 Axes>"
      ]
     },
     "metadata": {
      "needs_background": "light"
     },
     "output_type": "display_data"
    }
   ],
   "source": [
    "# Distribution of Gender (Beneficiary Data)\n",
    "plt.figure(figsize=(10,8))\n",
    "\n",
    "count_classes = round(pd.value_counts(train_beneficiary['Gender'], sort = True)*100/len(train_beneficiary),3)\n",
    "LABELS = [\"0\", \"1\"]\n",
    "\n",
    "p1 = plt.bar(LABELS, count_classes, color=[\"#a9def9\",\"#ff9770\"])\n",
    "\n",
    "plt.title(\"Distribution of Gender in Beneficiary Data\", fontsize = 15)\n",
    "plt.xticks(range(2), LABELS)\n",
    "plt.xlabel(\"Gender\")\n",
    "plt.ylabel(\"Percentage (%)\")\n",
    "\n",
    "for rect1 in p1:\n",
    "    height = rect1.get_height()\n",
    "    plt.annotate( \"{}%\".format(height),(rect1.get_x() + rect1.get_width()/2, height+.05),ha=\"center\",va=\"bottom\",fontsize=15)\n",
    "\n",
    "plt.show()"
   ]
  },
  {
   "cell_type": "markdown",
   "metadata": {},
   "source": [
    "- The ratio of genders in beneficiary data is `Gender_0 : Gender_1 = 57% : 43%`"
   ]
  },
  {
   "cell_type": "code",
   "execution_count": 72,
   "metadata": {},
   "outputs": [
    {
     "data": {
      "text/plain": [
       "Text(0.5, 1.0, 'Distribution of Beneficiaries Age')"
      ]
     },
     "execution_count": 72,
     "metadata": {},
     "output_type": "execute_result"
    },
    {
     "data": {
      "image/png": "[encoded data removed]",
      "text/plain": [
       "<Figure size 720x576 with 1 Axes>"
      ]
     },
     "metadata": {
      "needs_background": "light"
     },
     "output_type": "display_data"
    }
   ],
   "source": [
    "plt.figure(figsize=(10,8))\n",
    "train_beneficiary[\"Age\"].plot(kind='hist', color=\"#ff9770\")\n",
    "# Providing the labels and title to the graph\n",
    "plt.xlabel(\"\\nBeneficiaries Age in years\")\n",
    "plt.ylabel(\"Frequency\\n\")\n",
    "plt.title(\"Distribution of Beneficiaries Age\")"
   ]
  },
  {
   "cell_type": "code",
   "execution_count": 73,
   "metadata": {},
   "outputs": [
    {
     "data": {
      "image/png": "[encoded data removed]",
      "text/plain": [
       "<Figure size 1152x576 with 1 Axes>"
      ]
     },
     "metadata": {
      "needs_background": "light"
     },
     "output_type": "display_data"
    }
   ],
   "source": [
    "# Distribution of State (Beneficiary Data)\n",
    "count_states = pd.value_counts(train_beneficiary['State'], sort = True).iloc[:20]\n",
    "\n",
    "(count_states*100/len(train_beneficiary)).plot(kind = 'bar', rot=0, figsize=(16,8), fontsize=12, \n",
    "    color=get_color_gradient(\"#8A5AC2\", \"#3575D5\", len(count_states)))\n",
    "\n",
    "plt.title(\"State-wise Beneficiary Distribution\",fontsize=18)\n",
    "plt.xlabel(\"State Number\",fontsize=15)\n",
    "plt.ylabel(\"Percentage of Beneficiaries (%)\",fontsize=15)\n",
    "plt.show()"
   ]
  },
  {
   "cell_type": "markdown",
   "metadata": {},
   "source": [
    "- The top 20 states in terms of the beneficiary count are shown in the above picture.\n",
    "- States with codes 5, 10, 45, 33, and 39 are the top 5 states.\n",
    "- 8.7% of the beneficiaries belong to state 5."
   ]
  },
  {
   "cell_type": "code",
   "execution_count": 74,
   "metadata": {},
   "outputs": [
    {
     "data": {
      "image/png": "[encoded data removed]",
      "text/plain": [
       "<Figure size 1152x576 with 1 Axes>"
      ]
     },
     "metadata": {
      "needs_background": "light"
     },
     "output_type": "display_data"
    }
   ],
   "source": [
    "# Distribution of Country (Beneficiary Data)\n",
    "count_country = pd.value_counts(train_beneficiary['Country'], sort = True).iloc[:20]\n",
    "\n",
    "(count_country*100/len(train_beneficiary)).plot(kind = 'bar', rot=0, figsize=(16,8), fontsize=12, \n",
    "    color=get_color_gradient(\"#8A5AC2\", \"#3575D5\", len(count_country)))\n",
    "\n",
    "plt.title(\"Country-wise Beneficiary Distribution\",fontsize=18)\n",
    "plt.xlabel(\"Country Code\",fontsize=15)\n",
    "plt.ylabel(\"Percentage of Beneficiaries (%)\",fontsize=15)\n",
    "plt.show()"
   ]
  },
  {
   "cell_type": "markdown",
   "metadata": {},
   "source": [
    "- The top 20 countries in terms of the beneficiary count are shown in the above picture.\n",
    "- Countries with codes 200, 10, 20, 60, and 0 are the top 5 states.\n",
    "- 2.85% of the beneficiaries belong to country code 200."
   ]
  },
  {
   "cell_type": "code",
   "execution_count": 75,
   "metadata": {},
   "outputs": [
    {
     "data": {
      "image/png": "[encoded data removed]",
      "text/plain": [
       "<Figure size 720x576 with 1 Axes>"
      ]
     },
     "metadata": {
      "needs_background": "light"
     },
     "output_type": "display_data"
    }
   ],
   "source": [
    "# Distribution of Gender (Beneficiary Data)\n",
    "plt.figure(figsize=(10,8))\n",
    "\n",
    "count_classes = round(pd.value_counts(train_beneficiary['Race'], sort = True)*100/len(train_beneficiary),3)\n",
    "LABELS = [\"Race_1\", \"Race_2\", \"Race_3\", \"Race_5\"]\n",
    "\n",
    "p1 = plt.bar(LABELS, count_classes, color=[\"#ffadad\", \"#ffd6a5\", \"#fdffb6\", \"#caffbf\"])\n",
    "\n",
    "plt.title(\"Distribution of Race in Beneficiary Data\", fontsize = 15)\n",
    "plt.xticks(range(len(LABELS)), LABELS)\n",
    "plt.xlabel(\"Race\")\n",
    "plt.ylabel(\"Percentage (%)\")\n",
    "\n",
    "for rect1 in p1:\n",
    "    height = rect1.get_height()\n",
    "    plt.annotate( \"{}%\".format(height),(rect1.get_x() + rect1.get_width()/2, height+.05),ha=\"center\",va=\"bottom\",fontsize=15)\n",
    "\n",
    "plt.show()"
   ]
  },
  {
   "cell_type": "markdown",
   "metadata": {},
   "source": [
    "- Race 1 is the most in terms of beneficiary count.\n",
    "- 85% of the beneficiaries belong to race 1.\n",
    "- There is no race 4 in the dataset."
   ]
  },
  {
   "cell_type": "code",
   "execution_count": 76,
   "metadata": {},
   "outputs": [
    {
     "data": {
      "image/png": "[encoded data removed]",
      "text/plain": [
       "<Figure size 432x288 with 1 Axes>"
      ]
     },
     "metadata": {
      "needs_background": "light"
     },
     "output_type": "display_data"
    }
   ],
   "source": [
    "ax=sns.countplot(x='ClmProcedureCode_1',hue='PotentialFraud',data=train_provider_with_patients\n",
    "              ,order=train_provider_with_patients.ClmProcedureCode_1.value_counts().iloc[:10].index\n",
    "              ,palette=[\"#a9def9\",\"#ff9770\"])\n",
    "\n",
    "plt.title('Top-10 Procedures invloved in Healthcare Fraud')\n",
    "plt.ylabel(\"Count\")\n",
    "\n",
    "plt.show()"
   ]
  },
  {
   "cell_type": "markdown",
   "metadata": {},
   "source": [
    "From the above plot, we can say that Procedure `9904,8154,66` are top procedures. <br> \n",
    "Distribution of fraud and non fraud count shows suspicious transactions involved in them."
   ]
  },
  {
   "cell_type": "code",
   "execution_count": 77,
   "metadata": {},
   "outputs": [
    {
     "data": {
      "image/png": "[encoded data removed]",
      "text/plain": [
       "<Figure size 432x288 with 1 Axes>"
      ]
     },
     "metadata": {
      "needs_background": "light"
     },
     "output_type": "display_data"
    }
   ],
   "source": [
    "ax=sns.countplot(x='ClmDiagnosisCode_1',hue='PotentialFraud',data=train_provider_with_patients\n",
    "              ,order=train_provider_with_patients.ClmDiagnosisCode_1.value_counts().iloc[:10].index\n",
    "              ,palette=[\"#a9def9\",\"#ff9770\"])\n",
    "\n",
    "plt.title('Top-10 Diagnosis invloved in Healthcare Fraud')\n",
    "plt.ylabel(\"Count\")\n",
    "\n",
    "plt.show()"
   ]
  },
  {
   "cell_type": "markdown",
   "metadata": {},
   "source": [
    "From the above plot,we can say that diagnosis `4019,4011,2724` are top diagnosis. <br>\n",
    "Distribution of fraud and non fraud count shows suspicious transactions involved in them."
   ]
  },
  {
   "cell_type": "code",
   "execution_count": 78,
   "metadata": {},
   "outputs": [
    {
     "data": {
      "image/png": "[encoded data removed]",
      "text/plain": [
       "<Figure size 432x288 with 1 Axes>"
      ]
     },
     "metadata": {
      "needs_background": "light"
     },
     "output_type": "display_data"
    }
   ],
   "source": [
    "ax=sns.countplot(x='AttendingPhysician',hue='PotentialFraud',data=train_provider_with_patients\n",
    "              ,order=train_provider_with_patients.AttendingPhysician.value_counts().iloc[:20].index\n",
    "              ,palette=[\"#a9def9\",\"#ff9770\"])\n",
    "\n",
    "plt.title('Top-20 Attending Physician invloved in Healthcare Fraud')\n",
    "plt.xticks(rotation=90)\n",
    "plt.ylabel(\"Count\")\n",
    "\n",
    "plt.show()"
   ]
  },
  {
   "cell_type": "markdown",
   "metadata": {},
   "source": [
    "In the above plot,we see count of involvement of attending physicians and flags the nature of provider where they are working is whether fraud or non fraud."
   ]
  },
  {
   "cell_type": "code",
   "execution_count": 79,
   "metadata": {},
   "outputs": [
    {
     "data": {
      "text/plain": [
       "<seaborn.axisgrid.FacetGrid at 0x169aa60dca0>"
      ]
     },
     "execution_count": 79,
     "metadata": {},
     "output_type": "execute_result"
    },
    {
     "data": {
      "image/png": "[encoded data removed]",
      "text/plain": [
       "<Figure size 720x360 with 2 Axes>"
      ]
     },
     "metadata": {
      "needs_background": "light"
     },
     "output_type": "display_data"
    }
   ],
   "source": [
    "# IPAnnualDeductibleAmt Vs IPAnnualReimbursementAmt Fraud and non Fraud Categories\n",
    "sns.lmplot(x='IPAnnualDeductibleAmt',y='IPAnnualReimbursementAmt',hue='PotentialFraud',\n",
    "           col='PotentialFraud',fit_reg=False,data=train_provider_with_patients).set(ylim=(-10000, None)).set(xlim=(-2500,None))"
   ]
  },
  {
   "cell_type": "markdown",
   "metadata": {},
   "source": [
    "As we see in the above graph, `there is no visible difference` in IPAnnualDeductibleAmt and IPAnnualReimbursementAmt between the Fraud and Non Fraud"
   ]
  },
  {
   "cell_type": "code",
   "execution_count": 80,
   "metadata": {},
   "outputs": [
    {
     "data": {
      "text/plain": [
       "<seaborn.axisgrid.FacetGrid at 0x169ae6d9100>"
      ]
     },
     "execution_count": 80,
     "metadata": {},
     "output_type": "execute_result"
    },
    {
     "data": {
      "image/png": "[encoded data removed]",
      "text/plain": [
       "<Figure size 720x360 with 2 Axes>"
      ]
     },
     "metadata": {
      "needs_background": "light"
     },
     "output_type": "display_data"
    }
   ],
   "source": [
    "# DeductibleAmtPaid Vs InsClaimAmtReimbursed in Fraud and non Fraud Categories\n",
    "sns.lmplot(x='DeductibleAmtPaid',y='InscClaimAmtReimbursed',hue='PotentialFraud',\n",
    "           col='PotentialFraud',fit_reg=False,data=train_provider_with_patients).set(ylim=(-5000, None)).set(xlim=(-50,None))"
   ]
  },
  {
   "cell_type": "markdown",
   "metadata": {},
   "source": [
    "As we see in the above graph, `there is no visible difference` in DeductibleAmtPaid and InsClaimAmtReimbursed."
   ]
  },
  {
   "cell_type": "code",
   "execution_count": 81,
   "metadata": {},
   "outputs": [
    {
     "data": {
      "text/plain": [
       "(0.0, 120000.0)"
      ]
     },
     "execution_count": 81,
     "metadata": {},
     "output_type": "execute_result"
    },
    {
     "data": {
      "image/png": "[encoded data removed]",
      "text/plain": [
       "<Figure size 1080x432 with 2 Axes>"
      ]
     },
     "metadata": {
      "needs_background": "light"
     },
     "output_type": "display_data"
    }
   ],
   "source": [
    "fig, axes = plt.subplots(1,2, figsize=(15,6))\n",
    "fig.suptitle('Annual Reimbursement Amount (Inpatient and Outpatient)')\n",
    "sns.distplot(train_beneficiary['IPAnnualReimbursementAmt'], hist=True, kde=True, \n",
    "             bins=50, color = 'blue',\n",
    "             hist_kws={'edgecolor':'black'}, ax= axes[0])\n",
    "axes[0].set_title(\"IPAnnualReimbursementAmt Inpatient Data\")\n",
    "axes[0].set_xlim(0,170000)\n",
    "\n",
    "sns.distplot(train_beneficiary['OPAnnualReimbursementAmt'], hist=True, kde=True, \n",
    "             bins=50, color = 'blue',\n",
    "             hist_kws={'edgecolor':'black'}, ax= axes[1])\n",
    "axes[1].set_title(\"OPAnnualReimbursementAmt Outpatient Data\")\n",
    "axes[1].set_xlim(0,120000)"
   ]
  },
  {
   "cell_type": "markdown",
   "metadata": {},
   "source": [
    "- The total annual reimbursement amount for inpatient is 507.162.970 and outpatient is 179.876.080. The inpatient reimbursement amount is 2,81 times the outpatient amount.\n",
    "There are some outliers in both inpatient and outpatient as the tail of both the distributions is flat with high value."
   ]
  },
  {
   "cell_type": "code",
   "execution_count": 82,
   "metadata": {},
   "outputs": [
    {
     "data": {
      "text/plain": [
       "(0.0, 15000.0)"
      ]
     },
     "execution_count": 82,
     "metadata": {},
     "output_type": "execute_result"
    },
    {
     "data": {
      "image/png": "[encoded data removed]",
      "text/plain": [
       "<Figure size 1080x432 with 2 Axes>"
      ]
     },
     "metadata": {
      "needs_background": "light"
     },
     "output_type": "display_data"
    }
   ],
   "source": [
    "fig, axes = plt.subplots(1,2, figsize=(15,6))\n",
    "fig.suptitle('Annual Deductible Amount (Inpatient and Outpatient)')\n",
    "sns.distplot(train_beneficiary['IPAnnualDeductibleAmt'], hist=True, kde=True, \n",
    "             bins=50, color = 'blue',\n",
    "             hist_kws={'edgecolor':'black'}, ax= axes[0])\n",
    "axes[0].set_title(\"IPAnnualDeductibleAmt Inpatient Data\")\n",
    "axes[0].set_xlim(0,40000)\n",
    "\n",
    "sns.distplot(train_beneficiary['OPAnnualDeductibleAmt'], hist=True, kde=True, \n",
    "             bins=50, color = 'blue',\n",
    "             hist_kws={'edgecolor':'black'}, ax= axes[1])\n",
    "axes[1].set_title(\"OPAnnualDeductibleAmt Outpatient Data\")\n",
    "axes[1].set_xlim(0,15000)"
   ]
  },
  {
   "cell_type": "markdown",
   "metadata": {},
   "source": [
    "- The total annual deductible amount for inpatient is 55.401.242 and outpatient is 52.335.131.\n",
    "- In both of the datasets there exists some outliers with high value."
   ]
  },
  {
   "cell_type": "markdown",
   "metadata": {},
   "source": [
    "## Modelling - LinearSVM with Default Values"
   ]
  },
  {
   "cell_type": "markdown",
   "metadata": {},
   "source": [
    "Default Value of LinearSVC is C = 1.0"
   ]
  },
  {
   "cell_type": "code",
   "execution_count": 83,
   "metadata": {},
   "outputs": [],
   "source": [
    "def plot_roc_curve(true_y, y_prob):\n",
    "    \"\"\"\n",
    "    plots the roc curve based of the probabilities\n",
    "    \"\"\"\n",
    "\n",
    "    fpr, tpr, thresholds = roc_curve(true_y, y_prob)\n",
    "    plt.plot(fpr, tpr)\n",
    "    plt.xlabel('False Positive Rate')\n",
    "    plt.ylabel('True Positive Rate')"
   ]
  },
  {
   "cell_type": "markdown",
   "metadata": {},
   "source": [
    "#### Creating sets of input features and target features (Always Run Before Doing Another Modelling)"
   ]
  },
  {
   "cell_type": "code",
   "execution_count": 169,
   "metadata": {},
   "outputs": [],
   "source": [
    "X = Final_Dataset_Provider_Train.drop(axis=1, columns=['Provider', 'PotentialFraud'])\n",
    "y = Final_Dataset_Provider_Train[\"PotentialFraud\"]"
   ]
  },
  {
   "cell_type": "code",
   "execution_count": 170,
   "metadata": {},
   "outputs": [],
   "source": [
    "robust_scaler = RobustScaler()\n",
    "robust_scaler.fit(X)\n",
    "X_std = robust_scaler.transform(X)"
   ]
  },
  {
   "cell_type": "markdown",
   "metadata": {},
   "source": [
    "### Without Oversampling"
   ]
  },
  {
   "cell_type": "markdown",
   "metadata": {},
   "source": [
    "- Training:Test = 80:20"
   ]
  },
  {
   "cell_type": "code",
   "execution_count": 171,
   "metadata": {},
   "outputs": [],
   "source": [
    "X_train, X_test, y_train, y_test = train_test_split(X_std, y, test_size=0.20, stratify=y, random_state=10820034)"
   ]
  },
  {
   "cell_type": "code",
   "execution_count": 172,
   "metadata": {},
   "outputs": [
    {
     "name": "stdout",
     "output_type": "stream",
     "text": [
      "Score: 0.9297597042513863\n"
     ]
    }
   ],
   "source": [
    "lsvc = LinearSVC(random_state=777)\n",
    "lsvc.fit(X_train, y_train)\n",
    "score = lsvc.score(X_train, y_train)\n",
    "print(\"Score:\", score)"
   ]
  },
  {
   "cell_type": "code",
   "execution_count": 173,
   "metadata": {},
   "outputs": [
    {
     "data": {
      "image/png": "[encoded data removed]",
      "text/plain": [
       "<Figure size 576x396 with 2 Axes>"
      ]
     },
     "metadata": {},
     "output_type": "display_data"
    }
   ],
   "source": [
    "y_pred = lsvc.predict(X_test)\n",
    "\n",
    "cm = confusion_matrix(y_test, y_pred)\n",
    "cm_display = ConfusionMatrixDisplay(confusion_matrix = cm, display_labels = [\"Non-Fraud\", \"Fraud\"])\n",
    "\n",
    "cm_display.plot()\n",
    "plt.grid(False)\n",
    "plt.show()"
   ]
  },
  {
   "cell_type": "code",
   "execution_count": 174,
   "metadata": {},
   "outputs": [
    {
     "name": "stdout",
     "output_type": "stream",
     "text": [
      "              precision    recall  f1-score   support\n",
      "\n",
      "           0       0.94      0.98      0.96       981\n",
      "           1       0.67      0.42      0.51       101\n",
      "\n",
      "    accuracy                           0.93      1082\n",
      "   macro avg       0.80      0.70      0.74      1082\n",
      "weighted avg       0.92      0.93      0.92      1082\n",
      "\n"
     ]
    }
   ],
   "source": [
    "cr = classification_report(y_test, y_pred)\n",
    "print(cr)"
   ]
  },
  {
   "cell_type": "code",
   "execution_count": 175,
   "metadata": {},
   "outputs": [
    {
     "name": "stdout",
     "output_type": "stream",
     "text": [
      "AUC Score: 0.6972174281648348\n"
     ]
    }
   ],
   "source": [
    "print(\"AUC Score:\", roc_auc_score(y_test,y_pred))"
   ]
  },
  {
   "cell_type": "code",
   "execution_count": 176,
   "metadata": {},
   "outputs": [
    {
     "data": {
      "image/png": "[encoded data removed]",
      "text/plain": [
       "<Figure size 576x396 with 1 Axes>"
      ]
     },
     "metadata": {},
     "output_type": "display_data"
    }
   ],
   "source": [
    "plot_roc_curve(y_test, y_pred)"
   ]
  },
  {
   "cell_type": "markdown",
   "metadata": {},
   "source": [
    "- Training:Test = 75:25"
   ]
  },
  {
   "cell_type": "code",
   "execution_count": 177,
   "metadata": {},
   "outputs": [],
   "source": [
    "X_train, X_test, y_train, y_test = train_test_split(X_std, y, test_size=0.25, stratify=y, random_state=10820034)"
   ]
  },
  {
   "cell_type": "code",
   "execution_count": 178,
   "metadata": {},
   "outputs": [
    {
     "name": "stdout",
     "output_type": "stream",
     "text": [
      "Score: 0.9132363815627311\n"
     ]
    }
   ],
   "source": [
    "lsvc = LinearSVC(random_state=777)\n",
    "lsvc.fit(X_train, y_train)\n",
    "score = lsvc.score(X_train, y_train)\n",
    "print(\"Score:\", score)"
   ]
  },
  {
   "cell_type": "code",
   "execution_count": 179,
   "metadata": {},
   "outputs": [
    {
     "data": {
      "image/png": "[encoded data removed]",
      "text/plain": [
       "<Figure size 576x396 with 2 Axes>"
      ]
     },
     "metadata": {},
     "output_type": "display_data"
    }
   ],
   "source": [
    "y_pred = lsvc.predict(X_test)\n",
    "\n",
    "cm = confusion_matrix(y_test, y_pred)\n",
    "cm_display = ConfusionMatrixDisplay(confusion_matrix = cm, display_labels = [\"Non-Fraud\", \"Fraud\"])\n",
    "\n",
    "cm_display.plot()\n",
    "plt.grid(False)\n",
    "plt.show()"
   ]
  },
  {
   "cell_type": "code",
   "execution_count": 180,
   "metadata": {},
   "outputs": [
    {
     "name": "stdout",
     "output_type": "stream",
     "text": [
      "              precision    recall  f1-score   support\n",
      "\n",
      "           0       0.94      0.95      0.95      1226\n",
      "           1       0.47      0.46      0.46       127\n",
      "\n",
      "    accuracy                           0.90      1353\n",
      "   macro avg       0.71      0.70      0.70      1353\n",
      "weighted avg       0.90      0.90      0.90      1353\n",
      "\n"
     ]
    }
   ],
   "source": [
    "cr = classification_report(y_test, y_pred)\n",
    "print(cr)"
   ]
  },
  {
   "cell_type": "code",
   "execution_count": 181,
   "metadata": {},
   "outputs": [
    {
     "name": "stdout",
     "output_type": "stream",
     "text": [
      "AUC Score: 0.7018374844253767\n"
     ]
    }
   ],
   "source": [
    "print(\"AUC Score:\", roc_auc_score(y_test,y_pred))"
   ]
  },
  {
   "cell_type": "code",
   "execution_count": 182,
   "metadata": {},
   "outputs": [
    {
     "data": {
      "image/png": "[encoded data removed]",
      "text/plain": [
       "<Figure size 576x396 with 1 Axes>"
      ]
     },
     "metadata": {},
     "output_type": "display_data"
    }
   ],
   "source": [
    "plot_roc_curve(y_test, y_pred)"
   ]
  },
  {
   "cell_type": "markdown",
   "metadata": {},
   "source": [
    "- Training:Test = 70:30"
   ]
  },
  {
   "cell_type": "code",
   "execution_count": 183,
   "metadata": {},
   "outputs": [],
   "source": [
    "X_train, X_test, y_train, y_test = train_test_split(X_std, y, test_size=0.3, stratify=y, random_state=10820034)"
   ]
  },
  {
   "cell_type": "code",
   "execution_count": 184,
   "metadata": {},
   "outputs": [
    {
     "name": "stdout",
     "output_type": "stream",
     "text": [
      "Score: 0.9133879059941906\n"
     ]
    }
   ],
   "source": [
    "lsvc = LinearSVC(random_state=777)\n",
    "lsvc.fit(X_train, y_train)\n",
    "score = lsvc.score(X_train, y_train)\n",
    "print(\"Score:\", score)"
   ]
  },
  {
   "cell_type": "code",
   "execution_count": 185,
   "metadata": {},
   "outputs": [
    {
     "data": {
      "image/png": "[encoded data removed]",
      "text/plain": [
       "<Figure size 576x396 with 2 Axes>"
      ]
     },
     "metadata": {},
     "output_type": "display_data"
    }
   ],
   "source": [
    "y_pred = lsvc.predict(X_test)\n",
    "\n",
    "cm = confusion_matrix(y_test, y_pred)\n",
    "cm_display = ConfusionMatrixDisplay(confusion_matrix = cm, display_labels = [\"Non-Fraud\", \"Fraud\"])\n",
    "\n",
    "cm_display.plot()\n",
    "plt.grid(False)\n",
    "plt.show()"
   ]
  },
  {
   "cell_type": "code",
   "execution_count": 186,
   "metadata": {},
   "outputs": [
    {
     "name": "stdout",
     "output_type": "stream",
     "text": [
      "              precision    recall  f1-score   support\n",
      "\n",
      "           0       0.91      1.00      0.95      1471\n",
      "           1       0.81      0.09      0.15       152\n",
      "\n",
      "    accuracy                           0.91      1623\n",
      "   macro avg       0.86      0.54      0.55      1623\n",
      "weighted avg       0.90      0.91      0.88      1623\n",
      "\n"
     ]
    }
   ],
   "source": [
    "cr = classification_report(y_test, y_pred)\n",
    "print(cr)"
   ]
  },
  {
   "cell_type": "code",
   "execution_count": 187,
   "metadata": {},
   "outputs": [
    {
     "name": "stdout",
     "output_type": "stream",
     "text": [
      "AUC Score: 0.5417434434147912\n"
     ]
    }
   ],
   "source": [
    "print(\"AUC Score:\", roc_auc_score(y_test,y_pred))"
   ]
  },
  {
   "cell_type": "code",
   "execution_count": 188,
   "metadata": {},
   "outputs": [
    {
     "data": {
      "image/png": "[encoded data removed]",
      "text/plain": [
       "<Figure size 576x396 with 1 Axes>"
      ]
     },
     "metadata": {},
     "output_type": "display_data"
    }
   ],
   "source": [
    "plot_roc_curve(y_test, y_pred)"
   ]
  },
  {
   "cell_type": "markdown",
   "metadata": {},
   "source": [
    "### With Oversampling"
   ]
  },
  {
   "cell_type": "markdown",
   "metadata": {},
   "source": [
    "- Training:Test = 80:20"
   ]
  },
  {
   "cell_type": "code",
   "execution_count": 189,
   "metadata": {},
   "outputs": [],
   "source": [
    "X_train, X_test, y_train, y_test = train_test_split(X_std, y, test_size=0.20, stratify=y, random_state=10820034)"
   ]
  },
  {
   "cell_type": "code",
   "execution_count": 190,
   "metadata": {},
   "outputs": [
    {
     "name": "stdout",
     "output_type": "stream",
     "text": [
      "Original dataset shape Counter({0: 3923, 1: 405})\n",
      "Resample dataset shape Counter({0: 3923, 1: 3923})\n"
     ]
    }
   ],
   "source": [
    "smote = SMOTE(random_state=777)\n",
    "X_smote, y_smote = smote.fit_resample(X_train, y_train)\n",
    "\n",
    "print('Original dataset shape', Counter(y_train))\n",
    "print('Resample dataset shape', Counter(y_smote))"
   ]
  },
  {
   "cell_type": "code",
   "execution_count": 191,
   "metadata": {},
   "outputs": [
    {
     "name": "stdout",
     "output_type": "stream",
     "text": [
      "Score: 0.8322712210043334\n"
     ]
    }
   ],
   "source": [
    "lsvc = LinearSVC(random_state=777)\n",
    "lsvc.fit(X_smote, y_smote)\n",
    "score = lsvc.score(X_smote, y_smote)\n",
    "print(\"Score:\", score)"
   ]
  },
  {
   "cell_type": "code",
   "execution_count": 192,
   "metadata": {},
   "outputs": [
    {
     "data": {
      "image/png": "[encoded data removed]",
      "text/plain": [
       "<Figure size 576x396 with 2 Axes>"
      ]
     },
     "metadata": {},
     "output_type": "display_data"
    }
   ],
   "source": [
    "y_pred = lsvc.predict(X_test)\n",
    "\n",
    "cm = confusion_matrix(y_test, y_pred)\n",
    "cm_display = ConfusionMatrixDisplay(confusion_matrix = cm, display_labels = [\"Non-Fraud\", \"Fraud\"])\n",
    "\n",
    "cm_display.plot()\n",
    "plt.grid(False)\n",
    "plt.show()"
   ]
  },
  {
   "cell_type": "code",
   "execution_count": 193,
   "metadata": {},
   "outputs": [
    {
     "name": "stdout",
     "output_type": "stream",
     "text": [
      "              precision    recall  f1-score   support\n",
      "\n",
      "           0       0.96      0.88      0.92       981\n",
      "           1       0.35      0.65      0.46       101\n",
      "\n",
      "    accuracy                           0.86      1082\n",
      "   macro avg       0.66      0.77      0.69      1082\n",
      "weighted avg       0.90      0.86      0.87      1082\n",
      "\n"
     ]
    }
   ],
   "source": [
    "cr = classification_report(y_test, y_pred)\n",
    "print(cr)"
   ]
  },
  {
   "cell_type": "code",
   "execution_count": 194,
   "metadata": {},
   "outputs": [
    {
     "name": "stdout",
     "output_type": "stream",
     "text": [
      "AUC Score: 0.7655705937566234\n"
     ]
    }
   ],
   "source": [
    "print(\"AUC Score:\", roc_auc_score(y_test,y_pred))"
   ]
  },
  {
   "cell_type": "code",
   "execution_count": 195,
   "metadata": {},
   "outputs": [
    {
     "data": {
      "image/png": "[encoded data removed]",
      "text/plain": [
       "<Figure size 576x396 with 1 Axes>"
      ]
     },
     "metadata": {},
     "output_type": "display_data"
    }
   ],
   "source": [
    "plot_roc_curve(y_test, y_pred)"
   ]
  },
  {
   "cell_type": "markdown",
   "metadata": {},
   "source": [
    "- Training:Test = 75:25"
   ]
  },
  {
   "cell_type": "code",
   "execution_count": 196,
   "metadata": {},
   "outputs": [],
   "source": [
    "X_train, X_test, y_train, y_test = train_test_split(X_std, y, test_size=0.25, stratify=y, random_state=10820034)"
   ]
  },
  {
   "cell_type": "code",
   "execution_count": 197,
   "metadata": {},
   "outputs": [
    {
     "name": "stdout",
     "output_type": "stream",
     "text": [
      "Original dataset shape Counter({0: 3678, 1: 379})\n",
      "Resample dataset shape Counter({0: 3678, 1: 3678})\n"
     ]
    }
   ],
   "source": [
    "smote = SMOTE(random_state=777)\n",
    "X_smote, y_smote = smote.fit_resample(X_train, y_train)\n",
    "\n",
    "print('Original dataset shape', Counter(y_train))\n",
    "print('Resample dataset shape', Counter(y_smote))"
   ]
  },
  {
   "cell_type": "code",
   "execution_count": 198,
   "metadata": {},
   "outputs": [
    {
     "name": "stdout",
     "output_type": "stream",
     "text": [
      "Score: 0.8269439912996194\n"
     ]
    }
   ],
   "source": [
    "lsvc = LinearSVC(random_state=777)\n",
    "lsvc.fit(X_smote, y_smote)\n",
    "score = lsvc.score(X_smote, y_smote)\n",
    "print(\"Score:\", score)"
   ]
  },
  {
   "cell_type": "code",
   "execution_count": 199,
   "metadata": {},
   "outputs": [
    {
     "data": {
      "image/png": "[encoded data removed]",
      "text/plain": [
       "<Figure size 576x396 with 2 Axes>"
      ]
     },
     "metadata": {},
     "output_type": "display_data"
    }
   ],
   "source": [
    "y_pred = lsvc.predict(X_test)\n",
    "\n",
    "cm = confusion_matrix(y_test, y_pred)\n",
    "cm_display = ConfusionMatrixDisplay(confusion_matrix = cm, display_labels = [\"Non-Fraud\", \"Fraud\"])\n",
    "\n",
    "cm_display.plot()\n",
    "plt.grid(False)\n",
    "plt.show()"
   ]
  },
  {
   "cell_type": "code",
   "execution_count": 200,
   "metadata": {},
   "outputs": [
    {
     "name": "stdout",
     "output_type": "stream",
     "text": [
      "              precision    recall  f1-score   support\n",
      "\n",
      "           0       0.95      0.90      0.93      1226\n",
      "           1       0.38      0.57      0.45       127\n",
      "\n",
      "    accuracy                           0.87      1353\n",
      "   macro avg       0.66      0.73      0.69      1353\n",
      "weighted avg       0.90      0.87      0.88      1353\n",
      "\n"
     ]
    }
   ],
   "source": [
    "cr = classification_report(y_test, y_pred)\n",
    "print(cr)"
   ]
  },
  {
   "cell_type": "code",
   "execution_count": 201,
   "metadata": {},
   "outputs": [
    {
     "name": "stdout",
     "output_type": "stream",
     "text": [
      "AUC Score: 0.7345249258198353\n"
     ]
    }
   ],
   "source": [
    "print(\"AUC Score:\", roc_auc_score(y_test,y_pred))"
   ]
  },
  {
   "cell_type": "code",
   "execution_count": 202,
   "metadata": {},
   "outputs": [
    {
     "data": {
      "image/png": "[encoded data removed]",
      "text/plain": [
       "<Figure size 576x396 with 1 Axes>"
      ]
     },
     "metadata": {},
     "output_type": "display_data"
    }
   ],
   "source": [
    "plot_roc_curve(y_test, y_pred)"
   ]
  },
  {
   "cell_type": "markdown",
   "metadata": {},
   "source": [
    "- Training:Test = 70:30"
   ]
  },
  {
   "cell_type": "code",
   "execution_count": 203,
   "metadata": {},
   "outputs": [],
   "source": [
    "X_train, X_test, y_train, y_test = train_test_split(X_std, y, test_size=0.30, stratify=y, random_state=10820034)"
   ]
  },
  {
   "cell_type": "code",
   "execution_count": 204,
   "metadata": {},
   "outputs": [
    {
     "name": "stdout",
     "output_type": "stream",
     "text": [
      "Original dataset shape Counter({0: 3433, 1: 354})\n",
      "Resample dataset shape Counter({0: 3433, 1: 3433})\n"
     ]
    }
   ],
   "source": [
    "smote = SMOTE(random_state=777)\n",
    "X_smote, y_smote = smote.fit_resample(X_train, y_train)\n",
    "\n",
    "print('Original dataset shape', Counter(y_train))\n",
    "print('Resample dataset shape', Counter(y_smote))"
   ]
  },
  {
   "cell_type": "code",
   "execution_count": 205,
   "metadata": {},
   "outputs": [
    {
     "name": "stdout",
     "output_type": "stream",
     "text": [
      "Score: 0.8604718904748033\n"
     ]
    }
   ],
   "source": [
    "lsvc = LinearSVC(random_state=777)\n",
    "lsvc.fit(X_smote, y_smote)\n",
    "score = lsvc.score(X_smote, y_smote)\n",
    "print(\"Score:\", score)"
   ]
  },
  {
   "cell_type": "code",
   "execution_count": 206,
   "metadata": {},
   "outputs": [
    {
     "data": {
      "image/png": "[encoded data removed]",
      "text/plain": [
       "<Figure size 576x396 with 2 Axes>"
      ]
     },
     "metadata": {},
     "output_type": "display_data"
    }
   ],
   "source": [
    "y_pred = lsvc.predict(X_test)\n",
    "\n",
    "cm = confusion_matrix(y_test, y_pred)\n",
    "cm_display = ConfusionMatrixDisplay(confusion_matrix = cm, display_labels = [\"Non-Fraud\", \"Fraud\"])\n",
    "\n",
    "cm_display.plot()\n",
    "plt.grid(False)\n",
    "plt.show()"
   ]
  },
  {
   "cell_type": "code",
   "execution_count": 207,
   "metadata": {},
   "outputs": [
    {
     "name": "stdout",
     "output_type": "stream",
     "text": [
      "              precision    recall  f1-score   support\n",
      "\n",
      "           0       0.97      0.87      0.92      1471\n",
      "           1       0.37      0.73      0.49       152\n",
      "\n",
      "    accuracy                           0.86      1623\n",
      "   macro avg       0.67      0.80      0.70      1623\n",
      "weighted avg       0.91      0.86      0.88      1623\n",
      "\n"
     ]
    }
   ],
   "source": [
    "cr = classification_report(y_test, y_pred)\n",
    "print(cr)"
   ]
  },
  {
   "cell_type": "code",
   "execution_count": 208,
   "metadata": {},
   "outputs": [
    {
     "name": "stdout",
     "output_type": "stream",
     "text": [
      "AUC Score: 0.8008895667107946\n"
     ]
    }
   ],
   "source": [
    "print(\"AUC Score:\", roc_auc_score(y_test,y_pred))"
   ]
  },
  {
   "cell_type": "code",
   "execution_count": 209,
   "metadata": {},
   "outputs": [
    {
     "data": {
      "image/png": "[encoded data removed]",
      "text/plain": [
       "<Figure size 576x396 with 1 Axes>"
      ]
     },
     "metadata": {},
     "output_type": "display_data"
    }
   ],
   "source": [
    "plot_roc_curve(y_test, y_pred)"
   ]
  },
  {
   "cell_type": "markdown",
   "metadata": {},
   "source": [
    "## LinearSVC Hyperoptimization (All Features)"
   ]
  },
  {
   "cell_type": "code",
   "execution_count": 210,
   "metadata": {},
   "outputs": [],
   "source": [
    "X = Final_Dataset_Provider_Train.drop(axis=1, columns=['Provider', 'PotentialFraud'])\n",
    "y = Final_Dataset_Provider_Train[\"PotentialFraud\"]\n",
    "\n",
    "robust_scaler = RobustScaler()\n",
    "robust_scaler.fit(X)\n",
    "X_std = robust_scaler.transform(X)"
   ]
  },
  {
   "cell_type": "code",
   "execution_count": 211,
   "metadata": {},
   "outputs": [],
   "source": [
    "X_train, X_test, y_train, y_test = train_test_split(X_std, y, test_size=0.30, stratify=y, random_state=10820034)"
   ]
  },
  {
   "cell_type": "code",
   "execution_count": 212,
   "metadata": {},
   "outputs": [
    {
     "name": "stdout",
     "output_type": "stream",
     "text": [
      "Original dataset shape Counter({0: 3433, 1: 354})\n",
      "Resample dataset shape Counter({0: 3433, 1: 3433})\n"
     ]
    }
   ],
   "source": [
    "smote = SMOTE(random_state=777)\n",
    "X_smote, y_smote = smote.fit_resample(X_train, y_train)\n",
    "\n",
    "print('Original dataset shape', Counter(y_train))\n",
    "print('Resample dataset shape', Counter(y_smote))"
   ]
  },
  {
   "cell_type": "markdown",
   "metadata": {},
   "source": [
    "### Grid Search"
   ]
  },
  {
   "cell_type": "code",
   "execution_count": 213,
   "metadata": {},
   "outputs": [
    {
     "name": "stdout",
     "output_type": "stream",
     "text": [
      "Fitting 5 folds for each of 12 candidates, totalling 60 fits\n",
      "[CV] END ............................................C=0.001; total time=   1.9s\n",
      "[CV] END ............................................C=0.001; total time=   1.7s\n",
      "[CV] END ............................................C=0.001; total time=   1.8s\n",
      "[CV] END ............................................C=0.001; total time=   1.8s\n",
      "[CV] END ............................................C=0.001; total time=   1.6s\n",
      "[CV] END .............................................C=0.05; total time=   1.6s\n",
      "[CV] END .............................................C=0.05; total time=   1.6s\n",
      "[CV] END .............................................C=0.05; total time=   1.7s\n",
      "[CV] END .............................................C=0.05; total time=   1.6s\n",
      "[CV] END .............................................C=0.05; total time=   1.7s\n",
      "[CV] END .............................................C=0.01; total time=   1.8s\n",
      "[CV] END .............................................C=0.01; total time=   1.7s\n",
      "[CV] END .............................................C=0.01; total time=   1.5s\n",
      "[CV] END .............................................C=0.01; total time=   1.6s\n",
      "[CV] END .............................................C=0.01; total time=   1.6s\n",
      "[CV] END ..............................................C=0.5; total time=   1.6s\n",
      "[CV] END ..............................................C=0.5; total time=   1.6s\n",
      "[CV] END ..............................................C=0.5; total time=   1.7s\n",
      "[CV] END ..............................................C=0.5; total time=   1.6s\n",
      "[CV] END ..............................................C=0.5; total time=   1.6s\n",
      "[CV] END ..............................................C=0.1; total time=   1.6s\n",
      "[CV] END ..............................................C=0.1; total time=   1.6s\n",
      "[CV] END ..............................................C=0.1; total time=   1.6s\n",
      "[CV] END ..............................................C=0.1; total time=   1.6s\n",
      "[CV] END ..............................................C=0.1; total time=   1.6s\n",
      "[CV] END ................................................C=1; total time=   1.7s\n",
      "[CV] END ................................................C=1; total time=   1.8s\n",
      "[CV] END ................................................C=1; total time=   1.7s\n",
      "[CV] END ................................................C=1; total time=   1.7s\n",
      "[CV] END ................................................C=1; total time=   2.0s\n",
      "[CV] END ................................................C=5; total time=   1.6s\n",
      "[CV] END ................................................C=5; total time=   2.0s\n",
      "[CV] END ................................................C=5; total time=   1.8s\n",
      "[CV] END ................................................C=5; total time=   2.1s\n",
      "[CV] END ................................................C=5; total time=   1.9s\n",
      "[CV] END ...............................................C=10; total time=   1.9s\n",
      "[CV] END ...............................................C=10; total time=   1.8s\n",
      "[CV] END ...............................................C=10; total time=   1.7s\n",
      "[CV] END ...............................................C=10; total time=   1.8s\n",
      "[CV] END ...............................................C=10; total time=   1.6s\n",
      "[CV] END ...............................................C=50; total time=   1.7s\n",
      "[CV] END ...............................................C=50; total time=   1.9s\n",
      "[CV] END ...............................................C=50; total time=   1.6s\n",
      "[CV] END ...............................................C=50; total time=   1.9s\n",
      "[CV] END ...............................................C=50; total time=   1.8s\n",
      "[CV] END ..............................................C=100; total time=   1.6s\n",
      "[CV] END ..............................................C=100; total time=   1.7s\n",
      "[CV] END ..............................................C=100; total time=   1.5s\n",
      "[CV] END ..............................................C=100; total time=   1.8s\n",
      "[CV] END ..............................................C=100; total time=   1.5s\n",
      "[CV] END ..............................................C=500; total time=   1.6s\n",
      "[CV] END ..............................................C=500; total time=   1.6s\n",
      "[CV] END ..............................................C=500; total time=   1.5s\n",
      "[CV] END ..............................................C=500; total time=   1.6s\n",
      "[CV] END ..............................................C=500; total time=   1.5s\n",
      "[CV] END .............................................C=1000; total time=   1.5s\n",
      "[CV] END .............................................C=1000; total time=   1.5s\n",
      "[CV] END .............................................C=1000; total time=   1.5s\n",
      "[CV] END .............................................C=1000; total time=   1.6s\n",
      "[CV] END .............................................C=1000; total time=   1.6s\n",
      "Total computing time: 108.87532949447632 seconds\n",
      "Best hyperparameters: {'C': 0.01}\n",
      "Best cross-validation score: 0.8556650350754994\n",
      "AUC Score (Test Data): 0.8547085763354682\n"
     ]
    }
   ],
   "source": [
    "# Define the parameter grid for grid search\n",
    "param_grid = {\n",
    "    'C': [0.001, 0.05, 0.01, 0.5, 0.1, 1, 5, 10, 50, 100, 500, 1000],  # Regularization parameter\n",
    "}\n",
    "\n",
    "# Grid search with cross-validation\n",
    "start_time = time.time()  # Record start time\n",
    "grid_search = GridSearchCV(estimator=LinearSVC(random_state=10820034), param_grid=param_grid, cv=5, scoring='accuracy', verbose=2)\n",
    "grid_search.fit(X_smote, y_smote)\n",
    "end_time = time.time()  # Record end time\n",
    "\n",
    "# Compute the total time taken\n",
    "total_time = end_time - start_time\n",
    "\n",
    "# Print the total computing time\n",
    "print(\"Total computing time:\", total_time, \"seconds\")\n",
    "\n",
    "# Get the best hyperparameters found\n",
    "best_params = grid_search.best_params_\n",
    "print(\"Best hyperparameters:\", best_params)\n",
    "\n",
    "# Get the best cross-validation score\n",
    "best_score = grid_search.best_score_\n",
    "print(\"Best cross-validation score:\", best_score)\n",
    "\n",
    "# Best model from cross-validation\n",
    "best_model = grid_search.best_estimator_\n",
    "\n",
    "# Compute AUC score for test data\n",
    "y_pred_proba = best_model.decision_function(X_test)\n",
    "print('AUC Score (Test Data):', roc_auc_score(y_test, y_pred_proba))"
   ]
  },
  {
   "cell_type": "markdown",
   "metadata": {},
   "source": [
    "### Random Search"
   ]
  },
  {
   "cell_type": "code",
   "execution_count": 214,
   "metadata": {},
   "outputs": [
    {
     "name": "stdout",
     "output_type": "stream",
     "text": [
      "Fitting 5 folds for each of 12 candidates, totalling 60 fits\n",
      "[CV] END .............................C=0.006386577563812108; total time=   1.6s\n",
      "[CV] END .............................C=0.006386577563812108; total time=   1.6s\n",
      "[CV] END .............................C=0.006386577563812108; total time=   1.6s\n",
      "[CV] END .............................C=0.006386577563812108; total time=   1.6s\n",
      "[CV] END .............................C=0.006386577563812108; total time=   1.7s\n",
      "[CV] END ...............................C=11.058702396175482; total time=   1.7s\n",
      "[CV] END ...............................C=11.058702396175482; total time=   1.6s\n",
      "[CV] END ...............................C=11.058702396175482; total time=   1.6s\n",
      "[CV] END ...............................C=11.058702396175482; total time=   1.6s\n",
      "[CV] END ...............................C=11.058702396175482; total time=   1.5s\n",
      "[CV] END ...............................C=0.2965859049037049; total time=   1.6s\n",
      "[CV] END ...............................C=0.2965859049037049; total time=   1.6s\n",
      "[CV] END ...............................C=0.2965859049037049; total time=   1.6s\n",
      "[CV] END ...............................C=0.2965859049037049; total time=   1.6s\n",
      "[CV] END ...............................C=0.2965859049037049; total time=   1.5s\n",
      "[CV] END .............................C=0.001640266739216841; total time=   1.7s\n",
      "[CV] END .............................C=0.001640266739216841; total time=   1.6s\n",
      "[CV] END .............................C=0.001640266739216841; total time=   1.7s\n",
      "[CV] END .............................C=0.001640266739216841; total time=   1.6s\n",
      "[CV] END .............................C=0.001640266739216841; total time=   1.6s\n",
      "[CV] END ................................C=9.727825498497946; total time=   1.7s\n",
      "[CV] END ................................C=9.727825498497946; total time=   1.6s\n",
      "[CV] END ................................C=9.727825498497946; total time=   1.5s\n",
      "[CV] END ................................C=9.727825498497946; total time=   1.6s\n",
      "[CV] END ................................C=9.727825498497946; total time=   1.5s\n",
      "[CV] END ................................C=274.6821797638743; total time=   1.5s\n",
      "[CV] END ................................C=274.6821797638743; total time=   1.5s\n",
      "[CV] END ................................C=274.6821797638743; total time=   1.5s\n",
      "[CV] END ................................C=274.6821797638743; total time=   1.6s\n",
      "[CV] END ................................C=274.6821797638743; total time=   1.5s\n",
      "[CV] END ................................C=4.778244657268886; total time=   1.6s\n",
      "[CV] END ................................C=4.778244657268886; total time=   1.7s\n",
      "[CV] END ................................C=4.778244657268886; total time=   1.8s\n",
      "[CV] END ................................C=4.778244657268886; total time=   1.9s\n",
      "[CV] END ................................C=4.778244657268886; total time=   1.9s\n",
      "[CV] END ...............................C=144.88755586335236; total time=   1.6s\n",
      "[CV] END ...............................C=144.88755586335236; total time=   1.6s\n",
      "[CV] END ...............................C=144.88755586335236; total time=   1.4s\n",
      "[CV] END ...............................C=144.88755586335236; total time=   1.5s\n",
      "[CV] END ...............................C=144.88755586335236; total time=   1.6s\n",
      "[CV] END ...............................C=2.8568245365720117; total time=   1.8s\n",
      "[CV] END ...............................C=2.8568245365720117; total time=   1.9s\n",
      "[CV] END ...............................C=2.8568245365720117; total time=   1.7s\n",
      "[CV] END ...............................C=2.8568245365720117; total time=   1.7s\n",
      "[CV] END ...............................C=2.8568245365720117; total time=   1.8s\n",
      "[CV] END ...............................C=0.4912163887255702; total time=   2.0s\n",
      "[CV] END ...............................C=0.4912163887255702; total time=   2.2s\n",
      "[CV] END ...............................C=0.4912163887255702; total time=   2.2s\n",
      "[CV] END ...............................C=0.4912163887255702; total time=   1.8s\n",
      "[CV] END ...............................C=0.4912163887255702; total time=   2.0s\n",
      "[CV] END ...............................C=186.46560553891388; total time=   1.8s\n",
      "[CV] END ...............................C=186.46560553891388; total time=   1.5s\n",
      "[CV] END ...............................C=186.46560553891388; total time=   1.5s\n",
      "[CV] END ...............................C=186.46560553891388; total time=   1.5s\n",
      "[CV] END ...............................C=186.46560553891388; total time=   1.5s\n",
      "[CV] END ...............................C=154.79304224440492; total time=   1.5s\n",
      "[CV] END ...............................C=154.79304224440492; total time=   1.8s\n",
      "[CV] END ...............................C=154.79304224440492; total time=   1.6s\n",
      "[CV] END ...............................C=154.79304224440492; total time=   2.0s\n",
      "[CV] END ...............................C=154.79304224440492; total time=   1.7s\n",
      "Total computing time: 108.19731545448303 seconds\n",
      "Best hyperparameters: {'C': 0.001640266739216841}\n",
      "Best cross-validation score: 0.9216544525608666\n",
      "AUC Score (Test Data): 0.6980616480017174\n"
     ]
    }
   ],
   "source": [
    "# Define the parameter grid to search\n",
    "param_distributions = {\n",
    "    'C': loguniform(1e-3, 1e3), # Logarithmic scale for C\n",
    "}\n",
    "\n",
    "# Random search with cross-validation\n",
    "start_time = time.time() # Record start time\n",
    "random_search = RandomizedSearchCV(estimator=LinearSVC(random_state=10820034), param_distributions=param_distributions, scoring='roc_auc', n_iter=12, cv=5, verbose=2, random_state=10820034)\n",
    "random_search.fit(X_smote, y_smote)\n",
    "end_time = time.time()  # Record end time\n",
    "\n",
    "# Compute the total time taken\n",
    "total_time = end_time - start_time\n",
    "\n",
    "# Print the total computing time\n",
    "print(\"Total computing time:\", total_time, \"seconds\")\n",
    "\n",
    "# Best hyperparameters\n",
    "best_params = random_search.best_params_\n",
    "print(\"Best hyperparameters:\", best_params)\n",
    "\n",
    "# Get the best cross-validation score\n",
    "best_score = random_search.best_score_\n",
    "print(\"Best cross-validation score:\", best_score)\n",
    "\n",
    "# Best model from cross-validation\n",
    "best_model = random_search.best_estimator_\n",
    "\n",
    "# Compute AUC score for test data\n",
    "y_pred_proba = best_model.decision_function(X_test)\n",
    "print('AUC Score (Test Data):', roc_auc_score(y_test, y_pred_proba))"
   ]
  },
  {
   "cell_type": "markdown",
   "metadata": {},
   "source": [
    "### Bayesian Optimization"
   ]
  },
  {
   "cell_type": "code",
   "execution_count": 215,
   "metadata": {},
   "outputs": [
    {
     "name": "stdout",
     "output_type": "stream",
     "text": [
      "Fitting 5 folds for each of 1 candidates, totalling 5 fits\n",
      "Fitting 5 folds for each of 1 candidates, totalling 5 fits\n",
      "Fitting 5 folds for each of 1 candidates, totalling 5 fits\n",
      "Fitting 5 folds for each of 1 candidates, totalling 5 fits\n",
      "Fitting 5 folds for each of 1 candidates, totalling 5 fits\n",
      "Fitting 5 folds for each of 1 candidates, totalling 5 fits\n",
      "Fitting 5 folds for each of 1 candidates, totalling 5 fits\n",
      "Fitting 5 folds for each of 1 candidates, totalling 5 fits\n",
      "Fitting 5 folds for each of 1 candidates, totalling 5 fits\n",
      "Fitting 5 folds for each of 1 candidates, totalling 5 fits\n",
      "Fitting 5 folds for each of 1 candidates, totalling 5 fits\n",
      "Fitting 5 folds for each of 1 candidates, totalling 5 fits\n",
      "Total computing time: 51.85408854484558 seconds\n",
      "Best hyperparameters: OrderedDict([('C', 0.001762811569195983)])\n",
      "Best cross-validation score: 0.9266935262901186\n",
      "AUC Score (Test Data): 0.904267594547211\n"
     ]
    }
   ],
   "source": [
    "# Define the parameter grid to search\n",
    "search_space = {\n",
    "    'C': (1e-3, 1e+3, 'log-uniform') # Logarithmic scale for C\n",
    "}\n",
    "\n",
    "# Perform hyperparameter optimization with AUC scoring\n",
    "start_time = time.time()  # Record start time\n",
    "opt = BayesSearchCV(LinearSVC(random_state=10820034), search_space, n_iter=12, scoring='roc_auc', cv=5, n_jobs=-1, verbose=2, random_state=10820034)\n",
    "opt.fit(X_smote, y_smote)\n",
    "end_time = time.time()  # Record end time\n",
    "\n",
    "# Compute the total time taken\n",
    "total_time = end_time - start_time\n",
    "\n",
    "# Print the total computing time\n",
    "print(\"Total computing time:\", total_time, \"seconds\")\n",
    "\n",
    "# Get the best hyperparameters\n",
    "best_params = opt.best_params_\n",
    "print(\"Best hyperparameters:\", best_params)\n",
    "\n",
    "# Get the best cross-validation score\n",
    "best_score = opt.best_score_\n",
    "print(\"Best cross-validation score:\", best_score)\n",
    "\n",
    "# Best model from cross-validation\n",
    "best_model = opt.best_estimator_\n",
    "\n",
    "# Compute AUC score for test data\n",
    "y_pred_proba = best_model.decision_function(X_test)\n",
    "print('AUC Score (Test Data):', roc_auc_score(y_test, y_pred_proba))"
   ]
  },
  {
   "cell_type": "markdown",
   "metadata": {},
   "source": [
    "## LinearSVC Feature Selection (80) & Hyperoptimization"
   ]
  },
  {
   "cell_type": "code",
   "execution_count": 216,
   "metadata": {},
   "outputs": [],
   "source": [
    "X = Final_Dataset_Provider_Train.drop(axis=1, columns=['Provider', 'PotentialFraud'])\n",
    "y = Final_Dataset_Provider_Train[\"PotentialFraud\"]\n",
    "\n",
    "robust_scaler = RobustScaler()\n",
    "robust_scaler.fit(X)\n",
    "X_std = robust_scaler.transform(X)"
   ]
  },
  {
   "cell_type": "code",
   "execution_count": 217,
   "metadata": {},
   "outputs": [],
   "source": [
    "X_train, X_test, y_train, y_test = train_test_split(X_std, y, test_size=0.30, stratify=y, random_state=10820034)"
   ]
  },
  {
   "cell_type": "code",
   "execution_count": 218,
   "metadata": {},
   "outputs": [
    {
     "name": "stdout",
     "output_type": "stream",
     "text": [
      "Original dataset shape Counter({0: 3433, 1: 354})\n",
      "Resample dataset shape Counter({0: 3433, 1: 3433})\n"
     ]
    }
   ],
   "source": [
    "smote = SMOTE(random_state=777)\n",
    "X_smote, y_smote = smote.fit_resample(X_train, y_train)\n",
    "\n",
    "print('Original dataset shape', Counter(y_train))\n",
    "print('Resample dataset shape', Counter(y_smote))"
   ]
  },
  {
   "cell_type": "code",
   "execution_count": 219,
   "metadata": {},
   "outputs": [],
   "source": [
    "# Initialize the SVM classifier\n",
    "estimator = LinearSVC(random_state=10820034)\n",
    "\n",
    "# Initialize RFE with the estimator and specify the number of features to select\n",
    "rfe = RFE(estimator, n_features_to_select=80)\n",
    "\n",
    "# Perform RFE to select features\n",
    "X_selected = rfe.fit_transform(X_smote, y_smote)"
   ]
  },
  {
   "cell_type": "code",
   "execution_count": 220,
   "metadata": {},
   "outputs": [],
   "source": [
    "# Get the indices of selected features\n",
    "selected_indices = rfe.get_support(indices=True)\n",
    "\n",
    "# Subset the test data using the selected indices\n",
    "X_test_selected = X_test[:, selected_indices]"
   ]
  },
  {
   "cell_type": "markdown",
   "metadata": {},
   "source": [
    "### Grid Search"
   ]
  },
  {
   "cell_type": "code",
   "execution_count": 221,
   "metadata": {},
   "outputs": [
    {
     "name": "stdout",
     "output_type": "stream",
     "text": [
      "Fitting 5 folds for each of 12 candidates, totalling 60 fits\n",
      "[CV] END ............................................C=0.001; total time=   0.3s\n",
      "[CV] END ............................................C=0.001; total time=   0.2s\n",
      "[CV] END ............................................C=0.001; total time=   0.2s\n",
      "[CV] END ............................................C=0.001; total time=   0.2s\n",
      "[CV] END ............................................C=0.001; total time=   0.2s\n",
      "[CV] END .............................................C=0.05; total time=   0.8s\n",
      "[CV] END .............................................C=0.05; total time=   0.9s\n",
      "[CV] END .............................................C=0.05; total time=   0.7s\n",
      "[CV] END .............................................C=0.05; total time=   0.7s\n",
      "[CV] END .............................................C=0.05; total time=   0.7s\n",
      "[CV] END .............................................C=0.01; total time=   0.7s\n",
      "[CV] END .............................................C=0.01; total time=   0.9s\n",
      "[CV] END .............................................C=0.01; total time=   0.7s\n",
      "[CV] END .............................................C=0.01; total time=   0.7s\n",
      "[CV] END .............................................C=0.01; total time=   0.8s\n",
      "[CV] END ..............................................C=0.5; total time=   0.7s\n",
      "[CV] END ..............................................C=0.5; total time=   0.7s\n",
      "[CV] END ..............................................C=0.5; total time=   0.7s\n",
      "[CV] END ..............................................C=0.5; total time=   0.7s\n",
      "[CV] END ..............................................C=0.5; total time=   0.7s\n",
      "[CV] END ..............................................C=0.1; total time=   0.6s\n",
      "[CV] END ..............................................C=0.1; total time=   0.7s\n",
      "[CV] END ..............................................C=0.1; total time=   0.7s\n",
      "[CV] END ..............................................C=0.1; total time=   0.7s\n",
      "[CV] END ..............................................C=0.1; total time=   0.7s\n",
      "[CV] END ................................................C=1; total time=   0.7s\n",
      "[CV] END ................................................C=1; total time=   0.7s\n",
      "[CV] END ................................................C=1; total time=   0.7s\n",
      "[CV] END ................................................C=1; total time=   0.7s\n",
      "[CV] END ................................................C=1; total time=   0.7s\n",
      "[CV] END ................................................C=5; total time=   0.7s\n",
      "[CV] END ................................................C=5; total time=   0.7s\n",
      "[CV] END ................................................C=5; total time=   0.7s\n",
      "[CV] END ................................................C=5; total time=   0.8s\n",
      "[CV] END ................................................C=5; total time=   0.8s\n",
      "[CV] END ...............................................C=10; total time=   0.8s\n",
      "[CV] END ...............................................C=10; total time=   0.8s\n",
      "[CV] END ...............................................C=10; total time=   0.8s\n",
      "[CV] END ...............................................C=10; total time=   0.8s\n",
      "[CV] END ...............................................C=10; total time=   0.8s\n",
      "[CV] END ...............................................C=50; total time=   0.8s\n",
      "[CV] END ...............................................C=50; total time=   0.8s\n",
      "[CV] END ...............................................C=50; total time=   0.8s\n",
      "[CV] END ...............................................C=50; total time=   0.8s\n",
      "[CV] END ...............................................C=50; total time=   0.8s\n",
      "[CV] END ..............................................C=100; total time=   0.8s\n",
      "[CV] END ..............................................C=100; total time=   0.8s\n",
      "[CV] END ..............................................C=100; total time=   0.8s\n",
      "[CV] END ..............................................C=100; total time=   0.8s\n",
      "[CV] END ..............................................C=100; total time=   0.8s\n",
      "[CV] END ..............................................C=500; total time=   0.8s\n",
      "[CV] END ..............................................C=500; total time=   0.8s\n",
      "[CV] END ..............................................C=500; total time=   0.8s\n",
      "[CV] END ..............................................C=500; total time=   0.8s\n",
      "[CV] END ..............................................C=500; total time=   0.8s\n",
      "[CV] END .............................................C=1000; total time=   0.8s\n",
      "[CV] END .............................................C=1000; total time=   0.8s\n",
      "[CV] END .............................................C=1000; total time=   0.8s\n",
      "[CV] END .............................................C=1000; total time=   0.8s\n",
      "[CV] END .............................................C=1000; total time=   0.9s\n",
      "Total computing time: 50.4050829410553 seconds\n",
      "Best hyperparameters: {'C': 0.5}\n",
      "Best cross-validation score: 0.8673162286602398\n",
      "AUC Score (Test Data): 0.9170632222977566\n"
     ]
    }
   ],
   "source": [
    "# Define the parameter grid for grid search\n",
    "param_grid = {\n",
    "    'C': [0.001, 0.05, 0.01, 0.5, 0.1, 1, 5, 10, 50, 100, 500, 1000],  # Regularization parameter\n",
    "}\n",
    "\n",
    "# Grid search with cross-validation\n",
    "start_time = time.time()  # Record start time\n",
    "grid_search = GridSearchCV(estimator=LinearSVC(random_state=10820034), param_grid=param_grid, cv=5, scoring='accuracy', verbose=2)\n",
    "grid_search.fit(X_selected, y_smote)\n",
    "end_time = time.time()  # Record end time\n",
    "\n",
    "# Compute the total time taken\n",
    "total_time = end_time - start_time\n",
    "\n",
    "# Print the total computing time\n",
    "print(\"Total computing time:\", total_time, \"seconds\")\n",
    "\n",
    "# Get the best hyperparameters found\n",
    "best_params = grid_search.best_params_\n",
    "print(\"Best hyperparameters:\", best_params)\n",
    "\n",
    "# Get the best cross-validation score\n",
    "best_score = grid_search.best_score_\n",
    "print(\"Best cross-validation score:\", best_score)\n",
    "\n",
    "# Best model from cross-validation\n",
    "best_model = grid_search.best_estimator_\n",
    "\n",
    "# Compute AUC score for test data\n",
    "y_pred_proba = best_model.decision_function(X_test_selected)\n",
    "print('AUC Score (Test Data):', roc_auc_score(y_test, y_pred_proba))"
   ]
  },
  {
   "cell_type": "markdown",
   "metadata": {},
   "source": [
    "### Random Search"
   ]
  },
  {
   "cell_type": "code",
   "execution_count": 222,
   "metadata": {},
   "outputs": [
    {
     "name": "stdout",
     "output_type": "stream",
     "text": [
      "Fitting 5 folds for each of 12 candidates, totalling 60 fits\n",
      "[CV] END .............................C=0.006386577563812108; total time=   0.7s\n",
      "[CV] END .............................C=0.006386577563812108; total time=   0.6s\n",
      "[CV] END .............................C=0.006386577563812108; total time=   0.7s\n",
      "[CV] END .............................C=0.006386577563812108; total time=   0.6s\n",
      "[CV] END .............................C=0.006386577563812108; total time=   0.7s\n",
      "[CV] END ...............................C=11.058702396175482; total time=   0.8s\n",
      "[CV] END ...............................C=11.058702396175482; total time=   0.8s\n",
      "[CV] END ...............................C=11.058702396175482; total time=   0.8s\n",
      "[CV] END ...............................C=11.058702396175482; total time=   0.8s\n",
      "[CV] END ...............................C=11.058702396175482; total time=   0.8s\n",
      "[CV] END ...............................C=0.2965859049037049; total time=   0.7s\n",
      "[CV] END ...............................C=0.2965859049037049; total time=   0.7s\n",
      "[CV] END ...............................C=0.2965859049037049; total time=   0.7s\n",
      "[CV] END ...............................C=0.2965859049037049; total time=   0.7s\n",
      "[CV] END ...............................C=0.2965859049037049; total time=   0.7s\n",
      "[CV] END .............................C=0.001640266739216841; total time=   0.3s\n",
      "[CV] END .............................C=0.001640266739216841; total time=   0.3s\n",
      "[CV] END .............................C=0.001640266739216841; total time=   0.4s\n",
      "[CV] END .............................C=0.001640266739216841; total time=   0.3s\n",
      "[CV] END .............................C=0.001640266739216841; total time=   0.3s\n",
      "[CV] END ................................C=9.727825498497946; total time=   0.7s\n",
      "[CV] END ................................C=9.727825498497946; total time=   0.8s\n",
      "[CV] END ................................C=9.727825498497946; total time=   0.7s\n",
      "[CV] END ................................C=9.727825498497946; total time=   0.7s\n",
      "[CV] END ................................C=9.727825498497946; total time=   0.8s\n",
      "[CV] END ................................C=274.6821797638743; total time=   0.8s\n",
      "[CV] END ................................C=274.6821797638743; total time=   0.8s\n",
      "[CV] END ................................C=274.6821797638743; total time=   0.8s\n",
      "[CV] END ................................C=274.6821797638743; total time=   0.8s\n",
      "[CV] END ................................C=274.6821797638743; total time=   0.8s\n",
      "[CV] END ................................C=4.778244657268886; total time=   0.7s\n",
      "[CV] END ................................C=4.778244657268886; total time=   0.7s\n",
      "[CV] END ................................C=4.778244657268886; total time=   0.7s\n",
      "[CV] END ................................C=4.778244657268886; total time=   0.7s\n",
      "[CV] END ................................C=4.778244657268886; total time=   0.7s\n",
      "[CV] END ...............................C=144.88755586335236; total time=   0.8s\n",
      "[CV] END ...............................C=144.88755586335236; total time=   0.9s\n",
      "[CV] END ...............................C=144.88755586335236; total time=   0.8s\n",
      "[CV] END ...............................C=144.88755586335236; total time=   0.9s\n",
      "[CV] END ...............................C=144.88755586335236; total time=   0.8s\n",
      "[CV] END ...............................C=2.8568245365720117; total time=   0.7s\n",
      "[CV] END ...............................C=2.8568245365720117; total time=   0.7s\n",
      "[CV] END ...............................C=2.8568245365720117; total time=   0.7s\n",
      "[CV] END ...............................C=2.8568245365720117; total time=   0.7s\n",
      "[CV] END ...............................C=2.8568245365720117; total time=   0.7s\n",
      "[CV] END ...............................C=0.4912163887255702; total time=   0.7s\n",
      "[CV] END ...............................C=0.4912163887255702; total time=   0.7s\n",
      "[CV] END ...............................C=0.4912163887255702; total time=   0.7s\n",
      "[CV] END ...............................C=0.4912163887255702; total time=   0.7s\n",
      "[CV] END ...............................C=0.4912163887255702; total time=   0.7s\n",
      "[CV] END ...............................C=186.46560553891388; total time=   0.8s\n",
      "[CV] END ...............................C=186.46560553891388; total time=   0.8s\n",
      "[CV] END ...............................C=186.46560553891388; total time=   0.8s\n",
      "[CV] END ...............................C=186.46560553891388; total time=   0.8s\n",
      "[CV] END ...............................C=186.46560553891388; total time=   0.8s\n",
      "[CV] END ...............................C=154.79304224440492; total time=   0.8s\n",
      "[CV] END ...............................C=154.79304224440492; total time=   0.8s\n",
      "[CV] END ...............................C=154.79304224440492; total time=   0.8s\n",
      "[CV] END ...............................C=154.79304224440492; total time=   0.8s\n",
      "[CV] END ...............................C=154.79304224440492; total time=   0.8s\n",
      "Total computing time: 50.16879892349243 seconds\n",
      "Best hyperparameters: {'C': 0.4912163887255702}\n",
      "Best cross-validation score: 0.9507917167090216\n",
      "AUC Score (Test Data): 0.9055467100790727\n"
     ]
    }
   ],
   "source": [
    "# Define the parameter grid to search\n",
    "param_distributions = {\n",
    "    'C': loguniform(1e-3, 1e3), # Logarithmic scale for C\n",
    "}\n",
    "\n",
    "# Random search with cross-validation\n",
    "start_time = time.time() # Record start time\n",
    "random_search = RandomizedSearchCV(estimator=LinearSVC(random_state=10820034), param_distributions=param_distributions, scoring='roc_auc', n_iter=12, cv=5, verbose=2, random_state=10820034)\n",
    "random_search.fit(X_selected, y_smote)\n",
    "end_time = time.time()  # Record end time\n",
    "\n",
    "# Compute the total time taken\n",
    "total_time = end_time - start_time\n",
    "\n",
    "# Print the total computing time\n",
    "print(\"Total computing time:\", total_time, \"seconds\")\n",
    "\n",
    "# Best hyperparameters\n",
    "best_params = random_search.best_params_\n",
    "print(\"Best hyperparameters:\", best_params)\n",
    "\n",
    "# Get the best cross-validation score\n",
    "best_score = random_search.best_score_\n",
    "print(\"Best cross-validation score:\", best_score)\n",
    "\n",
    "# Best model from cross-validation\n",
    "best_model = random_search.best_estimator_\n",
    "\n",
    "# Compute AUC score for test data\n",
    "y_pred_proba = best_model.decision_function(X_test_selected)\n",
    "print('AUC Score (Test Data):', roc_auc_score(y_test, y_pred_proba))"
   ]
  },
  {
   "cell_type": "markdown",
   "metadata": {},
   "source": [
    "### Bayesian Optimization"
   ]
  },
  {
   "cell_type": "code",
   "execution_count": 223,
   "metadata": {},
   "outputs": [
    {
     "name": "stdout",
     "output_type": "stream",
     "text": [
      "Fitting 5 folds for each of 1 candidates, totalling 5 fits\n",
      "Fitting 5 folds for each of 1 candidates, totalling 5 fits\n",
      "Fitting 5 folds for each of 1 candidates, totalling 5 fits\n",
      "Fitting 5 folds for each of 1 candidates, totalling 5 fits\n",
      "Fitting 5 folds for each of 1 candidates, totalling 5 fits\n",
      "Fitting 5 folds for each of 1 candidates, totalling 5 fits\n",
      "Fitting 5 folds for each of 1 candidates, totalling 5 fits\n",
      "Fitting 5 folds for each of 1 candidates, totalling 5 fits\n",
      "Fitting 5 folds for each of 1 candidates, totalling 5 fits\n",
      "Fitting 5 folds for each of 1 candidates, totalling 5 fits\n",
      "Fitting 5 folds for each of 1 candidates, totalling 5 fits\n",
      "Fitting 5 folds for each of 1 candidates, totalling 5 fits\n",
      "Total computing time: 24.007582902908325 seconds\n",
      "Best hyperparameters: OrderedDict([('C', 0.8509904056720216)])\n",
      "Best cross-validation score: 0.9502723226367952\n",
      "AUC Score (Test Data): 0.8870487316183048\n"
     ]
    }
   ],
   "source": [
    "# Define the parameter grid to search\n",
    "search_space = {\n",
    "    'C': (1e-3, 1e+3, 'log-uniform') # Logarithmic scale for C\n",
    "}\n",
    "\n",
    "\n",
    "# Perform hyperparameter optimization with AUC scoring\n",
    "start_time = time.time()  # Record start time\n",
    "opt = BayesSearchCV(LinearSVC(random_state=10820034), search_space, n_iter=12, scoring='roc_auc', cv=5, n_jobs=-1, verbose=2, random_state=10820034)\n",
    "opt.fit(X_selected, y_smote)\n",
    "end_time = time.time()  # Record end time\n",
    "\n",
    "# Compute the total time taken\n",
    "total_time = end_time - start_time\n",
    "\n",
    "# Print the total computing time\n",
    "print(\"Total computing time:\", total_time, \"seconds\")\n",
    "\n",
    "# Get the best hyperparameters\n",
    "best_params = opt.best_params_\n",
    "print(\"Best hyperparameters:\", best_params)\n",
    "\n",
    "# Get the best cross-validation score\n",
    "best_score = opt.best_score_\n",
    "print(\"Best cross-validation score:\", best_score)\n",
    "\n",
    "# Best model from cross-validation\n",
    "best_model = opt.best_estimator_\n",
    "\n",
    "# Compute AUC score for test data\n",
    "y_pred_proba = best_model.decision_function(X_test_selected)\n",
    "print('AUC Score (Test Data):', roc_auc_score(y_test, y_pred_proba))"
   ]
  },
  {
   "cell_type": "markdown",
   "metadata": {},
   "source": [
    "## LinearSVC Feature Selection (50) & Hyperoptimization"
   ]
  },
  {
   "cell_type": "code",
   "execution_count": 224,
   "metadata": {},
   "outputs": [],
   "source": [
    "X = Final_Dataset_Provider_Train.drop(axis=1, columns=['Provider', 'PotentialFraud'])\n",
    "y = Final_Dataset_Provider_Train[\"PotentialFraud\"]\n",
    "\n",
    "robust_scaler = RobustScaler()\n",
    "robust_scaler.fit(X)\n",
    "X_std = robust_scaler.transform(X)"
   ]
  },
  {
   "cell_type": "code",
   "execution_count": 225,
   "metadata": {},
   "outputs": [],
   "source": [
    "X_train, X_test, y_train, y_test = train_test_split(X_std, y, test_size=0.30, stratify=y, random_state=10820034)"
   ]
  },
  {
   "cell_type": "code",
   "execution_count": 226,
   "metadata": {},
   "outputs": [
    {
     "name": "stdout",
     "output_type": "stream",
     "text": [
      "Original dataset shape Counter({0: 3433, 1: 354})\n",
      "Resample dataset shape Counter({0: 3433, 1: 3433})\n"
     ]
    }
   ],
   "source": [
    "smote = SMOTE(random_state=777)\n",
    "X_smote, y_smote = smote.fit_resample(X_train, y_train)\n",
    "\n",
    "print('Original dataset shape', Counter(y_train))\n",
    "print('Resample dataset shape', Counter(y_smote))"
   ]
  },
  {
   "cell_type": "code",
   "execution_count": 227,
   "metadata": {},
   "outputs": [],
   "source": [
    "# Initialize the SVM classifier\n",
    "estimator = LinearSVC(random_state=10820034)\n",
    "\n",
    "# Initialize RFE with the estimator and specify the number of features to select\n",
    "rfe = RFE(estimator, n_features_to_select=50)\n",
    "\n",
    "# Perform RFE to select features\n",
    "X_selected = rfe.fit_transform(X_smote, y_smote)"
   ]
  },
  {
   "cell_type": "code",
   "execution_count": 228,
   "metadata": {},
   "outputs": [],
   "source": [
    "# Get the indices of selected features\n",
    "selected_indices = rfe.get_support(indices=True)\n",
    "\n",
    "# Subset the test data using the selected indices\n",
    "X_test_selected = X_test[:, selected_indices]"
   ]
  },
  {
   "cell_type": "markdown",
   "metadata": {},
   "source": [
    "### Grid Search"
   ]
  },
  {
   "cell_type": "code",
   "execution_count": 229,
   "metadata": {},
   "outputs": [
    {
     "name": "stdout",
     "output_type": "stream",
     "text": [
      "Fitting 5 folds for each of 12 candidates, totalling 60 fits\n",
      "[CV] END ............................................C=0.001; total time=   0.0s\n",
      "[CV] END ............................................C=0.001; total time=   0.0s\n",
      "[CV] END ............................................C=0.001; total time=   0.0s\n",
      "[CV] END ............................................C=0.001; total time=   0.0s\n",
      "[CV] END ............................................C=0.001; total time=   0.1s\n",
      "[CV] END .............................................C=0.05; total time=   0.4s\n",
      "[CV] END .............................................C=0.05; total time=   0.4s\n",
      "[CV] END .............................................C=0.05; total time=   0.4s\n",
      "[CV] END .............................................C=0.05; total time=   0.4s\n",
      "[CV] END .............................................C=0.05; total time=   0.4s\n",
      "[CV] END .............................................C=0.01; total time=   0.5s\n",
      "[CV] END .............................................C=0.01; total time=   0.4s\n",
      "[CV] END .............................................C=0.01; total time=   0.4s\n",
      "[CV] END .............................................C=0.01; total time=   0.4s\n",
      "[CV] END .............................................C=0.01; total time=   0.4s\n",
      "[CV] END ..............................................C=0.5; total time=   0.4s\n",
      "[CV] END ..............................................C=0.5; total time=   0.4s\n",
      "[CV] END ..............................................C=0.5; total time=   0.4s\n",
      "[CV] END ..............................................C=0.5; total time=   0.4s\n",
      "[CV] END ..............................................C=0.5; total time=   0.4s\n",
      "[CV] END ..............................................C=0.1; total time=   0.5s\n",
      "[CV] END ..............................................C=0.1; total time=   0.5s\n",
      "[CV] END ..............................................C=0.1; total time=   0.4s\n",
      "[CV] END ..............................................C=0.1; total time=   0.4s\n",
      "[CV] END ..............................................C=0.1; total time=   0.4s\n",
      "[CV] END ................................................C=1; total time=   0.4s\n",
      "[CV] END ................................................C=1; total time=   0.4s\n",
      "[CV] END ................................................C=1; total time=   0.5s\n",
      "[CV] END ................................................C=1; total time=   0.5s\n",
      "[CV] END ................................................C=1; total time=   0.5s\n",
      "[CV] END ................................................C=5; total time=   0.5s\n",
      "[CV] END ................................................C=5; total time=   0.6s\n",
      "[CV] END ................................................C=5; total time=   0.5s\n",
      "[CV] END ................................................C=5; total time=   0.5s\n",
      "[CV] END ................................................C=5; total time=   0.5s\n",
      "[CV] END ...............................................C=10; total time=   0.5s\n",
      "[CV] END ...............................................C=10; total time=   0.5s\n",
      "[CV] END ...............................................C=10; total time=   0.5s\n",
      "[CV] END ...............................................C=10; total time=   0.5s\n",
      "[CV] END ...............................................C=10; total time=   0.5s\n",
      "[CV] END ...............................................C=50; total time=   0.5s\n",
      "[CV] END ...............................................C=50; total time=   0.5s\n",
      "[CV] END ...............................................C=50; total time=   0.5s\n",
      "[CV] END ...............................................C=50; total time=   0.5s\n",
      "[CV] END ...............................................C=50; total time=   0.5s\n",
      "[CV] END ..............................................C=100; total time=   0.5s\n",
      "[CV] END ..............................................C=100; total time=   0.5s\n",
      "[CV] END ..............................................C=100; total time=   0.6s\n",
      "[CV] END ..............................................C=100; total time=   0.5s\n",
      "[CV] END ..............................................C=100; total time=   0.6s\n",
      "[CV] END ..............................................C=500; total time=   0.5s\n",
      "[CV] END ..............................................C=500; total time=   0.6s\n",
      "[CV] END ..............................................C=500; total time=   0.5s\n",
      "[CV] END ..............................................C=500; total time=   0.5s\n",
      "[CV] END ..............................................C=500; total time=   0.6s\n",
      "[CV] END .............................................C=1000; total time=   0.6s\n",
      "[CV] END .............................................C=1000; total time=   0.5s\n",
      "[CV] END .............................................C=1000; total time=   0.6s\n",
      "[CV] END .............................................C=1000; total time=   0.5s\n",
      "[CV] END .............................................C=1000; total time=   0.5s\n",
      "Total computing time: 34.03567934036255 seconds\n",
      "Best hyperparameters: {'C': 10}\n",
      "Best cross-validation score: 0.8729957349634402\n",
      "AUC Score (Test Data): 0.9197958782067338\n"
     ]
    }
   ],
   "source": [
    "# Define the parameter grid for grid search\n",
    "param_grid = {\n",
    "    'C': [0.001, 0.05, 0.01, 0.5, 0.1, 1, 5, 10, 50, 100, 500, 1000],  # Regularization parameter\n",
    "}\n",
    "\n",
    "# Grid search with cross-validation\n",
    "start_time = time.time()  # Record start time\n",
    "grid_search = GridSearchCV(estimator=LinearSVC(random_state=10820034), param_grid=param_grid, cv=5, scoring='accuracy', verbose=2)\n",
    "grid_search.fit(X_selected, y_smote)\n",
    "end_time = time.time()  # Record end time\n",
    "\n",
    "# Compute the total time taken\n",
    "total_time = end_time - start_time\n",
    "\n",
    "# Print the total computing time\n",
    "print(\"Total computing time:\", total_time, \"seconds\")\n",
    "\n",
    "# Get the best hyperparameters found\n",
    "best_params = grid_search.best_params_\n",
    "print(\"Best hyperparameters:\", best_params)\n",
    "\n",
    "# Get the best cross-validation score\n",
    "best_score = grid_search.best_score_\n",
    "print(\"Best cross-validation score:\", best_score)\n",
    "\n",
    "# Best model from cross-validation\n",
    "best_model = grid_search.best_estimator_\n",
    "\n",
    "# Compute AUC score for test data\n",
    "y_pred_proba = best_model.decision_function(X_test_selected)\n",
    "print('AUC Score (Test Data):', roc_auc_score(y_test, y_pred_proba))"
   ]
  },
  {
   "cell_type": "markdown",
   "metadata": {},
   "source": [
    "### Random Search"
   ]
  },
  {
   "cell_type": "code",
   "execution_count": 230,
   "metadata": {},
   "outputs": [
    {
     "name": "stdout",
     "output_type": "stream",
     "text": [
      "Fitting 5 folds for each of 12 candidates, totalling 60 fits\n",
      "[CV] END .............................C=0.006386577563812108; total time=   0.4s\n",
      "[CV] END .............................C=0.006386577563812108; total time=   0.4s\n",
      "[CV] END .............................C=0.006386577563812108; total time=   0.4s\n",
      "[CV] END .............................C=0.006386577563812108; total time=   0.4s\n",
      "[CV] END .............................C=0.006386577563812108; total time=   0.5s\n",
      "[CV] END ...............................C=11.058702396175482; total time=   0.6s\n",
      "[CV] END ...............................C=11.058702396175482; total time=   0.5s\n",
      "[CV] END ...............................C=11.058702396175482; total time=   0.5s\n",
      "[CV] END ...............................C=11.058702396175482; total time=   0.5s\n",
      "[CV] END ...............................C=11.058702396175482; total time=   0.5s\n",
      "[CV] END ...............................C=0.2965859049037049; total time=   1.0s\n",
      "[CV] END ...............................C=0.2965859049037049; total time=   0.9s\n",
      "[CV] END ...............................C=0.2965859049037049; total time=   0.7s\n",
      "[CV] END ...............................C=0.2965859049037049; total time=   0.4s\n",
      "[CV] END ...............................C=0.2965859049037049; total time=   0.7s\n",
      "[CV] END .............................C=0.001640266739216841; total time=   0.2s\n",
      "[CV] END .............................C=0.001640266739216841; total time=   0.1s\n",
      "[CV] END .............................C=0.001640266739216841; total time=   0.2s\n",
      "[CV] END .............................C=0.001640266739216841; total time=   0.1s\n",
      "[CV] END .............................C=0.001640266739216841; total time=   0.1s\n",
      "[CV] END ................................C=9.727825498497946; total time=   0.6s\n",
      "[CV] END ................................C=9.727825498497946; total time=   0.5s\n",
      "[CV] END ................................C=9.727825498497946; total time=   0.6s\n",
      "[CV] END ................................C=9.727825498497946; total time=   0.5s\n",
      "[CV] END ................................C=9.727825498497946; total time=   0.6s\n",
      "[CV] END ................................C=274.6821797638743; total time=   0.6s\n",
      "[CV] END ................................C=274.6821797638743; total time=   0.6s\n",
      "[CV] END ................................C=274.6821797638743; total time=   0.5s\n",
      "[CV] END ................................C=274.6821797638743; total time=   0.6s\n",
      "[CV] END ................................C=274.6821797638743; total time=   0.6s\n",
      "[CV] END ................................C=4.778244657268886; total time=   0.5s\n",
      "[CV] END ................................C=4.778244657268886; total time=   0.5s\n",
      "[CV] END ................................C=4.778244657268886; total time=   0.6s\n",
      "[CV] END ................................C=4.778244657268886; total time=   0.6s\n",
      "[CV] END ................................C=4.778244657268886; total time=   0.5s\n",
      "[CV] END ...............................C=144.88755586335236; total time=   0.6s\n",
      "[CV] END ...............................C=144.88755586335236; total time=   0.6s\n",
      "[CV] END ...............................C=144.88755586335236; total time=   0.6s\n",
      "[CV] END ...............................C=144.88755586335236; total time=   0.7s\n",
      "[CV] END ...............................C=144.88755586335236; total time=   0.6s\n",
      "[CV] END ...............................C=2.8568245365720117; total time=   0.6s\n",
      "[CV] END ...............................C=2.8568245365720117; total time=   0.5s\n",
      "[CV] END ...............................C=2.8568245365720117; total time=   0.5s\n",
      "[CV] END ...............................C=2.8568245365720117; total time=   0.5s\n",
      "[CV] END ...............................C=2.8568245365720117; total time=   0.5s\n",
      "[CV] END ...............................C=0.4912163887255702; total time=   0.6s\n",
      "[CV] END ...............................C=0.4912163887255702; total time=   0.5s\n",
      "[CV] END ...............................C=0.4912163887255702; total time=   0.5s\n",
      "[CV] END ...............................C=0.4912163887255702; total time=   0.5s\n",
      "[CV] END ...............................C=0.4912163887255702; total time=   0.4s\n",
      "[CV] END ...............................C=186.46560553891388; total time=   0.5s\n",
      "[CV] END ...............................C=186.46560553891388; total time=   0.6s\n",
      "[CV] END ...............................C=186.46560553891388; total time=   0.6s\n",
      "[CV] END ...............................C=186.46560553891388; total time=   0.5s\n",
      "[CV] END ...............................C=186.46560553891388; total time=   0.6s\n",
      "[CV] END ...............................C=154.79304224440492; total time=   0.5s\n",
      "[CV] END ...............................C=154.79304224440492; total time=   0.6s\n",
      "[CV] END ...............................C=154.79304224440492; total time=   0.7s\n",
      "[CV] END ...............................C=154.79304224440492; total time=   0.6s\n",
      "[CV] END ...............................C=154.79304224440492; total time=   0.6s\n",
      "Total computing time: 38.3777220249176 seconds\n",
      "Best hyperparameters: {'C': 0.2965859049037049}\n",
      "Best cross-validation score: 0.9487722339969121\n",
      "AUC Score (Test Data): 0.921432788292962\n"
     ]
    }
   ],
   "source": [
    "# Define the parameter grid to search\n",
    "param_distributions = {\n",
    "    'C': loguniform(1e-3, 1e3), # Logarithmic scale for C\n",
    "}\n",
    "\n",
    "# Random search with cross-validation\n",
    "start_time = time.time() # Record start time\n",
    "random_search = RandomizedSearchCV(estimator=LinearSVC(random_state=10820034), param_distributions=param_distributions, scoring='roc_auc', n_iter=12, cv=5, verbose=2, random_state=10820034)\n",
    "random_search.fit(X_selected, y_smote)\n",
    "end_time = time.time()  # Record end time\n",
    "\n",
    "# Compute the total time taken\n",
    "total_time = end_time - start_time\n",
    "\n",
    "# Print the total computing time\n",
    "print(\"Total computing time:\", total_time, \"seconds\")\n",
    "\n",
    "# Best hyperparameters\n",
    "best_params = random_search.best_params_\n",
    "print(\"Best hyperparameters:\", best_params)\n",
    "\n",
    "# Get the best cross-validation score\n",
    "best_score = random_search.best_score_\n",
    "print(\"Best cross-validation score:\", best_score)\n",
    "\n",
    "# Best model from cross-validation\n",
    "best_model = random_search.best_estimator_\n",
    "\n",
    "# Compute AUC score for test data\n",
    "y_pred_proba = best_model.decision_function(X_test_selected)\n",
    "print('AUC Score (Test Data):', roc_auc_score(y_test, y_pred_proba))"
   ]
  },
  {
   "cell_type": "markdown",
   "metadata": {},
   "source": [
    "### Bayesian Optimization"
   ]
  },
  {
   "cell_type": "code",
   "execution_count": 231,
   "metadata": {},
   "outputs": [
    {
     "name": "stdout",
     "output_type": "stream",
     "text": [
      "Fitting 5 folds for each of 1 candidates, totalling 5 fits\n",
      "Fitting 5 folds for each of 1 candidates, totalling 5 fits\n",
      "Fitting 5 folds for each of 1 candidates, totalling 5 fits\n",
      "Fitting 5 folds for each of 1 candidates, totalling 5 fits\n",
      "Fitting 5 folds for each of 1 candidates, totalling 5 fits\n",
      "Fitting 5 folds for each of 1 candidates, totalling 5 fits\n",
      "Fitting 5 folds for each of 1 candidates, totalling 5 fits\n",
      "Fitting 5 folds for each of 1 candidates, totalling 5 fits\n",
      "Fitting 5 folds for each of 1 candidates, totalling 5 fits\n",
      "Fitting 5 folds for each of 1 candidates, totalling 5 fits\n",
      "Fitting 5 folds for each of 1 candidates, totalling 5 fits\n",
      "Fitting 5 folds for each of 1 candidates, totalling 5 fits\n",
      "Total computing time: 21.04926562309265 seconds\n",
      "Best hyperparameters: OrderedDict([('C', 0.8509904056720216)])\n",
      "Best cross-validation score: 0.9480567338739145\n",
      "AUC Score (Test Data): 0.9234140756377688\n"
     ]
    }
   ],
   "source": [
    "# Define the parameter grid to search\n",
    "search_space = {\n",
    "    'C': (1e-3, 1e+3, 'log-uniform') # Logarithmic scale for C\n",
    "}\n",
    "\n",
    "\n",
    "# Perform hyperparameter optimization with AUC scoring\n",
    "start_time = time.time()  # Record start time\n",
    "opt = BayesSearchCV(LinearSVC(random_state=10820034), search_space, n_iter=12, scoring='roc_auc', cv=5, n_jobs=-1, verbose=2, random_state=10820034)\n",
    "opt.fit(X_selected, y_smote)\n",
    "end_time = time.time()  # Record end time\n",
    "\n",
    "# Compute the total time taken\n",
    "total_time = end_time - start_time\n",
    "\n",
    "# Print the total computing time\n",
    "print(\"Total computing time:\", total_time, \"seconds\")\n",
    "\n",
    "# Get the best hyperparameters\n",
    "best_params = opt.best_params_\n",
    "print(\"Best hyperparameters:\", best_params)\n",
    "\n",
    "# Get the best cross-validation score\n",
    "best_score = opt.best_score_\n",
    "print(\"Best cross-validation score:\", best_score)\n",
    "\n",
    "# Best model from cross-validation\n",
    "best_model = opt.best_estimator_\n",
    "\n",
    "# Compute AUC score for test data\n",
    "y_pred_proba = best_model.decision_function(X_test_selected)\n",
    "print('AUC Score (Test Data):', roc_auc_score(y_test, y_pred_proba))"
   ]
  },
  {
   "cell_type": "markdown",
   "metadata": {},
   "source": [
    "## LinearSVC Feature Selection (20) & Hyperoptimization"
   ]
  },
  {
   "cell_type": "code",
   "execution_count": 232,
   "metadata": {},
   "outputs": [],
   "source": [
    "X = Final_Dataset_Provider_Train.drop(axis=1, columns=['Provider', 'PotentialFraud'])\n",
    "y = Final_Dataset_Provider_Train[\"PotentialFraud\"]\n",
    "\n",
    "robust_scaler = RobustScaler()\n",
    "robust_scaler.fit(X)\n",
    "X_std = robust_scaler.transform(X)"
   ]
  },
  {
   "cell_type": "code",
   "execution_count": 233,
   "metadata": {},
   "outputs": [],
   "source": [
    "X_train, X_test, y_train, y_test = train_test_split(X_std, y, test_size=0.30, stratify=y, random_state=10820034)"
   ]
  },
  {
   "cell_type": "code",
   "execution_count": 234,
   "metadata": {},
   "outputs": [
    {
     "name": "stdout",
     "output_type": "stream",
     "text": [
      "Original dataset shape Counter({0: 3433, 1: 354})\n",
      "Resample dataset shape Counter({0: 3433, 1: 3433})\n"
     ]
    }
   ],
   "source": [
    "smote = SMOTE(random_state=777)\n",
    "X_smote, y_smote = smote.fit_resample(X_train, y_train)\n",
    "\n",
    "print('Original dataset shape', Counter(y_train))\n",
    "print('Resample dataset shape', Counter(y_smote))"
   ]
  },
  {
   "cell_type": "code",
   "execution_count": 235,
   "metadata": {},
   "outputs": [],
   "source": [
    "# Initialize the SVM classifier\n",
    "estimator = LinearSVC(random_state=10820034)\n",
    "\n",
    "# Initialize RFE with the estimator and specify the number of features to select\n",
    "rfe = RFE(estimator, n_features_to_select=20)\n",
    "\n",
    "# Perform RFE to select features\n",
    "X_selected = rfe.fit_transform(X_smote, y_smote)"
   ]
  },
  {
   "cell_type": "code",
   "execution_count": 236,
   "metadata": {},
   "outputs": [],
   "source": [
    "# Get the indices of selected features\n",
    "selected_indices = rfe.get_support(indices=True)\n",
    "\n",
    "# Subset the test data using the selected indices\n",
    "X_test_selected = X_test[:, selected_indices]"
   ]
  },
  {
   "cell_type": "markdown",
   "metadata": {},
   "source": [
    "### Grid Search"
   ]
  },
  {
   "cell_type": "code",
   "execution_count": 237,
   "metadata": {},
   "outputs": [
    {
     "name": "stdout",
     "output_type": "stream",
     "text": [
      "Fitting 5 folds for each of 12 candidates, totalling 60 fits\n",
      "[CV] END ............................................C=0.001; total time=   0.0s\n",
      "[CV] END ............................................C=0.001; total time=   0.0s\n",
      "[CV] END ............................................C=0.001; total time=   0.0s\n",
      "[CV] END ............................................C=0.001; total time=   0.0s\n",
      "[CV] END ............................................C=0.001; total time=   0.0s\n",
      "[CV] END .............................................C=0.05; total time=   0.2s\n",
      "[CV] END .............................................C=0.05; total time=   0.2s\n",
      "[CV] END .............................................C=0.05; total time=   0.2s\n",
      "[CV] END .............................................C=0.05; total time=   0.2s\n",
      "[CV] END .............................................C=0.05; total time=   0.2s\n",
      "[CV] END .............................................C=0.01; total time=   0.1s\n",
      "[CV] END .............................................C=0.01; total time=   0.1s\n",
      "[CV] END .............................................C=0.01; total time=   0.2s\n",
      "[CV] END .............................................C=0.01; total time=   0.1s\n",
      "[CV] END .............................................C=0.01; total time=   0.1s\n",
      "[CV] END ..............................................C=0.5; total time=   0.1s\n",
      "[CV] END ..............................................C=0.5; total time=   0.2s\n",
      "[CV] END ..............................................C=0.5; total time=   0.2s\n",
      "[CV] END ..............................................C=0.5; total time=   0.2s\n",
      "[CV] END ..............................................C=0.5; total time=   0.2s\n",
      "[CV] END ..............................................C=0.1; total time=   0.2s\n",
      "[CV] END ..............................................C=0.1; total time=   0.2s\n",
      "[CV] END ..............................................C=0.1; total time=   0.2s\n",
      "[CV] END ..............................................C=0.1; total time=   0.2s\n",
      "[CV] END ..............................................C=0.1; total time=   0.2s\n",
      "[CV] END ................................................C=1; total time=   0.2s\n",
      "[CV] END ................................................C=1; total time=   0.2s\n",
      "[CV] END ................................................C=1; total time=   0.2s\n",
      "[CV] END ................................................C=1; total time=   0.1s\n",
      "[CV] END ................................................C=1; total time=   0.2s\n",
      "[CV] END ................................................C=5; total time=   0.2s\n",
      "[CV] END ................................................C=5; total time=   0.2s\n",
      "[CV] END ................................................C=5; total time=   0.2s\n",
      "[CV] END ................................................C=5; total time=   0.2s\n",
      "[CV] END ................................................C=5; total time=   0.2s\n",
      "[CV] END ...............................................C=10; total time=   0.2s\n",
      "[CV] END ...............................................C=10; total time=   0.2s\n",
      "[CV] END ...............................................C=10; total time=   0.2s\n",
      "[CV] END ...............................................C=10; total time=   0.2s\n",
      "[CV] END ...............................................C=10; total time=   0.2s\n",
      "[CV] END ...............................................C=50; total time=   0.2s\n",
      "[CV] END ...............................................C=50; total time=   0.2s\n",
      "[CV] END ...............................................C=50; total time=   0.2s\n",
      "[CV] END ...............................................C=50; total time=   0.2s\n",
      "[CV] END ...............................................C=50; total time=   0.2s\n",
      "[CV] END ..............................................C=100; total time=   0.2s\n",
      "[CV] END ..............................................C=100; total time=   0.2s\n",
      "[CV] END ..............................................C=100; total time=   0.2s\n",
      "[CV] END ..............................................C=100; total time=   0.2s\n",
      "[CV] END ..............................................C=100; total time=   0.2s\n",
      "[CV] END ..............................................C=500; total time=   0.2s\n",
      "[CV] END ..............................................C=500; total time=   0.2s\n",
      "[CV] END ..............................................C=500; total time=   0.2s\n",
      "[CV] END ..............................................C=500; total time=   0.2s\n",
      "[CV] END ..............................................C=500; total time=   0.2s\n",
      "[CV] END .............................................C=1000; total time=   0.2s\n",
      "[CV] END .............................................C=1000; total time=   0.2s\n",
      "[CV] END .............................................C=1000; total time=   0.2s\n",
      "[CV] END .............................................C=1000; total time=   0.2s\n",
      "[CV] END .............................................C=1000; total time=   0.2s\n",
      "Total computing time: 15.51148271560669 seconds\n",
      "Best hyperparameters: {'C': 10}\n",
      "Best cross-validation score: 0.8645494147369046\n",
      "AUC Score (Test Data): 0.9332847329063652\n"
     ]
    }
   ],
   "source": [
    "# Define the parameter grid for grid search\n",
    "param_grid = {\n",
    "    'C': [0.001, 0.05, 0.01, 0.5, 0.1, 1, 5, 10, 50, 100, 500, 1000],  # Regularization parameter\n",
    "}\n",
    "\n",
    "# Grid search with cross-validation\n",
    "start_time = time.time()  # Record start time\n",
    "grid_search = GridSearchCV(estimator=LinearSVC(random_state=10820034), param_grid=param_grid, cv=5, scoring='accuracy', verbose=2)\n",
    "grid_search.fit(X_selected, y_smote)\n",
    "end_time = time.time()  # Record end time\n",
    "\n",
    "# Compute the total time taken\n",
    "total_time = end_time - start_time\n",
    "\n",
    "# Print the total computing time\n",
    "print(\"Total computing time:\", total_time, \"seconds\")\n",
    "\n",
    "# Get the best hyperparameters found\n",
    "best_params = grid_search.best_params_\n",
    "print(\"Best hyperparameters:\", best_params)\n",
    "\n",
    "# Get the best cross-validation score\n",
    "best_score = grid_search.best_score_\n",
    "print(\"Best cross-validation score:\", best_score)\n",
    "\n",
    "# Best model from cross-validation\n",
    "best_model = grid_search.best_estimator_\n",
    "\n",
    "# Compute AUC score for test data\n",
    "y_pred_proba = best_model.decision_function(X_test_selected)\n",
    "print('AUC Score (Test Data):', roc_auc_score(y_test, y_pred_proba))"
   ]
  },
  {
   "cell_type": "markdown",
   "metadata": {},
   "source": [
    "### Random Search"
   ]
  },
  {
   "cell_type": "code",
   "execution_count": 238,
   "metadata": {},
   "outputs": [
    {
     "name": "stdout",
     "output_type": "stream",
     "text": [
      "Fitting 5 folds for each of 12 candidates, totalling 60 fits\n",
      "[CV] END .............................C=0.006386577563812108; total time=   0.1s\n",
      "[CV] END .............................C=0.006386577563812108; total time=   0.0s\n",
      "[CV] END .............................C=0.006386577563812108; total time=   0.1s\n",
      "[CV] END .............................C=0.006386577563812108; total time=   0.0s\n",
      "[CV] END .............................C=0.006386577563812108; total time=   0.0s\n",
      "[CV] END ...............................C=11.058702396175482; total time=   0.2s\n",
      "[CV] END ...............................C=11.058702396175482; total time=   0.2s\n",
      "[CV] END ...............................C=11.058702396175482; total time=   0.2s\n",
      "[CV] END ...............................C=11.058702396175482; total time=   0.2s\n",
      "[CV] END ...............................C=11.058702396175482; total time=   0.2s\n",
      "[CV] END ...............................C=0.2965859049037049; total time=   0.2s\n",
      "[CV] END ...............................C=0.2965859049037049; total time=   0.2s\n",
      "[CV] END ...............................C=0.2965859049037049; total time=   0.1s\n",
      "[CV] END ...............................C=0.2965859049037049; total time=   0.1s\n",
      "[CV] END ...............................C=0.2965859049037049; total time=   0.2s\n",
      "[CV] END .............................C=0.001640266739216841; total time=   0.0s\n",
      "[CV] END .............................C=0.001640266739216841; total time=   0.0s\n",
      "[CV] END .............................C=0.001640266739216841; total time=   0.0s\n",
      "[CV] END .............................C=0.001640266739216841; total time=   0.0s\n",
      "[CV] END .............................C=0.001640266739216841; total time=   0.0s\n",
      "[CV] END ................................C=9.727825498497946; total time=   0.2s\n",
      "[CV] END ................................C=9.727825498497946; total time=   0.2s\n",
      "[CV] END ................................C=9.727825498497946; total time=   0.2s\n",
      "[CV] END ................................C=9.727825498497946; total time=   0.2s\n",
      "[CV] END ................................C=9.727825498497946; total time=   0.2s\n",
      "[CV] END ................................C=274.6821797638743; total time=   0.2s\n",
      "[CV] END ................................C=274.6821797638743; total time=   0.2s\n",
      "[CV] END ................................C=274.6821797638743; total time=   0.2s\n",
      "[CV] END ................................C=274.6821797638743; total time=   0.2s\n",
      "[CV] END ................................C=274.6821797638743; total time=   0.2s\n",
      "[CV] END ................................C=4.778244657268886; total time=   0.2s\n",
      "[CV] END ................................C=4.778244657268886; total time=   0.2s\n",
      "[CV] END ................................C=4.778244657268886; total time=   0.2s\n",
      "[CV] END ................................C=4.778244657268886; total time=   0.2s\n",
      "[CV] END ................................C=4.778244657268886; total time=   0.2s\n",
      "[CV] END ...............................C=144.88755586335236; total time=   0.2s\n",
      "[CV] END ...............................C=144.88755586335236; total time=   0.2s\n",
      "[CV] END ...............................C=144.88755586335236; total time=   0.2s\n",
      "[CV] END ...............................C=144.88755586335236; total time=   0.2s\n",
      "[CV] END ...............................C=144.88755586335236; total time=   0.2s\n",
      "[CV] END ...............................C=2.8568245365720117; total time=   0.2s\n",
      "[CV] END ...............................C=2.8568245365720117; total time=   0.2s\n",
      "[CV] END ...............................C=2.8568245365720117; total time=   0.2s\n",
      "[CV] END ...............................C=2.8568245365720117; total time=   0.2s\n",
      "[CV] END ...............................C=2.8568245365720117; total time=   0.2s\n",
      "[CV] END ...............................C=0.4912163887255702; total time=   0.1s\n",
      "[CV] END ...............................C=0.4912163887255702; total time=   0.1s\n",
      "[CV] END ...............................C=0.4912163887255702; total time=   0.1s\n",
      "[CV] END ...............................C=0.4912163887255702; total time=   0.1s\n",
      "[CV] END ...............................C=0.4912163887255702; total time=   0.2s\n",
      "[CV] END ...............................C=186.46560553891388; total time=   0.2s\n",
      "[CV] END ...............................C=186.46560553891388; total time=   0.2s\n",
      "[CV] END ...............................C=186.46560553891388; total time=   0.2s\n",
      "[CV] END ...............................C=186.46560553891388; total time=   0.2s\n",
      "[CV] END ...............................C=186.46560553891388; total time=   0.2s\n",
      "[CV] END ...............................C=154.79304224440492; total time=   0.2s\n",
      "[CV] END ...............................C=154.79304224440492; total time=   0.2s\n",
      "[CV] END ...............................C=154.79304224440492; total time=   0.2s\n",
      "[CV] END ...............................C=154.79304224440492; total time=   0.2s\n",
      "[CV] END ...............................C=154.79304224440492; total time=   0.2s\n",
      "Total computing time: 14.95869779586792 seconds\n",
      "Best hyperparameters: {'C': 0.006386577563812108}\n",
      "Best cross-validation score: 0.9383107041416535\n",
      "AUC Score (Test Data): 0.9373233389387814\n"
     ]
    }
   ],
   "source": [
    "# Define the parameter grid to search\n",
    "param_distributions = {\n",
    "    'C': loguniform(1e-3, 1e3), # Logarithmic scale for C\n",
    "}\n",
    "\n",
    "# Random search with cross-validation\n",
    "start_time = time.time() # Record start time\n",
    "random_search = RandomizedSearchCV(estimator=LinearSVC(random_state=10820034), param_distributions=param_distributions, scoring='roc_auc', n_iter=12, cv=5, verbose=2, random_state=10820034)\n",
    "random_search.fit(X_selected, y_smote)\n",
    "end_time = time.time()  # Record end time\n",
    "\n",
    "# Compute the total time taken\n",
    "total_time = end_time - start_time\n",
    "\n",
    "# Print the total computing time\n",
    "print(\"Total computing time:\", total_time, \"seconds\")\n",
    "\n",
    "# Best hyperparameters\n",
    "best_params = random_search.best_params_\n",
    "print(\"Best hyperparameters:\", best_params)\n",
    "\n",
    "# Get the best cross-validation score\n",
    "best_score = random_search.best_score_\n",
    "print(\"Best cross-validation score:\", best_score)\n",
    "\n",
    "# Best model from cross-validation\n",
    "best_model = random_search.best_estimator_\n",
    "\n",
    "# Compute AUC score for test data\n",
    "y_pred_proba = best_model.decision_function(X_test_selected)\n",
    "print('AUC Score (Test Data):', roc_auc_score(y_test, y_pred_proba))"
   ]
  },
  {
   "cell_type": "markdown",
   "metadata": {},
   "source": [
    "### Bayesian Optimization"
   ]
  },
  {
   "cell_type": "code",
   "execution_count": 239,
   "metadata": {},
   "outputs": [
    {
     "name": "stdout",
     "output_type": "stream",
     "text": [
      "Fitting 5 folds for each of 1 candidates, totalling 5 fits\n",
      "Fitting 5 folds for each of 1 candidates, totalling 5 fits\n",
      "Fitting 5 folds for each of 1 candidates, totalling 5 fits\n",
      "Fitting 5 folds for each of 1 candidates, totalling 5 fits\n",
      "Fitting 5 folds for each of 1 candidates, totalling 5 fits\n",
      "Fitting 5 folds for each of 1 candidates, totalling 5 fits\n",
      "Fitting 5 folds for each of 1 candidates, totalling 5 fits\n",
      "Fitting 5 folds for each of 1 candidates, totalling 5 fits\n",
      "Fitting 5 folds for each of 1 candidates, totalling 5 fits\n",
      "Fitting 5 folds for each of 1 candidates, totalling 5 fits\n",
      "Fitting 5 folds for each of 1 candidates, totalling 5 fits\n",
      "Fitting 5 folds for each of 1 candidates, totalling 5 fits\n",
      "Total computing time: 8.162406206130981 seconds\n",
      "Best hyperparameters: OrderedDict([('C', 1.5410631435715085)])\n",
      "Best cross-validation score: 0.9382377358418073\n",
      "AUC Score (Test Data): 0.9345235965508605\n"
     ]
    }
   ],
   "source": [
    "# Define the parameter grid to search\n",
    "search_space = {\n",
    "    'C': (1e-3, 1e+3, 'log-uniform') # Logarithmic scale for C\n",
    "}\n",
    "\n",
    "\n",
    "# Perform hyperparameter optimization with AUC scoring\n",
    "start_time = time.time()  # Record start time\n",
    "opt = BayesSearchCV(LinearSVC(random_state=10820034), search_space, n_iter=12, scoring='roc_auc', cv=5, n_jobs=-1, verbose=2, random_state=10820034)\n",
    "opt.fit(X_selected, y_smote)\n",
    "end_time = time.time()  # Record end time\n",
    "\n",
    "# Compute the total time taken\n",
    "total_time = end_time - start_time\n",
    "\n",
    "# Print the total computing time\n",
    "print(\"Total computing time:\", total_time, \"seconds\")\n",
    "\n",
    "# Get the best hyperparameters\n",
    "best_params = opt.best_params_\n",
    "print(\"Best hyperparameters:\", best_params)\n",
    "\n",
    "# Get the best cross-validation score\n",
    "best_score = opt.best_score_\n",
    "print(\"Best cross-validation score:\", best_score)\n",
    "\n",
    "# Best model from cross-validation\n",
    "best_model = opt.best_estimator_\n",
    "\n",
    "# Compute AUC score for test data\n",
    "y_pred_proba = best_model.decision_function(X_test_selected)\n",
    "print('AUC Score (Test Data):', roc_auc_score(y_test, y_pred_proba))"
   ]
  },
  {
   "cell_type": "markdown",
   "metadata": {},
   "source": [
    "## SVC Hyperoptimization (All Features)"
   ]
  },
  {
   "cell_type": "code",
   "execution_count": 240,
   "metadata": {},
   "outputs": [],
   "source": [
    "X = Final_Dataset_Provider_Train.drop(axis=1, columns=['Provider', 'PotentialFraud'])\n",
    "y = Final_Dataset_Provider_Train[\"PotentialFraud\"]\n",
    "\n",
    "robust_scaler = RobustScaler()\n",
    "robust_scaler.fit(X)\n",
    "X_std = robust_scaler.transform(X)"
   ]
  },
  {
   "cell_type": "code",
   "execution_count": 241,
   "metadata": {},
   "outputs": [],
   "source": [
    "X_train, X_test, y_train, y_test = train_test_split(X_std, y, test_size=0.30, stratify=y, random_state=10820034)"
   ]
  },
  {
   "cell_type": "code",
   "execution_count": 242,
   "metadata": {},
   "outputs": [
    {
     "name": "stdout",
     "output_type": "stream",
     "text": [
      "Original dataset shape Counter({0: 3433, 1: 354})\n",
      "Resample dataset shape Counter({0: 3433, 1: 3433})\n"
     ]
    }
   ],
   "source": [
    "smote = SMOTE(random_state=777)\n",
    "X_smote, y_smote = smote.fit_resample(X_train, y_train)\n",
    "\n",
    "print('Original dataset shape', Counter(y_train))\n",
    "print('Resample dataset shape', Counter(y_smote))"
   ]
  },
  {
   "cell_type": "markdown",
   "metadata": {},
   "source": [
    "### RBF Kernel"
   ]
  },
  {
   "cell_type": "markdown",
   "metadata": {},
   "source": [
    "#### GridSearch"
   ]
  },
  {
   "cell_type": "code",
   "execution_count": 243,
   "metadata": {},
   "outputs": [
    {
     "name": "stdout",
     "output_type": "stream",
     "text": [
      "Fitting 5 folds for each of 16 candidates, totalling 80 fits\n",
      "Total computing time: 581.4747233390808 seconds\n",
      "Best hyperparameters: {'C': 100, 'gamma': 'auto', 'kernel': 'rbf'}\n",
      "Best cross-validation score: 0.9758253814256108\n",
      "AUC Score (Test Data): 0.9043816415614155\n"
     ]
    }
   ],
   "source": [
    "# Define the parameter grid to search\n",
    "param_grid = {\n",
    "    'C': [0.001, 0.01, 0.1, 1, 10, 100, 500, 1000],  # Regularization parameter\n",
    "    'kernel': ['rbf'],  # Kernel type\n",
    "    'gamma': ['scale', 'auto'] # Kernel coefficient\n",
    "}\n",
    "\n",
    "# Create SVM classifier\n",
    "svc = SVC(probability=True, random_state=10820034)\n",
    "\n",
    "# Grid search with cross-validation\n",
    "start_time = time.time()  # Record start time\n",
    "grid_search = GridSearchCV(estimator=svc, param_grid=param_grid, scoring='roc_auc', cv=5, verbose=2, n_jobs=-1)\n",
    "grid_search.fit(X_smote, y_smote)\n",
    "end_time = time.time()  # Record end time\n",
    "\n",
    "# Compute the total time taken\n",
    "total_time = end_time - start_time\n",
    "\n",
    "# Print the total computing time\n",
    "print(\"Total computing time:\", total_time, \"seconds\")\n",
    "\n",
    "# Best hyperparameters\n",
    "best_params = grid_search.best_params_\n",
    "print(\"Best hyperparameters:\", best_params)\n",
    "\n",
    "# Get the best cross-validation score\n",
    "best_score = grid_search.best_score_\n",
    "print(\"Best cross-validation score:\", best_score)\n",
    "\n",
    "# Best model from cross-validation\n",
    "best_model = grid_search.best_estimator_\n",
    "\n",
    "# Compute AUC score for test data\n",
    "y_pred_proba = best_model.decision_function(X_test)\n",
    "print('AUC Score (Test Data):', roc_auc_score(y_test, y_pred_proba))"
   ]
  },
  {
   "cell_type": "markdown",
   "metadata": {},
   "source": [
    "#### Random Search"
   ]
  },
  {
   "cell_type": "code",
   "execution_count": 244,
   "metadata": {},
   "outputs": [
    {
     "name": "stdout",
     "output_type": "stream",
     "text": [
      "Fitting 5 folds for each of 16 candidates, totalling 80 fits\n",
      "Total computing time: 594.2133121490479 seconds\n",
      "Best hyperparameters: {'C': 72.32357858907149, 'gamma': 'auto', 'kernel': 'rbf'}\n",
      "Best cross-validation score: 0.975631366669478\n",
      "AUC Score (Test Data): 0.902485330423271\n"
     ]
    }
   ],
   "source": [
    "# Define the parameter grid to search\n",
    "param_distributions = {\n",
    "    'C': loguniform(1e-3, 1e3), # Logarithmic scale for C\n",
    "    'kernel': ['rbf'],  # Kernel type\n",
    "    'gamma': ['scale', 'auto']  # Kernel coefficient\n",
    "}\n",
    "\n",
    "# Create SVM classifier\n",
    "svc = SVC(probability=True, random_state=10820034)\n",
    "\n",
    "# Random search with cross-validation\n",
    "start_time = time.time() # Record start time\n",
    "random_search = RandomizedSearchCV(estimator=svc, param_distributions=param_distributions, scoring='roc_auc', n_iter=16, cv=5, verbose=2, n_jobs=-1, random_state=10820034)\n",
    "random_search.fit(X_smote, y_smote)\n",
    "end_time = time.time()  # Record end time\n",
    "\n",
    "# Compute the total time taken\n",
    "total_time = end_time - start_time\n",
    "\n",
    "# Print the total computing time\n",
    "print(\"Total computing time:\", total_time, \"seconds\")\n",
    "\n",
    "# Best hyperparameters\n",
    "best_params = random_search.best_params_\n",
    "print(\"Best hyperparameters:\", best_params)\n",
    "\n",
    "# Get the best cross-validation score\n",
    "best_score = random_search.best_score_\n",
    "print(\"Best cross-validation score:\", best_score)\n",
    "\n",
    "# Best model from cross-validation\n",
    "best_model = random_search.best_estimator_\n",
    "\n",
    "# Compute AUC score for test data\n",
    "y_pred_proba = best_model.decision_function(X_test)\n",
    "print('AUC Score (Test Data):', roc_auc_score(y_test, y_pred_proba))"
   ]
  },
  {
   "cell_type": "markdown",
   "metadata": {},
   "source": [
    "#### Bayesian Optimization"
   ]
  },
  {
   "cell_type": "code",
   "execution_count": 245,
   "metadata": {},
   "outputs": [
    {
     "name": "stdout",
     "output_type": "stream",
     "text": [
      "Fitting 5 folds for each of 1 candidates, totalling 5 fits\n",
      "Fitting 5 folds for each of 1 candidates, totalling 5 fits\n",
      "Fitting 5 folds for each of 1 candidates, totalling 5 fits\n",
      "Fitting 5 folds for each of 1 candidates, totalling 5 fits\n",
      "Fitting 5 folds for each of 1 candidates, totalling 5 fits\n",
      "Fitting 5 folds for each of 1 candidates, totalling 5 fits\n",
      "Fitting 5 folds for each of 1 candidates, totalling 5 fits\n",
      "Fitting 5 folds for each of 1 candidates, totalling 5 fits\n",
      "Fitting 5 folds for each of 1 candidates, totalling 5 fits\n",
      "Fitting 5 folds for each of 1 candidates, totalling 5 fits\n",
      "Fitting 5 folds for each of 1 candidates, totalling 5 fits\n",
      "Fitting 5 folds for each of 1 candidates, totalling 5 fits\n",
      "Fitting 5 folds for each of 1 candidates, totalling 5 fits\n",
      "Fitting 5 folds for each of 1 candidates, totalling 5 fits\n",
      "Fitting 5 folds for each of 1 candidates, totalling 5 fits\n",
      "Fitting 5 folds for each of 1 candidates, totalling 5 fits\n",
      "Total computing time: 656.9777343273163 seconds\n",
      "Best hyperparameters: OrderedDict([('C', 108.19991642207997), ('gamma', 'auto'), ('kernel', 'rbf')])\n",
      "Best cross-validation score: 0.9758359703999682\n",
      "AUC Score (Test Data): 0.9048423020501628\n"
     ]
    }
   ],
   "source": [
    "# Define the parameter grid to search\n",
    "search_space = {\n",
    "    'C': (1e-3, 1e+3, 'log-uniform'), # Logarithmic scale for C\n",
    "    'kernel': ['rbf'],  # Kernel type\n",
    "    'gamma': ['scale', 'auto']  # Kernel coefficient\n",
    "}\n",
    "\n",
    "# Define the SVM classifier\n",
    "svm = SVC(probability=True, random_state=10820034)\n",
    "\n",
    "# Perform hyperparameter optimization with AUC scoring\n",
    "start_time = time.time()  # Record start time\n",
    "opt = BayesSearchCV(svm, search_space, n_iter=16, scoring='roc_auc', cv=5, n_jobs=-1, verbose=2, random_state=10820034)\n",
    "opt.fit(X_smote, y_smote)\n",
    "end_time = time.time()  # Record end time\n",
    "\n",
    "# Compute the total time taken\n",
    "total_time = end_time - start_time\n",
    "\n",
    "# Print the total computing time\n",
    "print(\"Total computing time:\", total_time, \"seconds\")\n",
    "\n",
    "# Get the best hyperparameters\n",
    "best_params = opt.best_params_\n",
    "print(\"Best hyperparameters:\", best_params)\n",
    "\n",
    "# Get the best cross-validation score\n",
    "best_score = opt.best_score_\n",
    "print(\"Best cross-validation score:\", best_score)\n",
    "\n",
    "# Best model from cross-validation\n",
    "best_model = opt.best_estimator_\n",
    "\n",
    "# Compute AUC score for test data\n",
    "y_pred_proba = best_model.decision_function(X_test)\n",
    "print('AUC Score (Test Data):', roc_auc_score(y_test, y_pred_proba))"
   ]
  },
  {
   "cell_type": "markdown",
   "metadata": {},
   "source": [
    "### Sigmoid Kernel"
   ]
  },
  {
   "cell_type": "markdown",
   "metadata": {},
   "source": [
    "#### GridSearch"
   ]
  },
  {
   "cell_type": "code",
   "execution_count": 246,
   "metadata": {},
   "outputs": [
    {
     "name": "stdout",
     "output_type": "stream",
     "text": [
      "Fitting 5 folds for each of 16 candidates, totalling 80 fits\n",
      "Total computing time: 601.8815929889679 seconds\n",
      "Best hyperparameters: {'C': 0.001, 'gamma': 'scale', 'kernel': 'sigmoid'}\n",
      "Best cross-validation score: 0.9089632492849091\n",
      "AUC Score (Test Data): 0.9182126373036603\n"
     ]
    }
   ],
   "source": [
    "# Define the parameter grid to search\n",
    "param_grid = {\n",
    "    'C': [0.001, 0.01, 0.1, 1, 10, 100, 500, 1000],  # Regularization parameter\n",
    "    'kernel': ['sigmoid'],  # Kernel type\n",
    "    'gamma': ['scale', 'auto']\n",
    "}\n",
    "\n",
    "# Create SVM classifier\n",
    "svc = SVC(probability=True, random_state=10820034)\n",
    "\n",
    "# Grid search with cross-validation\n",
    "start_time = time.time()  # Record start time\n",
    "grid_search = GridSearchCV(estimator=svc, param_grid=param_grid, scoring='roc_auc', cv=5, verbose=2, n_jobs=-1)\n",
    "grid_search.fit(X_smote, y_smote)\n",
    "end_time = time.time()  # Record end time\n",
    "\n",
    "# Compute the total time taken\n",
    "total_time = end_time - start_time\n",
    "\n",
    "# Print the total computing time\n",
    "print(\"Total computing time:\", total_time, \"seconds\")\n",
    "\n",
    "# Best hyperparameters\n",
    "best_params = grid_search.best_params_\n",
    "print(\"Best hyperparameters:\", best_params)\n",
    "\n",
    "# Get the best cross-validation score\n",
    "best_score = grid_search.best_score_\n",
    "print(\"Best cross-validation score:\", best_score)\n",
    "\n",
    "# Best model from cross-validation\n",
    "best_model = grid_search.best_estimator_\n",
    "\n",
    "# Compute AUC score for test data\n",
    "y_pred_proba = best_model.decision_function(X_test)\n",
    "print('AUC Score (Test Data):', roc_auc_score(y_test, y_pred_proba))"
   ]
  },
  {
   "cell_type": "markdown",
   "metadata": {},
   "source": [
    "#### Random Search"
   ]
  },
  {
   "cell_type": "code",
   "execution_count": 247,
   "metadata": {},
   "outputs": [
    {
     "name": "stdout",
     "output_type": "stream",
     "text": [
      "Fitting 5 folds for each of 16 candidates, totalling 80 fits\n"
     ]
    },
    {
     "name": "stdout",
     "output_type": "stream",
     "text": [
      "Total computing time: 506.13439655303955 seconds\n",
      "Best hyperparameters: {'C': 0.13789766063603937, 'gamma': 'scale', 'kernel': 'sigmoid'}\n",
      "Best cross-validation score: 0.8988517906006909\n",
      "AUC Score (Test Data): 0.9063428029625389\n"
     ]
    }
   ],
   "source": [
    "# Define the parameter grid to search\n",
    "param_distributions = {\n",
    "    'C': loguniform(1e-3, 1e3), # Logarithmic scale for C\n",
    "    'kernel': ['sigmoid'],  # Kernel type\n",
    "    'gamma': ['scale', 'auto']  # Kernel coefficient\n",
    "}\n",
    "\n",
    "# Create SVM classifier\n",
    "svc = SVC(probability=True, random_state=10820034)\n",
    "\n",
    "# Random search with cross-validation\n",
    "start_time = time.time() # Record start time\n",
    "random_search = RandomizedSearchCV(estimator=svc, param_distributions=param_distributions, scoring='roc_auc', n_iter=16, cv=5, verbose=2, n_jobs=-1, random_state=10820034)\n",
    "random_search.fit(X_smote, y_smote)\n",
    "end_time = time.time()  # Record end time\n",
    "\n",
    "# Compute the total time taken\n",
    "total_time = end_time - start_time\n",
    "\n",
    "# Print the total computing time\n",
    "print(\"Total computing time:\", total_time, \"seconds\")\n",
    "\n",
    "# Best hyperparameters\n",
    "best_params = random_search.best_params_\n",
    "print(\"Best hyperparameters:\", best_params)\n",
    "\n",
    "# Get the best cross-validation score\n",
    "best_score = random_search.best_score_\n",
    "print(\"Best cross-validation score:\", best_score)\n",
    "\n",
    "# Best model from cross-validation\n",
    "best_model = random_search.best_estimator_\n",
    "\n",
    "# Compute AUC score for test data\n",
    "y_pred_proba = best_model.decision_function(X_test)\n",
    "print('AUC Score (Test Data):', roc_auc_score(y_test, y_pred_proba))"
   ]
  },
  {
   "cell_type": "markdown",
   "metadata": {},
   "source": [
    "#### Bayesian Optimization"
   ]
  },
  {
   "cell_type": "code",
   "execution_count": 248,
   "metadata": {},
   "outputs": [
    {
     "name": "stdout",
     "output_type": "stream",
     "text": [
      "Fitting 5 folds for each of 1 candidates, totalling 5 fits\n",
      "Fitting 5 folds for each of 1 candidates, totalling 5 fits\n",
      "Fitting 5 folds for each of 1 candidates, totalling 5 fits\n",
      "Fitting 5 folds for each of 1 candidates, totalling 5 fits\n",
      "Fitting 5 folds for each of 1 candidates, totalling 5 fits\n",
      "Fitting 5 folds for each of 1 candidates, totalling 5 fits\n",
      "Fitting 5 folds for each of 1 candidates, totalling 5 fits\n",
      "Fitting 5 folds for each of 1 candidates, totalling 5 fits\n",
      "Fitting 5 folds for each of 1 candidates, totalling 5 fits\n",
      "Fitting 5 folds for each of 1 candidates, totalling 5 fits\n",
      "Fitting 5 folds for each of 1 candidates, totalling 5 fits\n",
      "Fitting 5 folds for each of 1 candidates, totalling 5 fits\n",
      "Fitting 5 folds for each of 1 candidates, totalling 5 fits\n",
      "Fitting 5 folds for each of 1 candidates, totalling 5 fits\n",
      "Fitting 5 folds for each of 1 candidates, totalling 5 fits\n",
      "Fitting 5 folds for each of 1 candidates, totalling 5 fits\n",
      "Total computing time: 689.8453722000122 seconds\n",
      "Best hyperparameters: OrderedDict([('C', 0.001), ('gamma', 'scale'), ('kernel', 'sigmoid')])\n",
      "Best cross-validation score: 0.9089632492849091\n",
      "AUC Score (Test Data): 0.9182126373036603\n"
     ]
    }
   ],
   "source": [
    "# Define the parameter grid to search\n",
    "search_space = {\n",
    "    'C': (1e-3, 1e3, 'log-uniform'), # Logarithmic scale for C\n",
    "    'kernel': ['sigmoid'],  # Kernel type\n",
    "    'gamma': ['scale', 'auto']  # Kernel coefficient\n",
    "}\n",
    "\n",
    "# Define the SVM classifier\n",
    "svm = SVC(probability=True, random_state=10820034)\n",
    "\n",
    "# Perform hyperparameter optimization with AUC scoring\n",
    "start_time = time.time()  # Record start time\n",
    "opt = BayesSearchCV(svm, search_space, n_iter=16, scoring='roc_auc', cv=5, n_jobs=-1, verbose=2, random_state=10820034)\n",
    "opt.fit(X_smote, y_smote)\n",
    "end_time = time.time()  # Record end time\n",
    "\n",
    "# Compute the total time taken\n",
    "total_time = end_time - start_time\n",
    "\n",
    "# Print the total computing time\n",
    "print(\"Total computing time:\", total_time, \"seconds\")\n",
    "\n",
    "# Get the best hyperparameters\n",
    "best_params = opt.best_params_\n",
    "print(\"Best hyperparameters:\", best_params)\n",
    "\n",
    "# Get the best cross-validation score\n",
    "best_score = opt.best_score_\n",
    "print(\"Best cross-validation score:\", best_score)\n",
    "\n",
    "# Best model from cross-validation\n",
    "best_model = opt.best_estimator_\n",
    "\n",
    "# Compute AUC score for test data\n",
    "y_pred_proba = best_model.decision_function(X_test)\n",
    "print('AUC Score (Test Data):', roc_auc_score(y_test, y_pred_proba))"
   ]
  },
  {
   "cell_type": "markdown",
   "metadata": {},
   "source": [
    "## SVC Feature Selection (80) & Hyperoptimization"
   ]
  },
  {
   "cell_type": "code",
   "execution_count": 249,
   "metadata": {},
   "outputs": [],
   "source": [
    "X = Final_Dataset_Provider_Train.drop(axis=1, columns=['Provider', 'PotentialFraud'])\n",
    "y = Final_Dataset_Provider_Train[\"PotentialFraud\"]\n",
    "\n",
    "robust_scaler = RobustScaler()\n",
    "robust_scaler.fit(X)\n",
    "X_std = robust_scaler.transform(X)"
   ]
  },
  {
   "cell_type": "code",
   "execution_count": 250,
   "metadata": {},
   "outputs": [],
   "source": [
    "X_train, X_test, y_train, y_test = train_test_split(X_std, y, test_size=0.30, stratify=y, random_state=10820034)"
   ]
  },
  {
   "cell_type": "code",
   "execution_count": 251,
   "metadata": {},
   "outputs": [
    {
     "name": "stdout",
     "output_type": "stream",
     "text": [
      "Original dataset shape Counter({0: 3433, 1: 354})\n",
      "Resample dataset shape Counter({0: 3433, 1: 3433})\n"
     ]
    }
   ],
   "source": [
    "smote = SMOTE(random_state=777)\n",
    "X_smote, y_smote = smote.fit_resample(X_train, y_train)\n",
    "\n",
    "print('Original dataset shape', Counter(y_train))\n",
    "print('Resample dataset shape', Counter(y_smote))"
   ]
  },
  {
   "cell_type": "code",
   "execution_count": 252,
   "metadata": {},
   "outputs": [],
   "source": [
    "# Initialize the SVM classifier\n",
    "estimator = LinearSVC(random_state=10820034)\n",
    "\n",
    "# Initialize RFE with the estimator and specify the number of features to select\n",
    "rfe = RFE(estimator, n_features_to_select=80)\n",
    "\n",
    "# Perform RFE to select features\n",
    "X_selected = rfe.fit_transform(X_smote, y_smote)"
   ]
  },
  {
   "cell_type": "code",
   "execution_count": 253,
   "metadata": {},
   "outputs": [],
   "source": [
    "# Get the indices of selected features\n",
    "selected_indices = rfe.get_support(indices=True)\n",
    "\n",
    "# Subset the test data using the selected indices\n",
    "X_test_selected = X_test[:, selected_indices]"
   ]
  },
  {
   "cell_type": "markdown",
   "metadata": {},
   "source": [
    "### RBF Kernel"
   ]
  },
  {
   "cell_type": "markdown",
   "metadata": {},
   "source": [
    "#### GridSearch"
   ]
  },
  {
   "cell_type": "code",
   "execution_count": 254,
   "metadata": {},
   "outputs": [
    {
     "name": "stdout",
     "output_type": "stream",
     "text": [
      "Fitting 5 folds for each of 16 candidates, totalling 80 fits\n"
     ]
    },
    {
     "name": "stdout",
     "output_type": "stream",
     "text": [
      "Total computing time: 223.28761982917786 seconds\n",
      "Best hyperparameters: {'C': 100, 'gamma': 'auto', 'kernel': 'rbf'}\n",
      "Best cross-validation score: 0.9724592000955837\n",
      "AUC Score (Test Data): 0.8507415292139254\n"
     ]
    }
   ],
   "source": [
    "# Define the parameter grid to search\n",
    "param_grid = {\n",
    "    'C': [0.001, 0.01, 0.1, 1, 10, 100, 500, 1000],  # Regularization parameter\n",
    "    'kernel': ['rbf'],  # Kernel type\n",
    "    'gamma': ['scale', 'auto'] # Kernel coefficient\n",
    "}\n",
    "\n",
    "# Create SVM classifier\n",
    "svc = SVC(probability=True, random_state=10820034)\n",
    "\n",
    "# Grid search with cross-validation\n",
    "start_time = time.time()  # Record start time\n",
    "grid_search = GridSearchCV(estimator=svc, param_grid=param_grid, scoring='roc_auc', cv=5, verbose=2, n_jobs=-1)\n",
    "grid_search.fit(X_selected, y_smote)\n",
    "end_time = time.time()  # Record end time\n",
    "\n",
    "# Compute the total time taken\n",
    "total_time = end_time - start_time\n",
    "\n",
    "# Print the total computing time\n",
    "print(\"Total computing time:\", total_time, \"seconds\")\n",
    "\n",
    "# Best hyperparameters\n",
    "best_params = grid_search.best_params_\n",
    "print(\"Best hyperparameters:\", best_params)\n",
    "\n",
    "# Get the best cross-validation score\n",
    "best_score = grid_search.best_score_\n",
    "print(\"Best cross-validation score:\", best_score)\n",
    "\n",
    "# Best model from cross-validation\n",
    "best_model = grid_search.best_estimator_\n",
    "\n",
    "# Compute AUC score for test data\n",
    "y_pred_proba = best_model.decision_function(X_test_selected)\n",
    "print('AUC Score (Test Data):', roc_auc_score(y_test, y_pred_proba))"
   ]
  },
  {
   "cell_type": "markdown",
   "metadata": {},
   "source": [
    "#### Random Search"
   ]
  },
  {
   "cell_type": "code",
   "execution_count": 255,
   "metadata": {},
   "outputs": [
    {
     "name": "stdout",
     "output_type": "stream",
     "text": [
      "Fitting 5 folds for each of 16 candidates, totalling 80 fits\n",
      "Total computing time: 234.76013445854187 seconds\n",
      "Best hyperparameters: {'C': 72.32357858907149, 'gamma': 'auto', 'kernel': 'rbf'}\n",
      "Best cross-validation score: 0.9716821446869872\n",
      "AUC Score (Test Data): 0.8529151311317043\n"
     ]
    }
   ],
   "source": [
    "# Define the parameter grid to search\n",
    "param_distributions = {\n",
    "    'C': loguniform(1e-3, 1e3), # Logarithmic scale for C\n",
    "    'kernel': ['rbf'],  # Kernel type\n",
    "    'gamma': ['scale', 'auto']  # Kernel coefficient\n",
    "}\n",
    "\n",
    "# Create SVM classifier\n",
    "svc = SVC(probability=True, random_state=10820034)\n",
    "\n",
    "# Random search with cross-validation\n",
    "start_time = time.time() # Record start time\n",
    "random_search = RandomizedSearchCV(estimator=svc, param_distributions=param_distributions, scoring='roc_auc', n_iter=16, cv=5, verbose=2, n_jobs=-1, random_state=10820034)\n",
    "random_search.fit(X_selected, y_smote)\n",
    "end_time = time.time()  # Record end time\n",
    "\n",
    "# Compute the total time taken\n",
    "total_time = end_time - start_time\n",
    "\n",
    "# Print the total computing time\n",
    "print(\"Total computing time:\", total_time, \"seconds\")\n",
    "\n",
    "# Best hyperparameters\n",
    "best_params = random_search.best_params_\n",
    "print(\"Best hyperparameters:\", best_params)\n",
    "\n",
    "# Get the best cross-validation score\n",
    "best_score = random_search.best_score_\n",
    "print(\"Best cross-validation score:\", best_score)\n",
    "\n",
    "# Best model from cross-validation\n",
    "best_model = random_search.best_estimator_\n",
    "\n",
    "# Compute AUC score for test data\n",
    "y_pred_proba = best_model.decision_function(X_test_selected)\n",
    "print('AUC Score (Test Data):', roc_auc_score(y_test, y_pred_proba))"
   ]
  },
  {
   "cell_type": "markdown",
   "metadata": {},
   "source": [
    "#### Bayesian Optimization"
   ]
  },
  {
   "cell_type": "code",
   "execution_count": 256,
   "metadata": {},
   "outputs": [
    {
     "name": "stdout",
     "output_type": "stream",
     "text": [
      "Fitting 5 folds for each of 1 candidates, totalling 5 fits\n",
      "Fitting 5 folds for each of 1 candidates, totalling 5 fits\n",
      "Fitting 5 folds for each of 1 candidates, totalling 5 fits\n",
      "Fitting 5 folds for each of 1 candidates, totalling 5 fits\n",
      "Fitting 5 folds for each of 1 candidates, totalling 5 fits\n",
      "Fitting 5 folds for each of 1 candidates, totalling 5 fits\n",
      "Fitting 5 folds for each of 1 candidates, totalling 5 fits\n",
      "Fitting 5 folds for each of 1 candidates, totalling 5 fits\n",
      "Fitting 5 folds for each of 1 candidates, totalling 5 fits\n",
      "Fitting 5 folds for each of 1 candidates, totalling 5 fits\n",
      "Fitting 5 folds for each of 1 candidates, totalling 5 fits\n",
      "Fitting 5 folds for each of 1 candidates, totalling 5 fits\n",
      "Fitting 5 folds for each of 1 candidates, totalling 5 fits\n",
      "Fitting 5 folds for each of 1 candidates, totalling 5 fits\n",
      "Fitting 5 folds for each of 1 candidates, totalling 5 fits\n",
      "Fitting 5 folds for each of 1 candidates, totalling 5 fits\n",
      "Total computing time: 248.5742712020874 seconds\n",
      "Best hyperparameters: OrderedDict([('C', 242.54017538164663), ('gamma', 'auto'), ('kernel', 'rbf')])\n",
      "Best cross-validation score: 0.9729096577333021\n",
      "AUC Score (Test Data): 0.8329993917492576\n"
     ]
    }
   ],
   "source": [
    "# Define the parameter grid to search\n",
    "search_space = {\n",
    "    'C': (1e-3, 1e3, 'log-uniform'), # Logarithmic scale for C\n",
    "    'kernel': ['rbf'],  # Kernel type\n",
    "    'gamma': ['scale', 'auto']  # Kernel coefficient\n",
    "}\n",
    "\n",
    "# Define the SVM classifier\n",
    "svm = SVC(probability=True, random_state=10820034)\n",
    "\n",
    "# Perform hyperparameter optimization with AUC scoring\n",
    "start_time = time.time()  # Record start time\n",
    "opt = BayesSearchCV(svm, search_space, n_iter=16, scoring='roc_auc', cv=5, n_jobs=-1, verbose=2, random_state=10820034)\n",
    "opt.fit(X_selected, y_smote)\n",
    "end_time = time.time()  # Record end time\n",
    "\n",
    "# Compute the total time taken\n",
    "total_time = end_time - start_time\n",
    "\n",
    "# Print the total computing time\n",
    "print(\"Total computing time:\", total_time, \"seconds\")\n",
    "\n",
    "# Get the best hyperparameters\n",
    "best_params = opt.best_params_\n",
    "print(\"Best hyperparameters:\", best_params)\n",
    "\n",
    "# Get the best cross-validation score\n",
    "best_score = opt.best_score_\n",
    "print(\"Best cross-validation score:\", best_score)\n",
    "\n",
    "# Best model from cross-validation\n",
    "best_model = opt.best_estimator_\n",
    "\n",
    "# Compute AUC score for test data\n",
    "y_pred_proba = best_model.decision_function(X_test_selected)\n",
    "print('AUC Score (Test Data):', roc_auc_score(y_test, y_pred_proba))"
   ]
  },
  {
   "cell_type": "markdown",
   "metadata": {},
   "source": [
    "### Sigmoid Kernel"
   ]
  },
  {
   "cell_type": "markdown",
   "metadata": {},
   "source": [
    "#### GridSearch"
   ]
  },
  {
   "cell_type": "code",
   "execution_count": 257,
   "metadata": {},
   "outputs": [
    {
     "name": "stdout",
     "output_type": "stream",
     "text": [
      "Fitting 5 folds for each of 16 candidates, totalling 80 fits\n"
     ]
    },
    {
     "name": "stdout",
     "output_type": "stream",
     "text": [
      "Total computing time: 202.13476538658142 seconds\n",
      "Best hyperparameters: {'C': 0.001, 'gamma': 'scale', 'kernel': 'sigmoid'}\n",
      "Best cross-validation score: 0.9313767055919266\n",
      "AUC Score (Test Data): 0.9313079179934882\n"
     ]
    }
   ],
   "source": [
    "# Define the parameter grid to search\n",
    "param_grid = {\n",
    "    'C': [0.001, 0.01, 0.1, 1, 10, 100, 500, 1000],  # Regularization parameter\n",
    "    'kernel': ['sigmoid'],  # Kernel type\n",
    "    'gamma': ['scale', 'auto']\n",
    "}\n",
    "\n",
    "# Create SVM classifier\n",
    "svc = SVC(probability=True, random_state=10820034)\n",
    "\n",
    "# Grid search with cross-validation\n",
    "start_time = time.time()  # Record start time\n",
    "grid_search = GridSearchCV(estimator=svc, param_grid=param_grid, scoring='roc_auc', cv=5, verbose=2, n_jobs=-1)\n",
    "grid_search.fit(X_selected, y_smote)\n",
    "end_time = time.time()  # Record end time\n",
    "\n",
    "# Compute the total time taken\n",
    "total_time = end_time - start_time\n",
    "\n",
    "# Print the total computing time\n",
    "print(\"Total computing time:\", total_time, \"seconds\")\n",
    "\n",
    "# Best hyperparameters\n",
    "best_params = grid_search.best_params_\n",
    "print(\"Best hyperparameters:\", best_params)\n",
    "\n",
    "# Get the best cross-validation score\n",
    "best_score = grid_search.best_score_\n",
    "print(\"Best cross-validation score:\", best_score)\n",
    "\n",
    "# Best model from cross-validation\n",
    "best_model = grid_search.best_estimator_\n",
    "\n",
    "# Compute AUC score for test data\n",
    "y_pred_proba = best_model.decision_function(X_test_selected)\n",
    "print('AUC Score (Test Data):', roc_auc_score(y_test, y_pred_proba))"
   ]
  },
  {
   "cell_type": "markdown",
   "metadata": {},
   "source": [
    "#### Random Search"
   ]
  },
  {
   "cell_type": "code",
   "execution_count": 258,
   "metadata": {},
   "outputs": [
    {
     "name": "stdout",
     "output_type": "stream",
     "text": [
      "Fitting 5 folds for each of 16 candidates, totalling 80 fits\n",
      "Total computing time: 215.20172953605652 seconds\n",
      "Best hyperparameters: {'C': 0.13789766063603937, 'gamma': 'scale', 'kernel': 'sigmoid'}\n",
      "Best cross-validation score: 0.8378725230922198\n",
      "AUC Score (Test Data): 0.8222297756628144\n"
     ]
    }
   ],
   "source": [
    "# Define the parameter grid to search\n",
    "param_distributions = {\n",
    "    'C': loguniform(1e-3, 1e3), # Logarithmic scale for C\n",
    "    'kernel': ['sigmoid'],  # Kernel type\n",
    "    'gamma': ['scale', 'auto']  # Kernel coefficient\n",
    "}\n",
    "\n",
    "# Create SVM classifier\n",
    "svc = SVC(probability=True, random_state=10820034)\n",
    "\n",
    "# Random search with cross-validation\n",
    "start_time = time.time() # Record start time\n",
    "random_search = RandomizedSearchCV(estimator=svc, param_distributions=param_distributions, scoring='roc_auc', n_iter=16, cv=5, verbose=2, n_jobs=-1, random_state=10820034)\n",
    "random_search.fit(X_selected, y_smote)\n",
    "end_time = time.time()  # Record end time\n",
    "\n",
    "# Compute the total time taken\n",
    "total_time = end_time - start_time\n",
    "\n",
    "# Print the total computing time\n",
    "print(\"Total computing time:\", total_time, \"seconds\")\n",
    "\n",
    "# Best hyperparameters\n",
    "best_params = random_search.best_params_\n",
    "print(\"Best hyperparameters:\", best_params)\n",
    "\n",
    "# Get the best cross-validation score\n",
    "best_score = random_search.best_score_\n",
    "print(\"Best cross-validation score:\", best_score)\n",
    "\n",
    "# Best model from cross-validation\n",
    "best_model = random_search.best_estimator_\n",
    "\n",
    "# Compute AUC score for test data\n",
    "y_pred_proba = best_model.decision_function(X_test_selected)\n",
    "print('AUC Score (Test Data):', roc_auc_score(y_test, y_pred_proba))"
   ]
  },
  {
   "cell_type": "markdown",
   "metadata": {},
   "source": [
    "#### Bayesian Optimization"
   ]
  },
  {
   "cell_type": "code",
   "execution_count": 259,
   "metadata": {},
   "outputs": [
    {
     "name": "stdout",
     "output_type": "stream",
     "text": [
      "Fitting 5 folds for each of 1 candidates, totalling 5 fits\n",
      "Fitting 5 folds for each of 1 candidates, totalling 5 fits\n",
      "Fitting 5 folds for each of 1 candidates, totalling 5 fits\n",
      "Fitting 5 folds for each of 1 candidates, totalling 5 fits\n",
      "Fitting 5 folds for each of 1 candidates, totalling 5 fits\n",
      "Fitting 5 folds for each of 1 candidates, totalling 5 fits\n",
      "Fitting 5 folds for each of 1 candidates, totalling 5 fits\n",
      "Fitting 5 folds for each of 1 candidates, totalling 5 fits\n",
      "Fitting 5 folds for each of 1 candidates, totalling 5 fits\n",
      "Fitting 5 folds for each of 1 candidates, totalling 5 fits\n",
      "Fitting 5 folds for each of 1 candidates, totalling 5 fits\n",
      "Fitting 5 folds for each of 1 candidates, totalling 5 fits\n",
      "Fitting 5 folds for each of 1 candidates, totalling 5 fits\n",
      "Fitting 5 folds for each of 1 candidates, totalling 5 fits\n",
      "Fitting 5 folds for each of 1 candidates, totalling 5 fits\n",
      "Fitting 5 folds for each of 1 candidates, totalling 5 fits\n",
      "Total computing time: 275.9538540840149 seconds\n",
      "Best hyperparameters: OrderedDict([('C', 0.001), ('gamma', 'scale'), ('kernel', 'sigmoid')])\n",
      "Best cross-validation score: 0.9313767055919266\n",
      "AUC Score (Test Data): 0.9313079179934882\n"
     ]
    }
   ],
   "source": [
    "# Define the parameter grid to search\n",
    "search_space = {\n",
    "    'C': (1e-3, 1e3, 'log-uniform'), # Logarithmic scale for C\n",
    "    'kernel': ['sigmoid'],  # Kernel type\n",
    "    'gamma': ['scale', 'auto']  # Kernel coefficient\n",
    "}\n",
    "\n",
    "# Define the SVM classifier\n",
    "svm = SVC(probability=True, random_state=10820034)\n",
    "\n",
    "# Perform hyperparameter optimization with AUC scoring\n",
    "start_time = time.time()  # Record start time\n",
    "opt = BayesSearchCV(svm, search_space, n_iter=16, scoring='roc_auc', cv=5, n_jobs=-1, verbose=2, random_state=10820034)\n",
    "opt.fit(X_selected, y_smote)\n",
    "end_time = time.time()  # Record end time\n",
    "\n",
    "# Compute the total time taken\n",
    "total_time = end_time - start_time\n",
    "\n",
    "# Print the total computing time\n",
    "print(\"Total computing time:\", total_time, \"seconds\")\n",
    "\n",
    "# Get the best hyperparameters\n",
    "best_params = opt.best_params_\n",
    "print(\"Best hyperparameters:\", best_params)\n",
    "\n",
    "# Get the best cross-validation score\n",
    "best_score = opt.best_score_\n",
    "print(\"Best cross-validation score:\", best_score)\n",
    "\n",
    "# Best model from cross-validation\n",
    "best_model = opt.best_estimator_\n",
    "\n",
    "# Compute AUC score for test data\n",
    "y_pred_proba = best_model.decision_function(X_test_selected)\n",
    "print('AUC Score (Test Data):', roc_auc_score(y_test, y_pred_proba))"
   ]
  },
  {
   "cell_type": "markdown",
   "metadata": {},
   "source": [
    "## SVC Feature Selection (50) & Hyperoptimization"
   ]
  },
  {
   "cell_type": "code",
   "execution_count": 260,
   "metadata": {},
   "outputs": [],
   "source": [
    "X = Final_Dataset_Provider_Train.drop(axis=1, columns=['Provider', 'PotentialFraud'])\n",
    "y = Final_Dataset_Provider_Train[\"PotentialFraud\"]\n",
    "\n",
    "robust_scaler = RobustScaler()\n",
    "robust_scaler.fit(X)\n",
    "X_std = robust_scaler.transform(X)"
   ]
  },
  {
   "cell_type": "code",
   "execution_count": 261,
   "metadata": {},
   "outputs": [],
   "source": [
    "X_train, X_test, y_train, y_test = train_test_split(X_std, y, test_size=0.30, stratify=y, random_state=10820034)"
   ]
  },
  {
   "cell_type": "code",
   "execution_count": 262,
   "metadata": {},
   "outputs": [
    {
     "name": "stdout",
     "output_type": "stream",
     "text": [
      "Original dataset shape Counter({0: 3433, 1: 354})\n",
      "Resample dataset shape Counter({0: 3433, 1: 3433})\n"
     ]
    }
   ],
   "source": [
    "smote = SMOTE(random_state=777)\n",
    "X_smote, y_smote = smote.fit_resample(X_train, y_train)\n",
    "\n",
    "print('Original dataset shape', Counter(y_train))\n",
    "print('Resample dataset shape', Counter(y_smote))"
   ]
  },
  {
   "cell_type": "code",
   "execution_count": 263,
   "metadata": {},
   "outputs": [],
   "source": [
    "# Initialize the SVM classifier\n",
    "estimator = LinearSVC(random_state=10820034)\n",
    "\n",
    "# Initialize RFE with the estimator and specify the number of features to select\n",
    "rfe = RFE(estimator, n_features_to_select=50)\n",
    "\n",
    "# Perform RFE to select features\n",
    "X_selected = rfe.fit_transform(X_smote, y_smote)"
   ]
  },
  {
   "cell_type": "code",
   "execution_count": 264,
   "metadata": {},
   "outputs": [],
   "source": [
    "# Get the indices of selected features\n",
    "selected_indices = rfe.get_support(indices=True)\n",
    "\n",
    "# Subset the test data using the selected indices\n",
    "X_test_selected = X_test[:, selected_indices]"
   ]
  },
  {
   "cell_type": "markdown",
   "metadata": {},
   "source": [
    "### RBF Kernel"
   ]
  },
  {
   "cell_type": "markdown",
   "metadata": {},
   "source": [
    "#### GridSearch"
   ]
  },
  {
   "cell_type": "code",
   "execution_count": 265,
   "metadata": {},
   "outputs": [
    {
     "name": "stdout",
     "output_type": "stream",
     "text": [
      "Fitting 5 folds for each of 16 candidates, totalling 80 fits\n"
     ]
    },
    {
     "name": "stdout",
     "output_type": "stream",
     "text": [
      "Total computing time: 177.6622211933136 seconds\n",
      "Best hyperparameters: {'C': 100, 'gamma': 'auto', 'kernel': 'rbf'}\n",
      "Best cross-validation score: 0.9665203699355978\n",
      "AUC Score (Test Data): 0.8496815628466134\n"
     ]
    }
   ],
   "source": [
    "# Define the parameter grid to search\n",
    "param_grid = {\n",
    "    'C': [0.001, 0.01, 0.1, 1, 10, 100, 500, 1000],  # Regularization parameter\n",
    "    'kernel': ['rbf'],  # Kernel type\n",
    "    'gamma': ['scale', 'auto'] # Kernel coefficient\n",
    "}\n",
    "\n",
    "# Create SVM classifier\n",
    "svc = SVC(probability=True, random_state=10820034)\n",
    "\n",
    "# Grid search with cross-validation\n",
    "start_time = time.time()  # Record start time\n",
    "grid_search = GridSearchCV(estimator=svc, param_grid=param_grid, scoring='roc_auc', cv=5, verbose=2, n_jobs=-1)\n",
    "grid_search.fit(X_selected, y_smote)\n",
    "end_time = time.time()  # Record end time\n",
    "\n",
    "# Compute the total time taken\n",
    "total_time = end_time - start_time\n",
    "\n",
    "# Print the total computing time\n",
    "print(\"Total computing time:\", total_time, \"seconds\")\n",
    "\n",
    "# Best hyperparameters\n",
    "best_params = grid_search.best_params_\n",
    "print(\"Best hyperparameters:\", best_params)\n",
    "\n",
    "# Get the best cross-validation score\n",
    "best_score = grid_search.best_score_\n",
    "print(\"Best cross-validation score:\", best_score)\n",
    "\n",
    "# Best model from cross-validation\n",
    "best_model = grid_search.best_estimator_\n",
    "\n",
    "# Compute AUC score for test data\n",
    "y_pred_proba = best_model.decision_function(X_test_selected)\n",
    "print('AUC Score (Test Data):', roc_auc_score(y_test, y_pred_proba))"
   ]
  },
  {
   "cell_type": "markdown",
   "metadata": {},
   "source": [
    "#### Random Search"
   ]
  },
  {
   "cell_type": "code",
   "execution_count": 266,
   "metadata": {},
   "outputs": [
    {
     "name": "stdout",
     "output_type": "stream",
     "text": [
      "Fitting 5 folds for each of 16 candidates, totalling 80 fits\n"
     ]
    },
    {
     "name": "stdout",
     "output_type": "stream",
     "text": [
      "Total computing time: 177.4557340145111 seconds\n",
      "Best hyperparameters: {'C': 72.32357858907149, 'gamma': 'auto', 'kernel': 'rbf'}\n",
      "Best cross-validation score: 0.9660580631725658\n",
      "AUC Score (Test Data): 0.8550574260259759\n"
     ]
    }
   ],
   "source": [
    "# Define the parameter grid to search\n",
    "param_distributions = {\n",
    "    'C': loguniform(1e-3, 1e3), # Logarithmic scale for C\n",
    "    'kernel': ['rbf'],  # Kernel type\n",
    "    'gamma': ['scale', 'auto']  # Kernel coefficient\n",
    "}\n",
    "\n",
    "# Create SVM classifier\n",
    "svc = SVC(probability=True, random_state=10820034)\n",
    "\n",
    "# Random search with cross-validation\n",
    "start_time = time.time() # Record start time\n",
    "random_search = RandomizedSearchCV(estimator=svc, param_distributions=param_distributions, scoring='roc_auc', n_iter=16, cv=5, verbose=2, n_jobs=-1, random_state=10820034)\n",
    "random_search.fit(X_selected, y_smote)\n",
    "end_time = time.time()  # Record end time\n",
    "\n",
    "# Compute the total time taken\n",
    "total_time = end_time - start_time\n",
    "\n",
    "# Print the total computing time\n",
    "print(\"Total computing time:\", total_time, \"seconds\")\n",
    "\n",
    "# Best hyperparameters\n",
    "best_params = random_search.best_params_\n",
    "print(\"Best hyperparameters:\", best_params)\n",
    "\n",
    "# Get the best cross-validation score\n",
    "best_score = random_search.best_score_\n",
    "print(\"Best cross-validation score:\", best_score)\n",
    "\n",
    "# Best model from cross-validation\n",
    "best_model = random_search.best_estimator_\n",
    "\n",
    "# Compute AUC score for test data\n",
    "y_pred_proba = best_model.decision_function(X_test_selected)\n",
    "print('AUC Score (Test Data):', roc_auc_score(y_test, y_pred_proba))"
   ]
  },
  {
   "cell_type": "markdown",
   "metadata": {},
   "source": [
    "#### Bayesian Optimization"
   ]
  },
  {
   "cell_type": "code",
   "execution_count": 267,
   "metadata": {},
   "outputs": [
    {
     "name": "stdout",
     "output_type": "stream",
     "text": [
      "Fitting 5 folds for each of 1 candidates, totalling 5 fits\n",
      "Fitting 5 folds for each of 1 candidates, totalling 5 fits\n",
      "Fitting 5 folds for each of 1 candidates, totalling 5 fits\n",
      "Fitting 5 folds for each of 1 candidates, totalling 5 fits\n",
      "Fitting 5 folds for each of 1 candidates, totalling 5 fits\n",
      "Fitting 5 folds for each of 1 candidates, totalling 5 fits\n",
      "Fitting 5 folds for each of 1 candidates, totalling 5 fits\n",
      "Fitting 5 folds for each of 1 candidates, totalling 5 fits\n",
      "Fitting 5 folds for each of 1 candidates, totalling 5 fits\n",
      "Fitting 5 folds for each of 1 candidates, totalling 5 fits\n",
      "Fitting 5 folds for each of 1 candidates, totalling 5 fits\n",
      "Fitting 5 folds for each of 1 candidates, totalling 5 fits\n",
      "Fitting 5 folds for each of 1 candidates, totalling 5 fits\n",
      "Fitting 5 folds for each of 1 candidates, totalling 5 fits\n",
      "Fitting 5 folds for each of 1 candidates, totalling 5 fits\n",
      "Fitting 5 folds for each of 1 candidates, totalling 5 fits\n",
      "Total computing time: 224.0836660861969 seconds\n",
      "Best hyperparameters: OrderedDict([('C', 118.09643683238943), ('gamma', 'auto'), ('kernel', 'rbf')])\n",
      "Best cross-validation score: 0.9663614772544575\n",
      "AUC Score (Test Data): 0.8467968442520304\n"
     ]
    }
   ],
   "source": [
    "# Define the parameter grid to search\n",
    "search_space = {\n",
    "    'C': (1e-3, 1e3, 'log-uniform'), # Logarithmic scale for C\n",
    "    'kernel': ['rbf'],  # Kernel type\n",
    "    'gamma': ['scale', 'auto']  # Kernel coefficient\n",
    "}\n",
    "\n",
    "# Define the SVM classifier\n",
    "svm = SVC(probability=True, random_state=10820034)\n",
    "\n",
    "# Perform hyperparameter optimization with AUC scoring\n",
    "start_time = time.time()  # Record start time\n",
    "opt = BayesSearchCV(svm, search_space, n_iter=16, scoring='roc_auc', cv=5, n_jobs=-1, verbose=2, random_state=10820034)\n",
    "opt.fit(X_selected, y_smote)\n",
    "end_time = time.time()  # Record end time\n",
    "\n",
    "# Compute the total time taken\n",
    "total_time = end_time - start_time\n",
    "\n",
    "# Print the total computing time\n",
    "print(\"Total computing time:\", total_time, \"seconds\")\n",
    "\n",
    "# Get the best hyperparameters\n",
    "best_params = opt.best_params_\n",
    "print(\"Best hyperparameters:\", best_params)\n",
    "\n",
    "# Get the best cross-validation score\n",
    "best_score = opt.best_score_\n",
    "print(\"Best cross-validation score:\", best_score)\n",
    "\n",
    "# Best model from cross-validation\n",
    "best_model = opt.best_estimator_\n",
    "\n",
    "# Compute AUC score for test data\n",
    "y_pred_proba = best_model.decision_function(X_test_selected)\n",
    "print('AUC Score (Test Data):', roc_auc_score(y_test, y_pred_proba))"
   ]
  },
  {
   "cell_type": "markdown",
   "metadata": {},
   "source": [
    "### Sigmoid Kernel"
   ]
  },
  {
   "cell_type": "markdown",
   "metadata": {},
   "source": [
    "#### GridSearch"
   ]
  },
  {
   "cell_type": "code",
   "execution_count": 268,
   "metadata": {},
   "outputs": [
    {
     "name": "stdout",
     "output_type": "stream",
     "text": [
      "Fitting 5 folds for each of 16 candidates, totalling 80 fits\n",
      "Total computing time: 160.7701768875122 seconds\n",
      "Best hyperparameters: {'C': 0.001, 'gamma': 'scale', 'kernel': 'sigmoid'}\n",
      "Best cross-validation score: 0.9306756644657079\n",
      "AUC Score (Test Data): 0.9292371820100898\n"
     ]
    }
   ],
   "source": [
    "# Define the parameter grid to search\n",
    "param_grid = {\n",
    "    'C': [0.001, 0.01, 0.1, 1, 10, 100, 500, 1000],  # Regularization parameter\n",
    "    'kernel': ['sigmoid'],  # Kernel type\n",
    "    'gamma': ['scale', 'auto']\n",
    "}\n",
    "\n",
    "# Create SVM classifier\n",
    "svc = SVC(probability=True, random_state=10820034)\n",
    "\n",
    "# Grid search with cross-validation\n",
    "start_time = time.time()  # Record start time\n",
    "grid_search = GridSearchCV(estimator=svc, param_grid=param_grid, scoring='roc_auc', cv=5, verbose=2, n_jobs=-1)\n",
    "grid_search.fit(X_selected, y_smote)\n",
    "end_time = time.time()  # Record end time\n",
    "\n",
    "# Compute the total time taken\n",
    "total_time = end_time - start_time\n",
    "\n",
    "# Print the total computing time\n",
    "print(\"Total computing time:\", total_time, \"seconds\")\n",
    "\n",
    "# Best hyperparameters\n",
    "best_params = grid_search.best_params_\n",
    "print(\"Best hyperparameters:\", best_params)\n",
    "\n",
    "# Get the best cross-validation score\n",
    "best_score = grid_search.best_score_\n",
    "print(\"Best cross-validation score:\", best_score)\n",
    "\n",
    "# Best model from cross-validation\n",
    "best_model = grid_search.best_estimator_\n",
    "\n",
    "# Compute AUC score for test data\n",
    "y_pred_proba = best_model.decision_function(X_test_selected)\n",
    "print('AUC Score (Test Data):', roc_auc_score(y_test, y_pred_proba))"
   ]
  },
  {
   "cell_type": "markdown",
   "metadata": {},
   "source": [
    "#### Random Search"
   ]
  },
  {
   "cell_type": "code",
   "execution_count": 269,
   "metadata": {},
   "outputs": [
    {
     "name": "stdout",
     "output_type": "stream",
     "text": [
      "Fitting 5 folds for each of 16 candidates, totalling 80 fits\n"
     ]
    },
    {
     "name": "stdout",
     "output_type": "stream",
     "text": [
      "Total computing time: 165.65014624595642 seconds\n",
      "Best hyperparameters: {'C': 0.13789766063603937, 'gamma': 'scale', 'kernel': 'sigmoid'}\n",
      "Best cross-validation score: 0.8314968696336835\n",
      "AUC Score (Test Data): 0.8154137894021253\n"
     ]
    }
   ],
   "source": [
    "# Define the parameter grid to search\n",
    "param_distributions = {\n",
    "    'C': loguniform(1e-3, 1e3), # Logarithmic scale for C\n",
    "    'kernel': ['sigmoid'],  # Kernel type\n",
    "    'gamma': ['scale', 'auto']  # Kernel coefficient\n",
    "}\n",
    "\n",
    "# Create SVM classifier\n",
    "svc = SVC(probability=True, random_state=10820034)\n",
    "\n",
    "# Random search with cross-validation\n",
    "start_time = time.time() # Record start time\n",
    "random_search = RandomizedSearchCV(estimator=svc, param_distributions=param_distributions, scoring='roc_auc', n_iter=16, cv=5, verbose=2, n_jobs=-1, random_state=10820034)\n",
    "random_search.fit(X_selected, y_smote)\n",
    "end_time = time.time()  # Record end time\n",
    "\n",
    "# Compute the total time taken\n",
    "total_time = end_time - start_time\n",
    "\n",
    "# Print the total computing time\n",
    "print(\"Total computing time:\", total_time, \"seconds\")\n",
    "\n",
    "# Best hyperparameters\n",
    "best_params = random_search.best_params_\n",
    "print(\"Best hyperparameters:\", best_params)\n",
    "\n",
    "# Get the best cross-validation score\n",
    "best_score = random_search.best_score_\n",
    "print(\"Best cross-validation score:\", best_score)\n",
    "\n",
    "# Best model from cross-validation\n",
    "best_model = random_search.best_estimator_\n",
    "\n",
    "# Compute AUC score for test data\n",
    "y_pred_proba = best_model.decision_function(X_test_selected)\n",
    "print('AUC Score (Test Data):', roc_auc_score(y_test, y_pred_proba))"
   ]
  },
  {
   "cell_type": "markdown",
   "metadata": {},
   "source": [
    "#### Bayesian Optimization"
   ]
  },
  {
   "cell_type": "code",
   "execution_count": 270,
   "metadata": {},
   "outputs": [
    {
     "name": "stdout",
     "output_type": "stream",
     "text": [
      "Fitting 5 folds for each of 1 candidates, totalling 5 fits\n",
      "Fitting 5 folds for each of 1 candidates, totalling 5 fits\n",
      "Fitting 5 folds for each of 1 candidates, totalling 5 fits\n",
      "Fitting 5 folds for each of 1 candidates, totalling 5 fits\n",
      "Fitting 5 folds for each of 1 candidates, totalling 5 fits\n",
      "Fitting 5 folds for each of 1 candidates, totalling 5 fits\n",
      "Fitting 5 folds for each of 1 candidates, totalling 5 fits\n",
      "Fitting 5 folds for each of 1 candidates, totalling 5 fits\n",
      "Fitting 5 folds for each of 1 candidates, totalling 5 fits\n",
      "Fitting 5 folds for each of 1 candidates, totalling 5 fits\n",
      "Fitting 5 folds for each of 1 candidates, totalling 5 fits\n",
      "Fitting 5 folds for each of 1 candidates, totalling 5 fits\n",
      "Fitting 5 folds for each of 1 candidates, totalling 5 fits\n",
      "Fitting 5 folds for each of 1 candidates, totalling 5 fits\n",
      "Fitting 5 folds for each of 1 candidates, totalling 5 fits\n",
      "Fitting 5 folds for each of 1 candidates, totalling 5 fits\n",
      "Total computing time: 231.98261785507202 seconds\n",
      "Best hyperparameters: OrderedDict([('C', 0.001), ('gamma', 'scale'), ('kernel', 'sigmoid')])\n",
      "Best cross-validation score: 0.9306756644657079\n",
      "AUC Score (Test Data): 0.9292371820100898\n"
     ]
    }
   ],
   "source": [
    "# Define the parameter grid to search\n",
    "search_space = {\n",
    "    'C': (1e-3, 1e3, 'log-uniform'), # Logarithmic scale for C\n",
    "    'kernel': ['sigmoid'],  # Kernel type\n",
    "    'gamma': ['scale', 'auto']  # Kernel coefficient\n",
    "}\n",
    "\n",
    "# Define the SVM classifier\n",
    "svm = SVC(probability=True, random_state=10820034)\n",
    "\n",
    "# Perform hyperparameter optimization with AUC scoring\n",
    "start_time = time.time()  # Record start time\n",
    "opt = BayesSearchCV(svm, search_space, n_iter=16, scoring='roc_auc', cv=5, n_jobs=-1, verbose=2, random_state=10820034)\n",
    "opt.fit(X_selected, y_smote)\n",
    "end_time = time.time()  # Record end time\n",
    "\n",
    "# Compute the total time taken\n",
    "total_time = end_time - start_time\n",
    "\n",
    "# Print the total computing time\n",
    "print(\"Total computing time:\", total_time, \"seconds\")\n",
    "\n",
    "# Get the best hyperparameters\n",
    "best_params = opt.best_params_\n",
    "print(\"Best hyperparameters:\", best_params)\n",
    "\n",
    "# Get the best cross-validation score\n",
    "best_score = opt.best_score_\n",
    "print(\"Best cross-validation score:\", best_score)\n",
    "\n",
    "# Best model from cross-validation\n",
    "best_model = opt.best_estimator_\n",
    "\n",
    "# Compute AUC score for test data\n",
    "y_pred_proba = best_model.decision_function(X_test_selected)\n",
    "print('AUC Score (Test Data):', roc_auc_score(y_test, y_pred_proba))"
   ]
  },
  {
   "cell_type": "markdown",
   "metadata": {},
   "source": [
    "## SVC Feature Selection (20) & Hyperoptimization"
   ]
  },
  {
   "cell_type": "code",
   "execution_count": 84,
   "metadata": {},
   "outputs": [],
   "source": [
    "X = Final_Dataset_Provider_Train.drop(axis=1, columns=['Provider', 'PotentialFraud'])\n",
    "y = Final_Dataset_Provider_Train[\"PotentialFraud\"]\n",
    "\n",
    "robust_scaler = RobustScaler()\n",
    "robust_scaler.fit(X)\n",
    "X_std = robust_scaler.transform(X)"
   ]
  },
  {
   "cell_type": "code",
   "execution_count": 85,
   "metadata": {},
   "outputs": [],
   "source": [
    "X_train, X_test, y_train, y_test = train_test_split(X_std, y, test_size=0.30, stratify=y, random_state=10820034)"
   ]
  },
  {
   "cell_type": "code",
   "execution_count": 86,
   "metadata": {},
   "outputs": [
    {
     "name": "stdout",
     "output_type": "stream",
     "text": [
      "Original dataset shape Counter({0: 3433, 1: 354})\n",
      "Resample dataset shape Counter({0: 3433, 1: 3433})\n"
     ]
    }
   ],
   "source": [
    "smote = SMOTE(random_state=777)\n",
    "X_smote, y_smote = smote.fit_resample(X_train, y_train)\n",
    "\n",
    "print('Original dataset shape', Counter(y_train))\n",
    "print('Resample dataset shape', Counter(y_smote))"
   ]
  },
  {
   "cell_type": "code",
   "execution_count": 87,
   "metadata": {},
   "outputs": [],
   "source": [
    "# Initialize the SVM classifier\n",
    "estimator = LinearSVC(random_state=10820034)\n",
    "\n",
    "# Initialize RFE with the estimator and specify the number of features to select\n",
    "rfe = RFE(estimator, n_features_to_select=20)\n",
    "\n",
    "# Perform RFE to select features\n",
    "X_selected = rfe.fit_transform(X_smote, y_smote)"
   ]
  },
  {
   "cell_type": "code",
   "execution_count": 88,
   "metadata": {},
   "outputs": [],
   "source": [
    "# Get the indices of selected features\n",
    "selected_indices = rfe.get_support(indices=True)\n",
    "\n",
    "# Subset the test data using the selected indices\n",
    "X_test_selected = X_test[:, selected_indices]"
   ]
  },
  {
   "cell_type": "markdown",
   "metadata": {},
   "source": [
    "### RBF Kernel"
   ]
  },
  {
   "cell_type": "markdown",
   "metadata": {},
   "source": [
    "#### GridSearch"
   ]
  },
  {
   "cell_type": "code",
   "execution_count": 276,
   "metadata": {},
   "outputs": [
    {
     "name": "stdout",
     "output_type": "stream",
     "text": [
      "Fitting 5 folds for each of 16 candidates, totalling 80 fits\n"
     ]
    },
    {
     "name": "stdout",
     "output_type": "stream",
     "text": [
      "Total computing time: 134.8345980644226 seconds\n",
      "Best hyperparameters: {'C': 100, 'gamma': 'auto', 'kernel': 'rbf'}\n",
      "Best cross-validation score: 0.9496701403530808\n",
      "AUC Score (Test Data): 0.8036557658592437\n"
     ]
    }
   ],
   "source": [
    "# Define the parameter grid to search\n",
    "param_grid = {\n",
    "    'C': [0.001, 0.01, 0.1, 1, 10, 100, 500, 1000],  # Regularization parameter\n",
    "    'kernel': ['rbf'],  # Kernel type\n",
    "    'gamma': ['scale', 'auto'] # Kernel coefficient\n",
    "}\n",
    "\n",
    "# Create SVM classifier\n",
    "svc = SVC(probability=True, random_state=10820034)\n",
    "\n",
    "# Grid search with cross-validation\n",
    "start_time = time.time()  # Record start time\n",
    "grid_search = GridSearchCV(estimator=svc, param_grid=param_grid, scoring='roc_auc', cv=5, verbose=2, n_jobs=-1)\n",
    "grid_search.fit(X_selected, y_smote)\n",
    "end_time = time.time()  # Record end time\n",
    "\n",
    "# Compute the total time taken\n",
    "total_time = end_time - start_time\n",
    "\n",
    "# Print the total computing time\n",
    "print(\"Total computing time:\", total_time, \"seconds\")\n",
    "\n",
    "# Best hyperparameters\n",
    "best_params = grid_search.best_params_\n",
    "print(\"Best hyperparameters:\", best_params)\n",
    "\n",
    "# Get the best cross-validation score\n",
    "best_score = grid_search.best_score_\n",
    "print(\"Best cross-validation score:\", best_score)\n",
    "\n",
    "# Best model from cross-validation\n",
    "best_model = grid_search.best_estimator_\n",
    "\n",
    "# Compute AUC score for test data\n",
    "y_pred_proba = best_model.decision_function(X_test_selected)\n",
    "print('AUC Score (Test Data):', roc_auc_score(y_test, y_pred_proba))"
   ]
  },
  {
   "cell_type": "markdown",
   "metadata": {},
   "source": [
    "#### Random Search"
   ]
  },
  {
   "cell_type": "code",
   "execution_count": 277,
   "metadata": {},
   "outputs": [
    {
     "name": "stdout",
     "output_type": "stream",
     "text": [
      "Fitting 5 folds for each of 16 candidates, totalling 80 fits\n",
      "Total computing time: 125.83461308479309 seconds\n",
      "Best hyperparameters: {'C': 72.32357858907149, 'gamma': 'auto', 'kernel': 'rbf'}\n",
      "Best cross-validation score: 0.9484185090058201\n",
      "AUC Score (Test Data): 0.8106640666929049\n"
     ]
    }
   ],
   "source": [
    "# Define the parameter grid to search\n",
    "param_distributions = {\n",
    "    'C': loguniform(1e-3, 1e3), # Logarithmic scale for C\n",
    "    'kernel': ['rbf'],  # Kernel type\n",
    "    'gamma': ['scale', 'auto']  # Kernel coefficient\n",
    "}\n",
    "\n",
    "# Create SVM classifier\n",
    "svc = SVC(probability=True, random_state=10820034)\n",
    "\n",
    "# Random search with cross-validation\n",
    "start_time = time.time() # Record start time\n",
    "random_search = RandomizedSearchCV(estimator=svc, param_distributions=param_distributions, scoring='roc_auc', n_iter=16, cv=5, verbose=2, n_jobs=-1, random_state=10820034)\n",
    "random_search.fit(X_selected, y_smote)\n",
    "end_time = time.time()  # Record end time\n",
    "\n",
    "# Compute the total time taken\n",
    "total_time = end_time - start_time\n",
    "\n",
    "# Print the total computing time\n",
    "print(\"Total computing time:\", total_time, \"seconds\")\n",
    "\n",
    "# Best hyperparameters\n",
    "best_params = random_search.best_params_\n",
    "print(\"Best hyperparameters:\", best_params)\n",
    "\n",
    "# Get the best cross-validation score\n",
    "best_score = random_search.best_score_\n",
    "print(\"Best cross-validation score:\", best_score)\n",
    "\n",
    "# Best model from cross-validation\n",
    "best_model = random_search.best_estimator_\n",
    "\n",
    "# Compute AUC score for test data\n",
    "y_pred_proba = best_model.decision_function(X_test_selected)\n",
    "print('AUC Score (Test Data):', roc_auc_score(y_test, y_pred_proba))"
   ]
  },
  {
   "cell_type": "markdown",
   "metadata": {},
   "source": [
    "#### Bayesian Optimization"
   ]
  },
  {
   "cell_type": "code",
   "execution_count": 278,
   "metadata": {},
   "outputs": [
    {
     "name": "stdout",
     "output_type": "stream",
     "text": [
      "Fitting 5 folds for each of 1 candidates, totalling 5 fits\n",
      "Fitting 5 folds for each of 1 candidates, totalling 5 fits\n",
      "Fitting 5 folds for each of 1 candidates, totalling 5 fits\n",
      "Fitting 5 folds for each of 1 candidates, totalling 5 fits\n",
      "Fitting 5 folds for each of 1 candidates, totalling 5 fits\n",
      "Fitting 5 folds for each of 1 candidates, totalling 5 fits\n",
      "Fitting 5 folds for each of 1 candidates, totalling 5 fits\n",
      "Fitting 5 folds for each of 1 candidates, totalling 5 fits\n",
      "Fitting 5 folds for each of 1 candidates, totalling 5 fits\n",
      "Fitting 5 folds for each of 1 candidates, totalling 5 fits\n",
      "Fitting 5 folds for each of 1 candidates, totalling 5 fits\n",
      "Fitting 5 folds for each of 1 candidates, totalling 5 fits\n",
      "Fitting 5 folds for each of 1 candidates, totalling 5 fits\n",
      "Fitting 5 folds for each of 1 candidates, totalling 5 fits\n",
      "Fitting 5 folds for each of 1 candidates, totalling 5 fits\n",
      "Fitting 5 folds for each of 1 candidates, totalling 5 fits\n",
      "Total computing time: 162.0906937122345 seconds\n",
      "Best hyperparameters: OrderedDict([('C', 127.93318550373345), ('gamma', 'auto'), ('kernel', 'rbf')])\n",
      "Best cross-validation score: 0.9503134925097955\n",
      "AUC Score (Test Data): 0.8029625389101577\n"
     ]
    }
   ],
   "source": [
    "# Define the parameter grid to search\n",
    "search_space = {\n",
    "    'C': (1e-3, 1e3, 'log-uniform'), # Logarithmic scale for C\n",
    "    'kernel': ['rbf'],  # Kernel type\n",
    "    'gamma': ['scale', 'auto']  # Kernel coefficient\n",
    "}\n",
    "\n",
    "# Define the SVM classifier\n",
    "svm = SVC(probability=True, random_state=10820034)\n",
    "\n",
    "# Perform hyperparameter optimization with AUC scoring\n",
    "start_time = time.time()  # Record start time\n",
    "opt = BayesSearchCV(svm, search_space, n_iter=16, scoring='roc_auc', cv=5, n_jobs=-1, verbose=2, random_state=10820034)\n",
    "opt.fit(X_selected, y_smote)\n",
    "end_time = time.time()  # Record end time\n",
    "\n",
    "# Compute the total time taken\n",
    "total_time = end_time - start_time\n",
    "\n",
    "# Print the total computing time\n",
    "print(\"Total computing time:\", total_time, \"seconds\")\n",
    "\n",
    "# Get the best hyperparameters\n",
    "best_params = opt.best_params_\n",
    "print(\"Best hyperparameters:\", best_params)\n",
    "\n",
    "# Get the best cross-validation score\n",
    "best_score = opt.best_score_\n",
    "print(\"Best cross-validation score:\", best_score)\n",
    "\n",
    "# Best model from cross-validation\n",
    "best_model = opt.best_estimator_\n",
    "\n",
    "# Compute AUC score for test data\n",
    "y_pred_proba = best_model.decision_function(X_test_selected)\n",
    "print('AUC Score (Test Data):', roc_auc_score(y_test, y_pred_proba))"
   ]
  },
  {
   "cell_type": "markdown",
   "metadata": {},
   "source": [
    "### Sigmoid Kernel"
   ]
  },
  {
   "cell_type": "markdown",
   "metadata": {},
   "source": [
    "#### GridSearch"
   ]
  },
  {
   "cell_type": "code",
   "execution_count": 279,
   "metadata": {},
   "outputs": [
    {
     "name": "stdout",
     "output_type": "stream",
     "text": [
      "Fitting 5 folds for each of 16 candidates, totalling 80 fits\n"
     ]
    },
    {
     "name": "stdout",
     "output_type": "stream",
     "text": [
      "Total computing time: 99.38761472702026 seconds\n",
      "Best hyperparameters: {'C': 0.001, 'gamma': 'scale', 'kernel': 'sigmoid'}\n",
      "Best cross-validation score: 0.9304495692930665\n",
      "AUC Score (Test Data): 0.9292014025546531\n"
     ]
    }
   ],
   "source": [
    "# Define the parameter grid to search\n",
    "param_grid = {\n",
    "    'C': [0.001, 0.01, 0.1, 1, 10, 100, 500, 1000],  # Regularization parameter\n",
    "    'kernel': ['sigmoid'],  # Kernel type\n",
    "    'gamma': ['scale', 'auto']\n",
    "}\n",
    "\n",
    "# Create SVM classifier\n",
    "svc = SVC(probability=True, random_state=10820034)\n",
    "\n",
    "# Grid search with cross-validation\n",
    "start_time = time.time()  # Record start time\n",
    "grid_search = GridSearchCV(estimator=svc, param_grid=param_grid, scoring='roc_auc', cv=5, verbose=2, n_jobs=-1)\n",
    "grid_search.fit(X_selected, y_smote)\n",
    "end_time = time.time()  # Record end time\n",
    "\n",
    "# Compute the total time taken\n",
    "total_time = end_time - start_time\n",
    "\n",
    "# Print the total computing time\n",
    "print(\"Total computing time:\", total_time, \"seconds\")\n",
    "\n",
    "# Best hyperparameters\n",
    "best_params = grid_search.best_params_\n",
    "print(\"Best hyperparameters:\", best_params)\n",
    "\n",
    "# Get the best cross-validation score\n",
    "best_score = grid_search.best_score_\n",
    "print(\"Best cross-validation score:\", best_score)\n",
    "\n",
    "# Best model from cross-validation\n",
    "best_model = grid_search.best_estimator_\n",
    "\n",
    "# Compute AUC score for test data\n",
    "y_pred_proba = best_model.decision_function(X_test_selected)\n",
    "print('AUC Score (Test Data):', roc_auc_score(y_test, y_pred_proba))"
   ]
  },
  {
   "cell_type": "markdown",
   "metadata": {},
   "source": [
    "#### Random Search"
   ]
  },
  {
   "cell_type": "code",
   "execution_count": 280,
   "metadata": {},
   "outputs": [
    {
     "name": "stdout",
     "output_type": "stream",
     "text": [
      "Fitting 5 folds for each of 16 candidates, totalling 80 fits\n",
      "Total computing time: 101.29069328308105 seconds\n",
      "Best hyperparameters: {'C': 0.13789766063603937, 'gamma': 'scale', 'kernel': 'sigmoid'}\n",
      "Best cross-validation score: 0.8353874646372453\n",
      "AUC Score (Test Data): 0.8156150488389569\n"
     ]
    }
   ],
   "source": [
    "# Define the parameter grid to search\n",
    "param_distributions = {\n",
    "    'C': loguniform(1e-3, 1e3), # Logarithmic scale for C\n",
    "    'kernel': ['sigmoid'],  # Kernel type\n",
    "    'gamma': ['scale', 'auto']  # Kernel coefficient\n",
    "}\n",
    "\n",
    "# Create SVM classifier\n",
    "svc = SVC(probability=True, random_state=10820034)\n",
    "\n",
    "# Random search with cross-validation\n",
    "start_time = time.time() # Record start time\n",
    "random_search = RandomizedSearchCV(estimator=svc, param_distributions=param_distributions, scoring='roc_auc', n_iter=16, cv=5, verbose=2, n_jobs=-1, random_state=10820034)\n",
    "random_search.fit(X_selected, y_smote)\n",
    "end_time = time.time()  # Record end time\n",
    "\n",
    "# Compute the total time taken\n",
    "total_time = end_time - start_time\n",
    "\n",
    "# Print the total computing time\n",
    "print(\"Total computing time:\", total_time, \"seconds\")\n",
    "\n",
    "# Best hyperparameters\n",
    "best_params = random_search.best_params_\n",
    "print(\"Best hyperparameters:\", best_params)\n",
    "\n",
    "# Get the best cross-validation score\n",
    "best_score = random_search.best_score_\n",
    "print(\"Best cross-validation score:\", best_score)\n",
    "\n",
    "# Best model from cross-validation\n",
    "best_model = random_search.best_estimator_\n",
    "\n",
    "# Compute AUC score for test data\n",
    "y_pred_proba = best_model.decision_function(X_test_selected)\n",
    "print('AUC Score (Test Data):', roc_auc_score(y_test, y_pred_proba))"
   ]
  },
  {
   "cell_type": "markdown",
   "metadata": {},
   "source": [
    "#### Bayesian Optimization"
   ]
  },
  {
   "cell_type": "code",
   "execution_count": 281,
   "metadata": {},
   "outputs": [
    {
     "name": "stdout",
     "output_type": "stream",
     "text": [
      "Fitting 5 folds for each of 1 candidates, totalling 5 fits\n",
      "Fitting 5 folds for each of 1 candidates, totalling 5 fits\n",
      "Fitting 5 folds for each of 1 candidates, totalling 5 fits\n",
      "Fitting 5 folds for each of 1 candidates, totalling 5 fits\n",
      "Fitting 5 folds for each of 1 candidates, totalling 5 fits\n",
      "Fitting 5 folds for each of 1 candidates, totalling 5 fits\n",
      "Fitting 5 folds for each of 1 candidates, totalling 5 fits\n",
      "Fitting 5 folds for each of 1 candidates, totalling 5 fits\n",
      "Fitting 5 folds for each of 1 candidates, totalling 5 fits\n",
      "Fitting 5 folds for each of 1 candidates, totalling 5 fits\n",
      "Fitting 5 folds for each of 1 candidates, totalling 5 fits\n",
      "Fitting 5 folds for each of 1 candidates, totalling 5 fits\n",
      "Fitting 5 folds for each of 1 candidates, totalling 5 fits\n",
      "Fitting 5 folds for each of 1 candidates, totalling 5 fits\n",
      "Fitting 5 folds for each of 1 candidates, totalling 5 fits\n",
      "Fitting 5 folds for each of 1 candidates, totalling 5 fits\n",
      "Total computing time: 122.22396397590637 seconds\n",
      "Best hyperparameters: OrderedDict([('C', 0.001), ('gamma', 'scale'), ('kernel', 'sigmoid')])\n",
      "Best cross-validation score: 0.9304495692930665\n",
      "AUC Score (Test Data): 0.9292014025546531\n"
     ]
    }
   ],
   "source": [
    "# Define the parameter grid to search\n",
    "search_space = {\n",
    "    'C': (1e-3, 1e3, 'log-uniform'), # Logarithmic scale for C\n",
    "    'kernel': ['sigmoid'],  # Kernel type\n",
    "    'gamma': ['scale', 'auto']  # Kernel coefficient\n",
    "}\n",
    "\n",
    "# Define the SVM classifier\n",
    "svm = SVC(probability=True, random_state=10820034)\n",
    "\n",
    "# Perform hyperparameter optimization with AUC scoring\n",
    "start_time = time.time()  # Record start time\n",
    "opt = BayesSearchCV(svm, search_space, n_iter=16, scoring='roc_auc', cv=5, n_jobs=-1, verbose=2, random_state=10820034)\n",
    "opt.fit(X_selected, y_smote)\n",
    "end_time = time.time()  # Record end time\n",
    "\n",
    "# Compute the total time taken\n",
    "total_time = end_time - start_time\n",
    "\n",
    "# Print the total computing time\n",
    "print(\"Total computing time:\", total_time, \"seconds\")\n",
    "\n",
    "# Get the best hyperparameters\n",
    "best_params = opt.best_params_\n",
    "print(\"Best hyperparameters:\", best_params)\n",
    "\n",
    "# Get the best cross-validation score\n",
    "best_score = opt.best_score_\n",
    "print(\"Best cross-validation score:\", best_score)\n",
    "\n",
    "# Best model from cross-validation\n",
    "best_model = opt.best_estimator_\n",
    "\n",
    "# Compute AUC score for test data\n",
    "y_pred_proba = best_model.decision_function(X_test_selected)\n",
    "print('AUC Score (Test Data):', roc_auc_score(y_test, y_pred_proba))"
   ]
  },
  {
   "cell_type": "markdown",
   "metadata": {},
   "source": [
    "## Conclusion"
   ]
  },
  {
   "cell_type": "markdown",
   "metadata": {},
   "source": [
    "Model terbaik diperoleh oleh SVM Linear hasil optimasi Bayesian dengan 20 fitur."
   ]
  },
  {
   "cell_type": "code",
   "execution_count": 84,
   "metadata": {},
   "outputs": [],
   "source": [
    "X = Final_Dataset_Provider_Train.drop(axis=1, columns=['Provider', 'PotentialFraud'])\n",
    "y = Final_Dataset_Provider_Train[\"PotentialFraud\"]\n",
    "\n",
    "robust_scaler = RobustScaler()\n",
    "robust_scaler.fit(X)\n",
    "X_std = robust_scaler.transform(X)"
   ]
  },
  {
   "cell_type": "code",
   "execution_count": 85,
   "metadata": {},
   "outputs": [],
   "source": [
    "X_train, X_test, y_train, y_test = train_test_split(X_std, y, test_size=0.30, stratify=y, random_state=10820034)"
   ]
  },
  {
   "cell_type": "code",
   "execution_count": 86,
   "metadata": {},
   "outputs": [
    {
     "name": "stdout",
     "output_type": "stream",
     "text": [
      "Original dataset shape Counter({0: 3433, 1: 354})\n",
      "Resample dataset shape Counter({0: 3433, 1: 3433})\n"
     ]
    }
   ],
   "source": [
    "smote = SMOTE(random_state=777)\n",
    "X_smote, y_smote = smote.fit_resample(X_train, y_train)\n",
    "\n",
    "print('Original dataset shape', Counter(y_train))\n",
    "print('Resample dataset shape', Counter(y_smote))"
   ]
  },
  {
   "cell_type": "code",
   "execution_count": 87,
   "metadata": {},
   "outputs": [],
   "source": [
    "# Initialize the SVM classifier\n",
    "estimator = LinearSVC(random_state=10820034)\n",
    "\n",
    "# Initialize RFE with the estimator and specify the number of features to select\n",
    "rfe = RFE(estimator, n_features_to_select=20)\n",
    "\n",
    "# Perform RFE to select features\n",
    "X_selected = rfe.fit_transform(X_smote, y_smote)"
   ]
  },
  {
   "cell_type": "code",
   "execution_count": 88,
   "metadata": {},
   "outputs": [],
   "source": [
    "# Get the indices of selected features\n",
    "selected_indices = rfe.get_support(indices=True)\n",
    "\n",
    "# Subset the test data using the selected indices\n",
    "X_test_selected = X_test[:, selected_indices]"
   ]
  },
  {
   "cell_type": "code",
   "execution_count": 89,
   "metadata": {},
   "outputs": [
    {
     "name": "stdout",
     "output_type": "stream",
     "text": [
      "Fitting 5 folds for each of 1 candidates, totalling 5 fits\n",
      "Fitting 5 folds for each of 1 candidates, totalling 5 fits\n",
      "Fitting 5 folds for each of 1 candidates, totalling 5 fits\n",
      "Fitting 5 folds for each of 1 candidates, totalling 5 fits\n",
      "Fitting 5 folds for each of 1 candidates, totalling 5 fits\n",
      "Fitting 5 folds for each of 1 candidates, totalling 5 fits\n",
      "Fitting 5 folds for each of 1 candidates, totalling 5 fits\n",
      "Fitting 5 folds for each of 1 candidates, totalling 5 fits\n",
      "Fitting 5 folds for each of 1 candidates, totalling 5 fits\n",
      "Fitting 5 folds for each of 1 candidates, totalling 5 fits\n",
      "Fitting 5 folds for each of 1 candidates, totalling 5 fits\n",
      "Fitting 5 folds for each of 1 candidates, totalling 5 fits\n",
      "Total computing time: 12.063306331634521 seconds\n",
      "Best hyperparameters: OrderedDict([('C', 1.5410631435715085)])\n",
      "Best cross-validation score: 0.9382377358418073\n",
      "AUC Score (Test Data): 0.9345235965508605\n"
     ]
    }
   ],
   "source": [
    "# Define the parameter grid to search\n",
    "search_space = {\n",
    "    'C': (1e-3, 1e+3, 'log-uniform') # Logarithmic scale for C\n",
    "}\n",
    "\n",
    "\n",
    "# Perform hyperparameter optimization with AUC scoring\n",
    "start_time = time.time()  # Record start time\n",
    "opt = BayesSearchCV(LinearSVC(random_state=10820034), search_space, n_iter=12, scoring='roc_auc', cv=5, n_jobs=-1, verbose=2, random_state=10820034)\n",
    "opt.fit(X_selected, y_smote)\n",
    "end_time = time.time()  # Record end time\n",
    "\n",
    "# Compute the total time taken\n",
    "total_time = end_time - start_time\n",
    "\n",
    "# Print the total computing time\n",
    "print(\"Total computing time:\", total_time, \"seconds\")\n",
    "\n",
    "# Get the best hyperparameters\n",
    "best_params = opt.best_params_\n",
    "print(\"Best hyperparameters:\", best_params)\n",
    "\n",
    "# Get the best cross-validation score\n",
    "best_score = opt.best_score_\n",
    "print(\"Best cross-validation score:\", best_score)\n",
    "\n",
    "# Best model from cross-validation\n",
    "best_model = opt.best_estimator_\n",
    "\n",
    "# Compute AUC score for test data\n",
    "y_pred_proba = best_model.decision_function(X_test_selected)\n",
    "print('AUC Score (Test Data):', roc_auc_score(y_test, y_pred_proba))"
   ]
  },
  {
   "cell_type": "code",
   "execution_count": 93,
   "metadata": {},
   "outputs": [
    {
     "data": {
      "image/png": "[encoded data removed]",
      "text/plain": [
       "<Figure size 432x288 with 1 Axes>"
      ]
     },
     "metadata": {
      "needs_background": "light"
     },
     "output_type": "display_data"
    },
    {
     "data": {
      "image/png": "[encoded data removed]",
      "text/plain": [
       "<Figure size 432x288 with 1 Axes>"
      ]
     },
     "metadata": {
      "needs_background": "light"
     },
     "output_type": "display_data"
    },
    {
     "name": "stdout",
     "output_type": "stream",
     "text": [
      "Classification Report:\n",
      "              precision    recall  f1-score   support\n",
      "\n",
      "           0       0.98      0.90      0.94      1471\n",
      "           1       0.46      0.79      0.58       152\n",
      "\n",
      "    accuracy                           0.89      1623\n",
      "   macro avg       0.72      0.85      0.76      1623\n",
      "weighted avg       0.93      0.89      0.90      1623\n",
      "\n"
     ]
    }
   ],
   "source": [
    "# Compute ROC curve and AUC using best cross-validation data\n",
    "y_pred_proba = best_model.decision_function(X_test_selected)\n",
    "fpr, tpr, _ = roc_curve(y_test, y_pred_proba)\n",
    "roc_auc = roc_auc_score(y_test, y_pred_proba)\n",
    "\n",
    "# Plot ROC curve\n",
    "plt.figure()\n",
    "plt.plot(fpr, tpr, color='darkorange', lw=2, label='ROC curve (area = %0.5f)' % roc_auc)\n",
    "plt.plot([0, 1], [0, 1], color='navy', lw=2, linestyle='--')\n",
    "plt.xlim([0.0, 1.0])\n",
    "plt.ylim([0.0, 1.05])\n",
    "plt.xlabel('False Positive Rate')\n",
    "plt.ylabel('True Positive Rate')\n",
    "plt.title('Receiver Operating Characteristic')\n",
    "plt.legend(loc=\"lower right\")\n",
    "plt.show()\n",
    "\n",
    "# Generate confusion matrix\n",
    "y_pred = best_model.predict(X_test_selected)\n",
    "cm = confusion_matrix(y_test, y_pred)\n",
    "\n",
    "# Plot confusion matrix\n",
    "plt.figure(figsize=(6, 4))\n",
    "sns.heatmap(cm, annot=True, fmt='d', cmap='Blues', cbar=False)\n",
    "plt.xlabel('Predicted labels')\n",
    "plt.ylabel('True labels')\n",
    "plt.title('Confusion Matrix')\n",
    "plt.show()\n",
    "\n",
    "# Print classification report\n",
    "print(\"Classification Report:\")\n",
    "print(classification_report(y_test, y_pred))"
   ]
  }
 ],
 "metadata": {
  "kernelspec": {
   "display_name": "Python 3",
   "language": "python",
   "name": "python3"
  },
  "language_info": {
   "codemirror_mode": {
    "name": "ipython",
    "version": 3
   },
   "file_extension": ".py",
   "mimetype": "text/x-python",
   "name": "python",
   "nbconvert_exporter": "python",
   "pygments_lexer": "ipython3",
   "version": "3.9.7"
  },
  "orig_nbformat": 4,
  "vscode": {
   "interpreter": {
    "hash": "cdf433682cbe9968d7764873f87164db8641effb758ebee62e489150bdf64f5a"
   }
  }
 },
 "nbformat": 4,
 "nbformat_minor": 2
}
